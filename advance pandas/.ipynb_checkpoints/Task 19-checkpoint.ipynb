{
 "cells": [
  {
   "cell_type": "markdown",
   "metadata": {
    "id": "mGBzdavGOUdP"
   },
   "source": [
    "## **Questions based on Titanic Dataset:**\n",
    "\n",
    "To read the dataset as csv, use the below code:\n",
    "\n",
    "```python\n",
    "import pandas as pd\n",
    "\n",
    "url = \"https://docs.google.com/spreadsheets/d/e/2PACX-1vQjh5HzZ1N0SU7ME9ZQRzeVTaXaGsV97rU8R7eAcg53k27GTstJp9cRUOfr55go1GRRvTz1NwvyOnuh/pub?gid=1562145139&single=true&output=csv\"\n",
    "titanic_df = pd.read_csv(url)\n",
    "```"
   ]
  },
  {
   "cell_type": "code",
   "execution_count": 2,
   "metadata": {
    "ExecuteTime": {
     "end_time": "2024-05-21T02:06:24.509566Z",
     "start_time": "2024-05-21T02:06:22.684203Z"
    }
   },
   "outputs": [
    {
     "data": {
      "text/html": [
       "<div>\n",
       "<style scoped>\n",
       "    .dataframe tbody tr th:only-of-type {\n",
       "        vertical-align: middle;\n",
       "    }\n",
       "\n",
       "    .dataframe tbody tr th {\n",
       "        vertical-align: top;\n",
       "    }\n",
       "\n",
       "    .dataframe thead th {\n",
       "        text-align: right;\n",
       "    }\n",
       "</style>\n",
       "<table border=\"1\" class=\"dataframe\">\n",
       "  <thead>\n",
       "    <tr style=\"text-align: right;\">\n",
       "      <th></th>\n",
       "      <th>PassengerId</th>\n",
       "      <th>Survived</th>\n",
       "      <th>Pclass</th>\n",
       "      <th>Name</th>\n",
       "      <th>Sex</th>\n",
       "      <th>Age</th>\n",
       "      <th>SibSp</th>\n",
       "      <th>Parch</th>\n",
       "      <th>Ticket</th>\n",
       "      <th>Fare</th>\n",
       "      <th>Cabin</th>\n",
       "      <th>Embarked</th>\n",
       "    </tr>\n",
       "  </thead>\n",
       "  <tbody>\n",
       "    <tr>\n",
       "      <th>0</th>\n",
       "      <td>1</td>\n",
       "      <td>0</td>\n",
       "      <td>3</td>\n",
       "      <td>Braund, Mr. Owen Harris</td>\n",
       "      <td>male</td>\n",
       "      <td>22.0</td>\n",
       "      <td>1</td>\n",
       "      <td>0</td>\n",
       "      <td>A/5 21171</td>\n",
       "      <td>7.2500</td>\n",
       "      <td>NaN</td>\n",
       "      <td>S</td>\n",
       "    </tr>\n",
       "    <tr>\n",
       "      <th>1</th>\n",
       "      <td>2</td>\n",
       "      <td>1</td>\n",
       "      <td>1</td>\n",
       "      <td>Cumings, Mrs. John Bradley (Florence Briggs Th...</td>\n",
       "      <td>female</td>\n",
       "      <td>38.0</td>\n",
       "      <td>1</td>\n",
       "      <td>0</td>\n",
       "      <td>PC 17599</td>\n",
       "      <td>71.2833</td>\n",
       "      <td>C85</td>\n",
       "      <td>C</td>\n",
       "    </tr>\n",
       "    <tr>\n",
       "      <th>2</th>\n",
       "      <td>3</td>\n",
       "      <td>1</td>\n",
       "      <td>3</td>\n",
       "      <td>Heikkinen, Miss. Laina</td>\n",
       "      <td>female</td>\n",
       "      <td>26.0</td>\n",
       "      <td>0</td>\n",
       "      <td>0</td>\n",
       "      <td>STON/O2. 3101282</td>\n",
       "      <td>7.9250</td>\n",
       "      <td>NaN</td>\n",
       "      <td>S</td>\n",
       "    </tr>\n",
       "    <tr>\n",
       "      <th>3</th>\n",
       "      <td>4</td>\n",
       "      <td>1</td>\n",
       "      <td>1</td>\n",
       "      <td>Futrelle, Mrs. Jacques Heath (Lily May Peel)</td>\n",
       "      <td>female</td>\n",
       "      <td>35.0</td>\n",
       "      <td>1</td>\n",
       "      <td>0</td>\n",
       "      <td>113803</td>\n",
       "      <td>53.1000</td>\n",
       "      <td>C123</td>\n",
       "      <td>S</td>\n",
       "    </tr>\n",
       "    <tr>\n",
       "      <th>4</th>\n",
       "      <td>5</td>\n",
       "      <td>0</td>\n",
       "      <td>3</td>\n",
       "      <td>Allen, Mr. William Henry</td>\n",
       "      <td>male</td>\n",
       "      <td>35.0</td>\n",
       "      <td>0</td>\n",
       "      <td>0</td>\n",
       "      <td>373450</td>\n",
       "      <td>8.0500</td>\n",
       "      <td>NaN</td>\n",
       "      <td>S</td>\n",
       "    </tr>\n",
       "  </tbody>\n",
       "</table>\n",
       "</div>"
      ],
      "text/plain": [
       "   PassengerId  Survived  Pclass  \\\n",
       "0            1         0       3   \n",
       "1            2         1       1   \n",
       "2            3         1       3   \n",
       "3            4         1       1   \n",
       "4            5         0       3   \n",
       "\n",
       "                                                Name     Sex   Age  SibSp  \\\n",
       "0                            Braund, Mr. Owen Harris    male  22.0      1   \n",
       "1  Cumings, Mrs. John Bradley (Florence Briggs Th...  female  38.0      1   \n",
       "2                             Heikkinen, Miss. Laina  female  26.0      0   \n",
       "3       Futrelle, Mrs. Jacques Heath (Lily May Peel)  female  35.0      1   \n",
       "4                           Allen, Mr. William Henry    male  35.0      0   \n",
       "\n",
       "   Parch            Ticket     Fare Cabin Embarked  \n",
       "0      0         A/5 21171   7.2500   NaN        S  \n",
       "1      0          PC 17599  71.2833   C85        C  \n",
       "2      0  STON/O2. 3101282   7.9250   NaN        S  \n",
       "3      0            113803  53.1000  C123        S  \n",
       "4      0            373450   8.0500   NaN        S  "
      ]
     },
     "execution_count": 2,
     "metadata": {},
     "output_type": "execute_result"
    }
   ],
   "source": [
    "import pandas as pd\n",
    "\n",
    "url = \"https://docs.google.com/spreadsheets/d/e/2PACX-1vQjh5HzZ1N0SU7ME9ZQRzeVTaXaGsV97rU8R7eAcg53k27GTstJp9cRUOfr55go1GRRvTz1NwvyOnuh/pub?gid=1562145139&single=true&output=csv\"\n",
    "titanic_df = pd.read_csv(url)\n",
    "titanic_df.head()"
   ]
  },
  {
   "cell_type": "markdown",
   "metadata": {
    "id": "HsmRWKRoOa0-"
   },
   "source": [
    "### `Q-1:` Using `groupby` make groups using the `\"Pclass\"` column and find out the average age and total number of missing values in the `\"Age\"` column for every group."
   ]
  },
  {
   "cell_type": "code",
   "execution_count": 4,
   "metadata": {
    "ExecuteTime": {
     "end_time": "2024-05-21T02:07:15.357426Z",
     "start_time": "2024-05-21T02:07:15.338925Z"
    },
    "id": "OdPLAvd4OVS6"
   },
   "outputs": [
    {
     "data": {
      "text/html": [
       "<div>\n",
       "<style scoped>\n",
       "    .dataframe tbody tr th:only-of-type {\n",
       "        vertical-align: middle;\n",
       "    }\n",
       "\n",
       "    .dataframe tbody tr th {\n",
       "        vertical-align: top;\n",
       "    }\n",
       "\n",
       "    .dataframe thead th {\n",
       "        text-align: right;\n",
       "    }\n",
       "</style>\n",
       "<table border=\"1\" class=\"dataframe\">\n",
       "  <thead>\n",
       "    <tr style=\"text-align: right;\">\n",
       "      <th></th>\n",
       "      <th>PassengerId</th>\n",
       "      <th>Survived</th>\n",
       "      <th>Name</th>\n",
       "      <th>Sex</th>\n",
       "      <th>Age</th>\n",
       "      <th>SibSp</th>\n",
       "      <th>Parch</th>\n",
       "      <th>Ticket</th>\n",
       "      <th>Fare</th>\n",
       "      <th>Cabin</th>\n",
       "      <th>Embarked</th>\n",
       "    </tr>\n",
       "    <tr>\n",
       "      <th>Pclass</th>\n",
       "      <th></th>\n",
       "      <th></th>\n",
       "      <th></th>\n",
       "      <th></th>\n",
       "      <th></th>\n",
       "      <th></th>\n",
       "      <th></th>\n",
       "      <th></th>\n",
       "      <th></th>\n",
       "      <th></th>\n",
       "      <th></th>\n",
       "    </tr>\n",
       "  </thead>\n",
       "  <tbody>\n",
       "    <tr>\n",
       "      <th>1</th>\n",
       "      <td>99705</td>\n",
       "      <td>136</td>\n",
       "      <td>Cumings, Mrs. John Bradley (Florence Briggs Th...</td>\n",
       "      <td>femalefemalemalefemalemalemalemalefemalemalema...</td>\n",
       "      <td>7111.42</td>\n",
       "      <td>90</td>\n",
       "      <td>77</td>\n",
       "      <td>PC 175991138031746311378311378819950PC 17601PC...</td>\n",
       "      <td>18177.4125</td>\n",
       "      <td>C85C123E46C103A6C23 C25 C27B78D33B30C52B28C83C...</td>\n",
       "      <td>CSSSSSCCCSCCSSCSSSCCSSCSSSCSCSSSCCSSCCCCCSSQSS...</td>\n",
       "    </tr>\n",
       "    <tr>\n",
       "      <th>2</th>\n",
       "      <td>82056</td>\n",
       "      <td>87</td>\n",
       "      <td>Nasser, Mrs. Nicholas (Adele Achem)Hewlett, Mr...</td>\n",
       "      <td>femalefemalemalemalemalemalefemalefemalefemale...</td>\n",
       "      <td>5168.83</td>\n",
       "      <td>74</td>\n",
       "      <td>70</td>\n",
       "      <td>237736248706244373239865248698C.A. 2457911668S...</td>\n",
       "      <td>3801.8417</td>\n",
       "      <td>D56F33E101F2F4F2DE101DF2F33DF33F4E101E77</td>\n",
       "      <td>CSSSSSSCSSSSSSSSSSSSCSSSCSSSSSSSCSSSSSSSSSSSSS...</td>\n",
       "    </tr>\n",
       "    <tr>\n",
       "      <th>3</th>\n",
       "      <td>215625</td>\n",
       "      <td>119</td>\n",
       "      <td>Braund, Mr. Owen HarrisHeikkinen, Miss. LainaA...</td>\n",
       "      <td>malefemalemalemalemalefemalefemalemalemalefema...</td>\n",
       "      <td>8924.92</td>\n",
       "      <td>302</td>\n",
       "      <td>193</td>\n",
       "      <td>A/5 21171STON/O2. 3101282373450330877349909347...</td>\n",
       "      <td>6714.6951</td>\n",
       "      <td>G6F G73F E69G6G6G6E10F G63F G73E121F38E121</td>\n",
       "      <td>SSSQSSSSSSQSCQSSCQSQCSSCSCQSQQCSSSCSCSCSSSSCSS...</td>\n",
       "    </tr>\n",
       "  </tbody>\n",
       "</table>\n",
       "</div>"
      ],
      "text/plain": [
       "        PassengerId  Survived  \\\n",
       "Pclass                          \n",
       "1             99705       136   \n",
       "2             82056        87   \n",
       "3            215625       119   \n",
       "\n",
       "                                                     Name  \\\n",
       "Pclass                                                      \n",
       "1       Cumings, Mrs. John Bradley (Florence Briggs Th...   \n",
       "2       Nasser, Mrs. Nicholas (Adele Achem)Hewlett, Mr...   \n",
       "3       Braund, Mr. Owen HarrisHeikkinen, Miss. LainaA...   \n",
       "\n",
       "                                                      Sex      Age  SibSp  \\\n",
       "Pclass                                                                      \n",
       "1       femalefemalemalefemalemalemalemalefemalemalema...  7111.42     90   \n",
       "2       femalefemalemalemalemalemalefemalefemalefemale...  5168.83     74   \n",
       "3       malefemalemalemalemalefemalefemalemalemalefema...  8924.92    302   \n",
       "\n",
       "        Parch                                             Ticket        Fare  \\\n",
       "Pclass                                                                         \n",
       "1          77  PC 175991138031746311378311378819950PC 17601PC...  18177.4125   \n",
       "2          70  237736248706244373239865248698C.A. 2457911668S...   3801.8417   \n",
       "3         193  A/5 21171STON/O2. 3101282373450330877349909347...   6714.6951   \n",
       "\n",
       "                                                    Cabin  \\\n",
       "Pclass                                                      \n",
       "1       C85C123E46C103A6C23 C25 C27B78D33B30C52B28C83C...   \n",
       "2                D56F33E101F2F4F2DE101DF2F33DF33F4E101E77   \n",
       "3              G6F G73F E69G6G6G6E10F G63F G73E121F38E121   \n",
       "\n",
       "                                                 Embarked  \n",
       "Pclass                                                     \n",
       "1       CSSSSSCCCSCCSSCSSSCCSSCSSSCSCSSSCCSSCCCCCSSQSS...  \n",
       "2       CSSSSSSCSSSSSSSSSSSSCSSSCSSSSSSSCSSSSSSSSSSSSS...  \n",
       "3       SSSQSSSSSSQSCQSSCQSQCSSCSCQSQQCSSSCSCSCSSSSCSS...  "
      ]
     },
     "execution_count": 4,
     "metadata": {},
     "output_type": "execute_result"
    }
   ],
   "source": [
    "# code here\n",
    "titanic_df.groupby(\"Pclass\").sum()"
   ]
  },
  {
   "cell_type": "markdown",
   "metadata": {
    "id": "CGBHGvCMOctq"
   },
   "source": [
    "### `Q-2:` Using `groupby` make groups using the `\"Pclass\"` column and fill every group's `\"Embarked\"` column's missing values with the mode value of that group. After that, print every group's `\"Embarked\"` column's value counts in ascending order."
   ]
  },
  {
   "cell_type": "code",
   "execution_count": null,
   "metadata": {
    "id": "eOMciiM_OfPU"
   },
   "outputs": [],
   "source": [
    "# code here"
   ]
  },
  {
   "cell_type": "markdown",
   "metadata": {
    "id": "3B4ieUtTOg2E"
   },
   "source": [
    "### `Q-3:` Make groups based on `\"Embarked\"` column. And for each of this embarked group, make another group based on `\"Pclass\"` and find out the average fare (round off up to 2 decimal places) for each \"Pclass\" for each group of \"Embarked\".\n",
    "\n",
    "**Sample Output:**\n",
    "\n",
    "```bash\n",
    "{'C': {1: 105, 2: 25, 3: 11},\n",
    " 'Q': {1: 90, 2: 12, 3: 11},\n",
    " 'S': {1: 70, 2: 20, 3: 15}}\n",
    "```"
   ]
  },
  {
   "cell_type": "code",
   "execution_count": null,
   "metadata": {
    "id": "rQvGcpCLOjEk"
   },
   "outputs": [],
   "source": [
    "# code here"
   ]
  },
  {
   "cell_type": "markdown",
   "metadata": {
    "id": "iS6vHZUIOnJy"
   },
   "source": [
    "## **Questions Based on Fifa Worldcup - 2022 Dataset:**\n",
    "\n",
    "You can read the dataset by using the below sample code\n",
    "\n",
    "```python\n",
    "import pandas as pd\n",
    "\n",
    "fifa_df = pd.read_csv(\"https://docs.google.com/spreadsheets/d/e/2PACX-1vT3D_x_4DS6d51LKJ7ze1sxT5WpV5uiSVOFYHLwBiGru6vFyVv5h5-83AwFjxWYiWfCDjDAaarHAV-k/pub?gid=0&single=true&output=csv\")\n",
    "```"
   ]
  },
  {
   "cell_type": "markdown",
   "metadata": {
    "id": "3GPZOvh5Oqhp"
   },
   "source": [
    "### `Q-4:` Perform `groupby` based on the `\"Team\"` column and then perform Z Normalization on top of the below columns of each group:\n",
    "1. Passes\n",
    "2. Passes Completed\n",
    "3. Attempted Line Breaks\n",
    "4. Completed Line Breaks\n",
    "\n",
    "You have to make a python function named `z_normalization` which takes two arguments:\n",
    "\n",
    "1. *group:* Every group that you have created\n",
    "2. *cols_to_perform:* This parameter takes a list of columns on which you have to perform the Z-Normalization.\n",
    "\n",
    "For this problem, you have to use th `apply()` method.\n",
    "\n",
    "$\\Large Z \\ - \\ Normalization = \\frac{X_i - \\mu}{std} $\n",
    "\n",
    "After that find out the below values for each group:\n",
    "- minimum \"Passess\"\n",
    "- maximum \"Passess\"\n",
    "- minimum \"Yellow Cards\"\n",
    "- maximum \"Yellow cards\"\n",
    "- average \"Yellow Cards\"\n",
    "- maximum \"Attempted Line Breaks\"\n",
    "- minimum \"Attempted Line Breaks\"\n",
    "- standardard deviation of \"Attempted Line Breaks\"\n",
    "- average Possession"
   ]
  },
  {
   "cell_type": "code",
   "execution_count": null,
   "metadata": {
    "id": "OuGLcl3EOnxY"
   },
   "outputs": [],
   "source": [
    "# code here"
   ]
  },
  {
   "cell_type": "markdown",
   "metadata": {
    "id": "RPjqA-OtOxDD"
   },
   "source": [
    "## **Questions on IPL wala dataset**\n",
    "\n",
    "ball by ball dataset - https://drive.google.com/file/d/1-kvv_9KCSAFWcrhS9WgTxSrURkRh6GNt/view?usp=share_link\n",
    "\n",
    "\n",
    "\n"
   ]
  },
  {
   "cell_type": "markdown",
   "metadata": {
    "id": "IeQpV8A2O0IR"
   },
   "source": [
    "###`Q-5:` Find batsman in below category-\n",
    "* Highest score while chasing\n",
    "* Best Strike rate while chasing and have faced 100+ balls\n",
    "\n",
    "\n",
    "> Chasing mean team batting in second inning"
   ]
  },
  {
   "cell_type": "code",
   "execution_count": null,
   "metadata": {
    "id": "nwa-adpMOxl4"
   },
   "outputs": [],
   "source": [
    "# code here"
   ]
  },
  {
   "cell_type": "markdown",
   "metadata": {
    "id": "Wr443WT0O2Qw"
   },
   "source": [
    "###`Q-6` Most Successful bowler against any batsman. Find that pair of bowler and batsman.\n",
    "> Most Successful in terms of dissmissal. A bowler who have dissmissed any batsman most no of times. If any two pairs have same no of dissmisal, consider runs conceded by bowler to that batsman. Those who have concede lesser runs is more successful."
   ]
  },
  {
   "cell_type": "code",
   "execution_count": null,
   "metadata": {
    "id": "oG1P4PT8O4u4"
   },
   "outputs": [],
   "source": [
    "# code here"
   ]
  },
  {
   "cell_type": "markdown",
   "metadata": {
    "id": "7BP2EDkNO6KM"
   },
   "source": [
    "###`Q-7`: Most successful batting pair in IPL. Batting pair who have scored most runs playing together.\n"
   ]
  },
  {
   "cell_type": "code",
   "execution_count": null,
   "metadata": {
    "id": "lRlbTuarO80s"
   },
   "outputs": [],
   "source": [
    "# code here"
   ]
  },
  {
   "cell_type": "markdown",
   "metadata": {
    "id": "gVJ2CnAxO-b0"
   },
   "source": [
    "###`Q-8:` Make a dataframe for all batting pairs played together.\n",
    "```\n",
    "Batsman1 Batsman2 Runs Avg StrikeRate\n",
    "```\n",
    "\n",
    "> Just to ease this question you can count wide-balls for strike rate."
   ]
  },
  {
   "cell_type": "code",
   "execution_count": null,
   "metadata": {
    "id": "S0bgMx_dPA9Y"
   },
   "outputs": [],
   "source": [
    "# code here"
   ]
  }
 ],
 "metadata": {
  "colab": {
   "provenance": []
  },
  "kernelspec": {
   "display_name": "Python 3 (ipykernel)",
   "language": "python",
   "name": "python3"
  },
  "language_info": {
   "codemirror_mode": {
    "name": "ipython",
    "version": 3
   },
   "file_extension": ".py",
   "mimetype": "text/x-python",
   "name": "python",
   "nbconvert_exporter": "python",
   "pygments_lexer": "ipython3",
   "version": "3.11.5"
  }
 },
 "nbformat": 4,
 "nbformat_minor": 1
}
