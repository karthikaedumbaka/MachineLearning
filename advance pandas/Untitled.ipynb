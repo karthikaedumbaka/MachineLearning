{
 "cells": [
  {
   "cell_type": "code",
   "execution_count": 19,
   "id": "92c4b688",
   "metadata": {
    "ExecuteTime": {
     "end_time": "2024-05-17T17:11:27.135730Z",
     "start_time": "2024-05-17T17:11:27.132622Z"
    }
   },
   "outputs": [],
   "source": [
    "import pandas as pd\n",
    "import numpy as np"
   ]
  },
  {
   "cell_type": "code",
   "execution_count": 26,
   "id": "0e9df12d",
   "metadata": {
    "ExecuteTime": {
     "end_time": "2024-05-17T17:13:07.275056Z",
     "start_time": "2024-05-17T17:13:07.258368Z"
    }
   },
   "outputs": [
    {
     "data": {
      "text/html": [
       "<div>\n",
       "<style scoped>\n",
       "    .dataframe tbody tr th:only-of-type {\n",
       "        vertical-align: middle;\n",
       "    }\n",
       "\n",
       "    .dataframe tbody tr th {\n",
       "        vertical-align: top;\n",
       "    }\n",
       "\n",
       "    .dataframe thead th {\n",
       "        text-align: right;\n",
       "    }\n",
       "</style>\n",
       "<table border=\"1\" class=\"dataframe\">\n",
       "  <thead>\n",
       "    <tr style=\"text-align: right;\">\n",
       "      <th></th>\n",
       "      <th>Series_Title</th>\n",
       "      <th>Released_Year</th>\n",
       "      <th>Runtime</th>\n",
       "      <th>Genre</th>\n",
       "      <th>IMDB_Rating</th>\n",
       "      <th>Director</th>\n",
       "      <th>Star1</th>\n",
       "      <th>No_of_Votes</th>\n",
       "      <th>Gross</th>\n",
       "      <th>Metascore</th>\n",
       "    </tr>\n",
       "  </thead>\n",
       "  <tbody>\n",
       "    <tr>\n",
       "      <th>0</th>\n",
       "      <td>The Shawshank Redemption</td>\n",
       "      <td>1994</td>\n",
       "      <td>142</td>\n",
       "      <td>Drama</td>\n",
       "      <td>9.3</td>\n",
       "      <td>Frank Darabont</td>\n",
       "      <td>Tim Robbins</td>\n",
       "      <td>2343110</td>\n",
       "      <td>28341469.0</td>\n",
       "      <td>80.0</td>\n",
       "    </tr>\n",
       "    <tr>\n",
       "      <th>1</th>\n",
       "      <td>The Godfather</td>\n",
       "      <td>1972</td>\n",
       "      <td>175</td>\n",
       "      <td>Crime</td>\n",
       "      <td>9.2</td>\n",
       "      <td>Francis Ford Coppola</td>\n",
       "      <td>Marlon Brando</td>\n",
       "      <td>1620367</td>\n",
       "      <td>134966411.0</td>\n",
       "      <td>100.0</td>\n",
       "    </tr>\n",
       "  </tbody>\n",
       "</table>\n",
       "</div>"
      ],
      "text/plain": [
       "               Series_Title Released_Year  Runtime  Genre  IMDB_Rating  \\\n",
       "0  The Shawshank Redemption          1994      142  Drama          9.3   \n",
       "1             The Godfather          1972      175  Crime          9.2   \n",
       "\n",
       "               Director          Star1  No_of_Votes        Gross  Metascore  \n",
       "0        Frank Darabont    Tim Robbins      2343110   28341469.0       80.0  \n",
       "1  Francis Ford Coppola  Marlon Brando      1620367  134966411.0      100.0  "
      ]
     },
     "execution_count": 26,
     "metadata": {},
     "output_type": "execute_result"
    }
   ],
   "source": [
    "movies = pd.read_csv(\"imdb-top-1000.csv\")\n",
    "movies.head(2)"
   ]
  },
  {
   "cell_type": "code",
   "execution_count": null,
   "id": "5d345dca",
   "metadata": {
    "ExecuteTime": {
     "end_time": "2024-05-17T17:11:28.001128Z",
     "start_time": "2024-05-17T17:11:27.995251Z"
    }
   },
   "outputs": [],
   "source": []
  },
  {
   "cell_type": "code",
   "execution_count": 29,
   "id": "4f7122d0",
   "metadata": {
    "ExecuteTime": {
     "end_time": "2024-05-17T17:14:20.903831Z",
     "start_time": "2024-05-17T17:14:20.874655Z"
    }
   },
   "outputs": [
    {
     "data": {
      "text/html": [
       "<div>\n",
       "<style scoped>\n",
       "    .dataframe tbody tr th:only-of-type {\n",
       "        vertical-align: middle;\n",
       "    }\n",
       "\n",
       "    .dataframe tbody tr th {\n",
       "        vertical-align: top;\n",
       "    }\n",
       "\n",
       "    .dataframe thead th {\n",
       "        text-align: right;\n",
       "    }\n",
       "</style>\n",
       "<table border=\"1\" class=\"dataframe\">\n",
       "  <thead>\n",
       "    <tr style=\"text-align: right;\">\n",
       "      <th></th>\n",
       "      <th>Series_Title</th>\n",
       "      <th>Released_Year</th>\n",
       "      <th>Runtime</th>\n",
       "      <th>IMDB_Rating</th>\n",
       "      <th>Director</th>\n",
       "      <th>Star1</th>\n",
       "      <th>No_of_Votes</th>\n",
       "      <th>Gross</th>\n",
       "      <th>Metascore</th>\n",
       "    </tr>\n",
       "    <tr>\n",
       "      <th>Genre</th>\n",
       "      <th></th>\n",
       "      <th></th>\n",
       "      <th></th>\n",
       "      <th></th>\n",
       "      <th></th>\n",
       "      <th></th>\n",
       "      <th></th>\n",
       "      <th></th>\n",
       "      <th></th>\n",
       "    </tr>\n",
       "  </thead>\n",
       "  <tbody>\n",
       "    <tr>\n",
       "      <th>Action</th>\n",
       "      <td>300</td>\n",
       "      <td>1924</td>\n",
       "      <td>45</td>\n",
       "      <td>7.6</td>\n",
       "      <td>Abhishek Chaubey</td>\n",
       "      <td>Aamir Khan</td>\n",
       "      <td>25312</td>\n",
       "      <td>3296.0</td>\n",
       "      <td>33.0</td>\n",
       "    </tr>\n",
       "    <tr>\n",
       "      <th>Adventure</th>\n",
       "      <td>2001: A Space Odyssey</td>\n",
       "      <td>1925</td>\n",
       "      <td>88</td>\n",
       "      <td>7.6</td>\n",
       "      <td>Akira Kurosawa</td>\n",
       "      <td>Aamir Khan</td>\n",
       "      <td>29999</td>\n",
       "      <td>61001.0</td>\n",
       "      <td>41.0</td>\n",
       "    </tr>\n",
       "    <tr>\n",
       "      <th>Animation</th>\n",
       "      <td>Akira</td>\n",
       "      <td>1940</td>\n",
       "      <td>71</td>\n",
       "      <td>7.6</td>\n",
       "      <td>Adam Elliot</td>\n",
       "      <td>Adrian Molina</td>\n",
       "      <td>25229</td>\n",
       "      <td>128985.0</td>\n",
       "      <td>61.0</td>\n",
       "    </tr>\n",
       "    <tr>\n",
       "      <th>Biography</th>\n",
       "      <td>12 Years a Slave</td>\n",
       "      <td>1928</td>\n",
       "      <td>93</td>\n",
       "      <td>7.6</td>\n",
       "      <td>Adam McKay</td>\n",
       "      <td>Adrien Brody</td>\n",
       "      <td>27254</td>\n",
       "      <td>21877.0</td>\n",
       "      <td>48.0</td>\n",
       "    </tr>\n",
       "    <tr>\n",
       "      <th>Comedy</th>\n",
       "      <td>(500) Days of Summer</td>\n",
       "      <td>1921</td>\n",
       "      <td>68</td>\n",
       "      <td>7.6</td>\n",
       "      <td>Alejandro G. Iñárritu</td>\n",
       "      <td>Aamir Khan</td>\n",
       "      <td>26337</td>\n",
       "      <td>1305.0</td>\n",
       "      <td>45.0</td>\n",
       "    </tr>\n",
       "    <tr>\n",
       "      <th>Crime</th>\n",
       "      <td>12 Angry Men</td>\n",
       "      <td>1931</td>\n",
       "      <td>80</td>\n",
       "      <td>7.6</td>\n",
       "      <td>Akira Kurosawa</td>\n",
       "      <td>Ajay Devgn</td>\n",
       "      <td>27712</td>\n",
       "      <td>6013.0</td>\n",
       "      <td>47.0</td>\n",
       "    </tr>\n",
       "    <tr>\n",
       "      <th>Drama</th>\n",
       "      <td>1917</td>\n",
       "      <td>1925</td>\n",
       "      <td>64</td>\n",
       "      <td>7.6</td>\n",
       "      <td>Aamir Khan</td>\n",
       "      <td>Abhay Deol</td>\n",
       "      <td>25088</td>\n",
       "      <td>3600.0</td>\n",
       "      <td>28.0</td>\n",
       "    </tr>\n",
       "    <tr>\n",
       "      <th>Family</th>\n",
       "      <td>E.T. the Extra-Terrestrial</td>\n",
       "      <td>1971</td>\n",
       "      <td>100</td>\n",
       "      <td>7.8</td>\n",
       "      <td>Mel Stuart</td>\n",
       "      <td>Gene Wilder</td>\n",
       "      <td>178731</td>\n",
       "      <td>4000000.0</td>\n",
       "      <td>67.0</td>\n",
       "    </tr>\n",
       "    <tr>\n",
       "      <th>Fantasy</th>\n",
       "      <td>Das Cabinet des Dr. Caligari</td>\n",
       "      <td>1920</td>\n",
       "      <td>76</td>\n",
       "      <td>7.9</td>\n",
       "      <td>F.W. Murnau</td>\n",
       "      <td>Max Schreck</td>\n",
       "      <td>57428</td>\n",
       "      <td>337574718.0</td>\n",
       "      <td>NaN</td>\n",
       "    </tr>\n",
       "    <tr>\n",
       "      <th>Film-Noir</th>\n",
       "      <td>Shadow of a Doubt</td>\n",
       "      <td>1941</td>\n",
       "      <td>100</td>\n",
       "      <td>7.8</td>\n",
       "      <td>Alfred Hitchcock</td>\n",
       "      <td>Humphrey Bogart</td>\n",
       "      <td>59556</td>\n",
       "      <td>449191.0</td>\n",
       "      <td>94.0</td>\n",
       "    </tr>\n",
       "    <tr>\n",
       "      <th>Horror</th>\n",
       "      <td>Alien</td>\n",
       "      <td>1933</td>\n",
       "      <td>71</td>\n",
       "      <td>7.6</td>\n",
       "      <td>Alejandro Amenábar</td>\n",
       "      <td>Anthony Perkins</td>\n",
       "      <td>27007</td>\n",
       "      <td>89029.0</td>\n",
       "      <td>46.0</td>\n",
       "    </tr>\n",
       "    <tr>\n",
       "      <th>Mystery</th>\n",
       "      <td>Dark City</td>\n",
       "      <td>1938</td>\n",
       "      <td>96</td>\n",
       "      <td>7.6</td>\n",
       "      <td>Alex Proyas</td>\n",
       "      <td>Bernard-Pierre Donnadieu</td>\n",
       "      <td>33982</td>\n",
       "      <td>1035953.0</td>\n",
       "      <td>52.0</td>\n",
       "    </tr>\n",
       "    <tr>\n",
       "      <th>Thriller</th>\n",
       "      <td>Wait Until Dark</td>\n",
       "      <td>1967</td>\n",
       "      <td>108</td>\n",
       "      <td>7.8</td>\n",
       "      <td>Terence Young</td>\n",
       "      <td>Audrey Hepburn</td>\n",
       "      <td>27733</td>\n",
       "      <td>17550741.0</td>\n",
       "      <td>81.0</td>\n",
       "    </tr>\n",
       "    <tr>\n",
       "      <th>Western</th>\n",
       "      <td>Il buono, il brutto, il cattivo</td>\n",
       "      <td>1965</td>\n",
       "      <td>132</td>\n",
       "      <td>7.8</td>\n",
       "      <td>Clint Eastwood</td>\n",
       "      <td>Clint Eastwood</td>\n",
       "      <td>65659</td>\n",
       "      <td>5321508.0</td>\n",
       "      <td>69.0</td>\n",
       "    </tr>\n",
       "  </tbody>\n",
       "</table>\n",
       "</div>"
      ],
      "text/plain": [
       "                              Series_Title Released_Year  Runtime  \\\n",
       "Genre                                                               \n",
       "Action                                 300          1924       45   \n",
       "Adventure            2001: A Space Odyssey          1925       88   \n",
       "Animation                            Akira          1940       71   \n",
       "Biography                 12 Years a Slave          1928       93   \n",
       "Comedy                (500) Days of Summer          1921       68   \n",
       "Crime                         12 Angry Men          1931       80   \n",
       "Drama                                 1917          1925       64   \n",
       "Family          E.T. the Extra-Terrestrial          1971      100   \n",
       "Fantasy       Das Cabinet des Dr. Caligari          1920       76   \n",
       "Film-Noir                Shadow of a Doubt          1941      100   \n",
       "Horror                               Alien          1933       71   \n",
       "Mystery                          Dark City          1938       96   \n",
       "Thriller                   Wait Until Dark          1967      108   \n",
       "Western    Il buono, il brutto, il cattivo          1965      132   \n",
       "\n",
       "           IMDB_Rating               Director                     Star1  \\\n",
       "Genre                                                                     \n",
       "Action             7.6       Abhishek Chaubey                Aamir Khan   \n",
       "Adventure          7.6         Akira Kurosawa                Aamir Khan   \n",
       "Animation          7.6            Adam Elliot             Adrian Molina   \n",
       "Biography          7.6             Adam McKay              Adrien Brody   \n",
       "Comedy             7.6  Alejandro G. Iñárritu                Aamir Khan   \n",
       "Crime              7.6         Akira Kurosawa                Ajay Devgn   \n",
       "Drama              7.6             Aamir Khan                Abhay Deol   \n",
       "Family             7.8             Mel Stuart               Gene Wilder   \n",
       "Fantasy            7.9            F.W. Murnau               Max Schreck   \n",
       "Film-Noir          7.8       Alfred Hitchcock           Humphrey Bogart   \n",
       "Horror             7.6     Alejandro Amenábar           Anthony Perkins   \n",
       "Mystery            7.6            Alex Proyas  Bernard-Pierre Donnadieu   \n",
       "Thriller           7.8          Terence Young            Audrey Hepburn   \n",
       "Western            7.8         Clint Eastwood            Clint Eastwood   \n",
       "\n",
       "           No_of_Votes        Gross  Metascore  \n",
       "Genre                                           \n",
       "Action           25312       3296.0       33.0  \n",
       "Adventure        29999      61001.0       41.0  \n",
       "Animation        25229     128985.0       61.0  \n",
       "Biography        27254      21877.0       48.0  \n",
       "Comedy           26337       1305.0       45.0  \n",
       "Crime            27712       6013.0       47.0  \n",
       "Drama            25088       3600.0       28.0  \n",
       "Family          178731    4000000.0       67.0  \n",
       "Fantasy          57428  337574718.0        NaN  \n",
       "Film-Noir        59556     449191.0       94.0  \n",
       "Horror           27007      89029.0       46.0  \n",
       "Mystery          33982    1035953.0       52.0  \n",
       "Thriller         27733   17550741.0       81.0  \n",
       "Western          65659    5321508.0       69.0  "
      ]
     },
     "execution_count": 29,
     "metadata": {},
     "output_type": "execute_result"
    }
   ],
   "source": [
    "genre= movies.groupby(\"Genre\")\n",
    "genre.min()"
   ]
  },
  {
   "cell_type": "code",
   "execution_count": 34,
   "id": "9a33a994",
   "metadata": {
    "ExecuteTime": {
     "end_time": "2024-05-17T17:19:44.976019Z",
     "start_time": "2024-05-17T17:19:44.967106Z"
    }
   },
   "outputs": [
    {
     "data": {
      "text/plain": [
       "Genre\n",
       "Drama     3.540997e+10\n",
       "Action    3.263226e+10\n",
       "Comedy    1.566387e+10\n",
       "Name: Gross, dtype: float64"
      ]
     },
     "execution_count": 34,
     "metadata": {},
     "output_type": "execute_result"
    }
   ],
   "source": [
    "# find the top 3 genres by totoal earning \n",
    "\n",
    "genre.sum()[\"Gross\"].sort_values(ascending=False).head(3)"
   ]
  },
  {
   "cell_type": "code",
   "execution_count": 35,
   "id": "4b719cf6",
   "metadata": {
    "ExecuteTime": {
     "end_time": "2024-05-17T17:19:46.175032Z",
     "start_time": "2024-05-17T17:19:46.168541Z"
    }
   },
   "outputs": [
    {
     "data": {
      "text/plain": [
       "Genre\n",
       "Drama     3.540997e+10\n",
       "Action    3.263226e+10\n",
       "Comedy    1.566387e+10\n",
       "Name: Gross, dtype: float64"
      ]
     },
     "execution_count": 35,
     "metadata": {},
     "output_type": "execute_result"
    }
   ],
   "source": [
    "genre[\"Gross\"].sum().sort_values(ascending=False).head(3)"
   ]
  },
  {
   "cell_type": "code",
   "execution_count": 44,
   "id": "98b1d374",
   "metadata": {
    "ExecuteTime": {
     "end_time": "2024-05-17T17:24:24.627095Z",
     "start_time": "2024-05-17T17:24:24.618093Z"
    }
   },
   "outputs": [
    {
     "data": {
      "text/plain": [
       "Genre\n",
       "Western    8.35\n",
       "Name: IMDB_Rating, dtype: float64"
      ]
     },
     "execution_count": 44,
     "metadata": {},
     "output_type": "execute_result"
    }
   ],
   "source": [
    "# find the genre with highest avg IMDB rating\n",
    "genre[\"IMDB_Rating\"].mean().sort_values(ascending=False).head(1)"
   ]
  },
  {
   "cell_type": "code",
   "execution_count": 40,
   "id": "67a9215c",
   "metadata": {
    "ExecuteTime": {
     "end_time": "2024-05-17T17:21:54.972841Z",
     "start_time": "2024-05-17T17:21:54.969733Z"
    }
   },
   "outputs": [],
   "source": [
    "# find director with most popular"
   ]
  },
  {
   "cell_type": "code",
   "execution_count": 49,
   "id": "c69a84c0",
   "metadata": {
    "ExecuteTime": {
     "end_time": "2024-05-17T17:27:06.025083Z",
     "start_time": "2024-05-17T17:27:06.017149Z"
    }
   },
   "outputs": [
    {
     "data": {
      "text/plain": [
       "Director\n",
       "Christopher Nolan    11578345\n",
       "Name: No_of_Votes, dtype: int64"
      ]
     },
     "execution_count": 49,
     "metadata": {},
     "output_type": "execute_result"
    }
   ],
   "source": [
    "movies.groupby(\"Director\")[\"No_of_Votes\"].sum().sort_values(ascending=False).head(1)"
   ]
  },
  {
   "cell_type": "code",
   "execution_count": 53,
   "id": "2ca81ee4",
   "metadata": {
    "ExecuteTime": {
     "end_time": "2024-05-17T17:33:42.501483Z",
     "start_time": "2024-05-17T17:33:42.493835Z"
    }
   },
   "outputs": [
    {
     "data": {
      "text/plain": [
       "Star1\n",
       "Tom Hanks             12\n",
       "Robert De Niro        11\n",
       "Clint Eastwood        10\n",
       "Al Pacino             10\n",
       "Leonardo DiCaprio      9\n",
       "                      ..\n",
       "Glen Hansard           1\n",
       "Giuseppe Battiston     1\n",
       "Giulietta Masina       1\n",
       "Gerardo Taracena       1\n",
       "Ömer Faruk Sorak       1\n",
       "Name: Series_Title, Length: 660, dtype: int64"
      ]
     },
     "execution_count": 53,
     "metadata": {},
     "output_type": "execute_result"
    }
   ],
   "source": [
    "# find number of movies done by each actor\n",
    "#movies[\"Star1\"].value_counts()\n",
    "\n",
    "movies.groupby(\"Star1\")[\"Series_Title\"].count().sort_values(ascending=0)"
   ]
  },
  {
   "cell_type": "code",
   "execution_count": null,
   "id": "6b33acae",
   "metadata": {},
   "outputs": [],
   "source": []
  }
 ],
 "metadata": {
  "kernelspec": {
   "display_name": "Python 3 (ipykernel)",
   "language": "python",
   "name": "python3"
  },
  "language_info": {
   "codemirror_mode": {
    "name": "ipython",
    "version": 3
   },
   "file_extension": ".py",
   "mimetype": "text/x-python",
   "name": "python",
   "nbconvert_exporter": "python",
   "pygments_lexer": "ipython3",
   "version": "3.11.5"
  }
 },
 "nbformat": 4,
 "nbformat_minor": 5
}
