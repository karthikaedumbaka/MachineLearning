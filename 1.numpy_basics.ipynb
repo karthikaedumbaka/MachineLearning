{
 "cells": [
  {
   "cell_type": "markdown",
   "id": "3bfefdc5",
   "metadata": {},
   "source": [
    "# What is numpy ?\n",
    "\n",
    "Numpy is the fundamental package foe scientific computing in Python. It is a Python Library that provides a multidimensional array objects , various derived objects(such as masked arrays and matrices), and an assortment of routines for fast operations on arrays, including mathematical, logical, shape manipulations,sorting and much more"
   ]
  },
  {
   "cell_type": "code",
   "execution_count": 2,
   "id": "e9d810ca",
   "metadata": {
    "ExecuteTime": {
     "end_time": "2024-04-26T06:25:49.315232Z",
     "start_time": "2024-04-26T06:25:49.310549Z"
    }
   },
   "outputs": [
    {
     "data": {
      "text/plain": [
       "array([1, 2, 3])"
      ]
     },
     "execution_count": 2,
     "metadata": {},
     "output_type": "execute_result"
    }
   ],
   "source": [
    "# creating Numpy arrays\n",
    "\n",
    "import numpy as np\n",
    "\n",
    "a=np.array([1,2,3])  # this is 1D array\n",
    "a"
   ]
  },
  {
   "cell_type": "code",
   "execution_count": 3,
   "id": "bcff1249",
   "metadata": {
    "ExecuteTime": {
     "end_time": "2024-04-26T06:25:57.959062Z",
     "start_time": "2024-04-26T06:25:57.955396Z"
    }
   },
   "outputs": [
    {
     "data": {
      "text/plain": [
       "numpy.ndarray"
      ]
     },
     "execution_count": 3,
     "metadata": {},
     "output_type": "execute_result"
    }
   ],
   "source": [
    "type(a)"
   ]
  },
  {
   "cell_type": "code",
   "execution_count": 4,
   "id": "061d83f8",
   "metadata": {
    "ExecuteTime": {
     "end_time": "2024-04-26T06:26:55.614033Z",
     "start_time": "2024-04-26T06:26:55.609486Z"
    }
   },
   "outputs": [
    {
     "data": {
      "text/plain": [
       "array([[1, 2, 3],\n",
       "       [4, 5, 6]])"
      ]
     },
     "execution_count": 4,
     "metadata": {},
     "output_type": "execute_result"
    }
   ],
   "source": [
    "b=np.array([[1,2,3],[4,5,6]])\n",
    "b"
   ]
  },
  {
   "cell_type": "code",
   "execution_count": 5,
   "id": "5af633e3",
   "metadata": {
    "ExecuteTime": {
     "end_time": "2024-04-26T06:27:12.266513Z",
     "start_time": "2024-04-26T06:27:12.262072Z"
    }
   },
   "outputs": [
    {
     "data": {
      "text/plain": [
       "2"
      ]
     },
     "execution_count": 5,
     "metadata": {},
     "output_type": "execute_result"
    }
   ],
   "source": [
    "b.ndim   # to check the dimensions "
   ]
  },
  {
   "cell_type": "code",
   "execution_count": 11,
   "id": "492021fb",
   "metadata": {
    "ExecuteTime": {
     "end_time": "2024-04-26T06:29:41.380753Z",
     "start_time": "2024-04-26T06:29:41.375686Z"
    }
   },
   "outputs": [
    {
     "data": {
      "text/plain": [
       "3"
      ]
     },
     "execution_count": 11,
     "metadata": {},
     "output_type": "execute_result"
    }
   ],
   "source": [
    "c= np.array([[[1,2,3,4],\n",
    "            [4,5,6,7]],\n",
    "            [[6,7,8,9],[1,6,7,8]]])\n",
    "c.ndim"
   ]
  },
  {
   "cell_type": "code",
   "execution_count": 12,
   "id": "7b174c4a",
   "metadata": {
    "ExecuteTime": {
     "end_time": "2024-04-26T06:29:43.077847Z",
     "start_time": "2024-04-26T06:29:43.073394Z"
    }
   },
   "outputs": [
    {
     "data": {
      "text/plain": [
       "array([[[1, 2, 3, 4],\n",
       "        [4, 5, 6, 7]],\n",
       "\n",
       "       [[6, 7, 8, 9],\n",
       "        [1, 6, 7, 8]]])"
      ]
     },
     "execution_count": 12,
     "metadata": {},
     "output_type": "execute_result"
    }
   ],
   "source": [
    "c"
   ]
  },
  {
   "cell_type": "code",
   "execution_count": 13,
   "id": "9f72bb72",
   "metadata": {
    "ExecuteTime": {
     "end_time": "2024-04-26T06:30:35.423172Z",
     "start_time": "2024-04-26T06:30:35.419652Z"
    }
   },
   "outputs": [],
   "source": [
    "f=np.array([[1,2,3],[4,5,6]],dtype=float)"
   ]
  },
  {
   "cell_type": "code",
   "execution_count": 14,
   "id": "64b3e0e7",
   "metadata": {
    "ExecuteTime": {
     "end_time": "2024-04-26T06:30:37.504872Z",
     "start_time": "2024-04-26T06:30:37.501464Z"
    }
   },
   "outputs": [
    {
     "data": {
      "text/plain": [
       "array([[1., 2., 3.],\n",
       "       [4., 5., 6.]])"
      ]
     },
     "execution_count": 14,
     "metadata": {},
     "output_type": "execute_result"
    }
   ],
   "source": [
    "f"
   ]
  },
  {
   "cell_type": "code",
   "execution_count": 15,
   "id": "ef04ea01",
   "metadata": {
    "ExecuteTime": {
     "end_time": "2024-04-26T06:31:00.685907Z",
     "start_time": "2024-04-26T06:31:00.682231Z"
    }
   },
   "outputs": [],
   "source": [
    "r=np.array([[1,0,3],[0,5,6]],dtype=bool)"
   ]
  },
  {
   "cell_type": "code",
   "execution_count": 16,
   "id": "34d39bbf",
   "metadata": {
    "ExecuteTime": {
     "end_time": "2024-04-26T06:31:03.016415Z",
     "start_time": "2024-04-26T06:31:03.011894Z"
    }
   },
   "outputs": [
    {
     "data": {
      "text/plain": [
       "array([[ True, False,  True],\n",
       "       [False,  True,  True]])"
      ]
     },
     "execution_count": 16,
     "metadata": {},
     "output_type": "execute_result"
    }
   ],
   "source": [
    "r"
   ]
  },
  {
   "cell_type": "code",
   "execution_count": 17,
   "id": "13909a12",
   "metadata": {
    "ExecuteTime": {
     "end_time": "2024-04-26T06:32:02.596399Z",
     "start_time": "2024-04-26T06:32:02.592656Z"
    }
   },
   "outputs": [
    {
     "data": {
      "text/plain": [
       "array([0, 1, 2, 3, 4, 5, 6, 7, 8, 9])"
      ]
     },
     "execution_count": 17,
     "metadata": {},
     "output_type": "execute_result"
    }
   ],
   "source": [
    "np_range=np.arange(0,10)\n",
    "np_range"
   ]
  },
  {
   "cell_type": "code",
   "execution_count": 18,
   "id": "3ce68224",
   "metadata": {
    "ExecuteTime": {
     "end_time": "2024-04-26T06:32:11.568051Z",
     "start_time": "2024-04-26T06:32:11.563390Z"
    }
   },
   "outputs": [
    {
     "data": {
      "text/plain": [
       "array([0, 2, 4, 6, 8])"
      ]
     },
     "execution_count": 18,
     "metadata": {},
     "output_type": "execute_result"
    }
   ],
   "source": [
    "np_range=np.arange(0,10,2)\n",
    "np_range"
   ]
  },
  {
   "cell_type": "code",
   "execution_count": 24,
   "id": "c61f2dc0",
   "metadata": {
    "ExecuteTime": {
     "end_time": "2024-04-26T06:33:35.900349Z",
     "start_time": "2024-04-26T06:33:35.897220Z"
    }
   },
   "outputs": [
    {
     "name": "stdout",
     "output_type": "stream",
     "text": [
      "[[1 2 3]\n",
      " [4 5 6]]\n",
      "_____________________|\n",
      "[[1 2]\n",
      " [3 4]\n",
      " [5 6]]\n"
     ]
    }
   ],
   "source": [
    "print(b)\n",
    "np_reshape=b.reshape(3,2)\n",
    "print(\"_____________________\")\n",
    "print(np_reshape)"
   ]
  },
  {
   "cell_type": "code",
   "execution_count": 26,
   "id": "f04f5a60",
   "metadata": {
    "ExecuteTime": {
     "end_time": "2024-04-26T06:34:39.042649Z",
     "start_time": "2024-04-26T06:34:39.038445Z"
    }
   },
   "outputs": [
    {
     "data": {
      "text/plain": [
       "array([[0, 1],\n",
       "       [2, 3],\n",
       "       [4, 5],\n",
       "       [6, 7],\n",
       "       [8, 9]])"
      ]
     },
     "execution_count": 26,
     "metadata": {},
     "output_type": "execute_result"
    }
   ],
   "source": [
    "np_range_with_reshape=np.arange(0,10).reshape(5,2)\n",
    "np_range_with_reshape"
   ]
  },
  {
   "cell_type": "code",
   "execution_count": 29,
   "id": "e52c420a",
   "metadata": {
    "ExecuteTime": {
     "end_time": "2024-04-26T06:35:37.475605Z",
     "start_time": "2024-04-26T06:35:37.471095Z"
    }
   },
   "outputs": [
    {
     "data": {
      "text/plain": [
       "array([[1, 1, 1, 1],\n",
       "       [1, 1, 1, 1],\n",
       "       [1, 1, 1, 1]])"
      ]
     },
     "execution_count": 29,
     "metadata": {},
     "output_type": "execute_result"
    }
   ],
   "source": [
    "# np.ones and np.zeros\n",
    "\n",
    "np.ones((3,4),dtype=int)"
   ]
  },
  {
   "cell_type": "code",
   "execution_count": 31,
   "id": "6aa358a0",
   "metadata": {
    "ExecuteTime": {
     "end_time": "2024-04-26T06:36:50.407387Z",
     "start_time": "2024-04-26T06:36:50.402858Z"
    }
   },
   "outputs": [
    {
     "data": {
      "text/plain": [
       "array([[0, 0, 0, 0],\n",
       "       [0, 0, 0, 0],\n",
       "       [0, 0, 0, 0]])"
      ]
     },
     "execution_count": 31,
     "metadata": {},
     "output_type": "execute_result"
    }
   ],
   "source": [
    "np.zeros((3,4),dtype=int)"
   ]
  },
  {
   "cell_type": "code",
   "execution_count": 36,
   "id": "adbf1880",
   "metadata": {
    "ExecuteTime": {
     "end_time": "2024-04-26T06:37:40.384355Z",
     "start_time": "2024-04-26T06:37:40.379363Z"
    }
   },
   "outputs": [
    {
     "data": {
      "text/plain": [
       "array([[0.44222921, 0.83169312, 0.36866795, 0.59902587],\n",
       "       [0.43307171, 0.9495575 , 0.01419401, 0.59728057],\n",
       "       [0.45855526, 0.37575884, 0.33005845, 0.0793633 ]])"
      ]
     },
     "execution_count": 36,
     "metadata": {},
     "output_type": "execute_result"
    }
   ],
   "source": [
    "# np.random\n",
    "np.random.random((3,4))"
   ]
  },
  {
   "cell_type": "code",
   "execution_count": 37,
   "id": "edff6872",
   "metadata": {
    "ExecuteTime": {
     "end_time": "2024-04-26T06:38:12.308318Z",
     "start_time": "2024-04-26T06:38:12.301763Z"
    }
   },
   "outputs": [
    {
     "data": {
      "text/plain": [
       "array([-10.        ,  -8.94736842,  -7.89473684,  -6.84210526,\n",
       "        -5.78947368,  -4.73684211,  -3.68421053,  -2.63157895,\n",
       "        -1.57894737,  -0.52631579,   0.52631579,   1.57894737,\n",
       "         2.63157895,   3.68421053,   4.73684211,   5.78947368,\n",
       "         6.84210526,   7.89473684,   8.94736842,  10.        ])"
      ]
     },
     "execution_count": 37,
     "metadata": {},
     "output_type": "execute_result"
    }
   ],
   "source": [
    "# np.linspace\n",
    "\n",
    "np.linspace(-10,10,20)"
   ]
  },
  {
   "cell_type": "code",
   "execution_count": 39,
   "id": "9ba46acd",
   "metadata": {
    "ExecuteTime": {
     "end_time": "2024-04-26T06:40:06.130787Z",
     "start_time": "2024-04-26T06:40:06.126665Z"
    }
   },
   "outputs": [
    {
     "data": {
      "text/plain": [
       "array([[1, 0, 0, 0],\n",
       "       [0, 1, 0, 0],\n",
       "       [0, 0, 1, 0],\n",
       "       [0, 0, 0, 1]])"
      ]
     },
     "execution_count": 39,
     "metadata": {},
     "output_type": "execute_result"
    }
   ],
   "source": [
    "# np.identity \n",
    "np.identity(4,dtype=int)"
   ]
  },
  {
   "cell_type": "code",
   "execution_count": 49,
   "id": "980231fe",
   "metadata": {
    "ExecuteTime": {
     "end_time": "2024-04-26T06:46:22.462216Z",
     "start_time": "2024-04-26T06:46:22.458216Z"
    }
   },
   "outputs": [],
   "source": [
    "a1=np.arange(10)  # vetor\n",
    "a2=np.arange(12,dtype=float).reshape(4,3) # matrix \n",
    "a3=np.arange(12,dtype=int).reshape(2,2,3)"
   ]
  },
  {
   "cell_type": "code",
   "execution_count": 50,
   "id": "fd9b6582",
   "metadata": {
    "ExecuteTime": {
     "end_time": "2024-04-26T06:46:22.727332Z",
     "start_time": "2024-04-26T06:46:22.723631Z"
    }
   },
   "outputs": [
    {
     "name": "stdout",
     "output_type": "stream",
     "text": [
      "[0 1 2 3 4 5 6 7 8 9]\n",
      "_______\n",
      "[[ 0.  1.  2.]\n",
      " [ 3.  4.  5.]\n",
      " [ 6.  7.  8.]\n",
      " [ 9. 10. 11.]]\n",
      "_______\n",
      "[[[ 0  1  2]\n",
      "  [ 3  4  5]]\n",
      "\n",
      " [[ 6  7  8]\n",
      "  [ 9 10 11]]]\n",
      "_______\n"
     ]
    }
   ],
   "source": [
    "print(a1)\n",
    "print(\"_______\")\n",
    "print(a2)\n",
    "print(\"_______\")\n",
    "print(a3)\n",
    "print(\"_______\")"
   ]
  },
  {
   "cell_type": "code",
   "execution_count": 51,
   "id": "4f083de8",
   "metadata": {
    "ExecuteTime": {
     "end_time": "2024-04-26T06:46:23.078326Z",
     "start_time": "2024-04-26T06:46:23.074003Z"
    }
   },
   "outputs": [
    {
     "data": {
      "text/plain": [
       "(10,)"
      ]
     },
     "execution_count": 51,
     "metadata": {},
     "output_type": "execute_result"
    }
   ],
   "source": [
    "# shape\n",
    "a1.shape"
   ]
  },
  {
   "cell_type": "code",
   "execution_count": 52,
   "id": "06297969",
   "metadata": {
    "ExecuteTime": {
     "end_time": "2024-04-26T06:46:23.588667Z",
     "start_time": "2024-04-26T06:46:23.583630Z"
    }
   },
   "outputs": [
    {
     "data": {
      "text/plain": [
       "(4, 3)"
      ]
     },
     "execution_count": 52,
     "metadata": {},
     "output_type": "execute_result"
    }
   ],
   "source": [
    "a2.shape"
   ]
  },
  {
   "cell_type": "code",
   "execution_count": 53,
   "id": "5cf88cd6",
   "metadata": {
    "ExecuteTime": {
     "end_time": "2024-04-26T06:46:23.943552Z",
     "start_time": "2024-04-26T06:46:23.936755Z"
    }
   },
   "outputs": [
    {
     "data": {
      "text/plain": [
       "(2, 2, 3)"
      ]
     },
     "execution_count": 53,
     "metadata": {},
     "output_type": "execute_result"
    }
   ],
   "source": [
    "a3.shape"
   ]
  },
  {
   "cell_type": "code",
   "execution_count": 54,
   "id": "c7e3ce9f",
   "metadata": {
    "ExecuteTime": {
     "end_time": "2024-04-26T06:46:24.268133Z",
     "start_time": "2024-04-26T06:46:24.263296Z"
    }
   },
   "outputs": [
    {
     "data": {
      "text/plain": [
       "4"
      ]
     },
     "execution_count": 54,
     "metadata": {},
     "output_type": "execute_result"
    }
   ],
   "source": [
    "# itemsixze\n",
    "a3.itemsize"
   ]
  },
  {
   "cell_type": "code",
   "execution_count": 55,
   "id": "08f03fa4",
   "metadata": {
    "ExecuteTime": {
     "end_time": "2024-04-26T06:46:24.691565Z",
     "start_time": "2024-04-26T06:46:24.688028Z"
    }
   },
   "outputs": [
    {
     "data": {
      "text/plain": [
       "8"
      ]
     },
     "execution_count": 55,
     "metadata": {},
     "output_type": "execute_result"
    }
   ],
   "source": [
    "a2.itemsize"
   ]
  },
  {
   "cell_type": "code",
   "execution_count": 56,
   "id": "7ee6b618",
   "metadata": {
    "ExecuteTime": {
     "end_time": "2024-04-26T06:46:25.241198Z",
     "start_time": "2024-04-26T06:46:25.236684Z"
    }
   },
   "outputs": [
    {
     "data": {
      "text/plain": [
       "dtype('int32')"
      ]
     },
     "execution_count": 56,
     "metadata": {},
     "output_type": "execute_result"
    }
   ],
   "source": [
    "# dtype\n",
    "a1.dtype\n"
   ]
  },
  {
   "cell_type": "code",
   "execution_count": 57,
   "id": "a92067bd",
   "metadata": {
    "ExecuteTime": {
     "end_time": "2024-04-26T06:46:25.618988Z",
     "start_time": "2024-04-26T06:46:25.614747Z"
    }
   },
   "outputs": [
    {
     "data": {
      "text/plain": [
       "dtype('float64')"
      ]
     },
     "execution_count": 57,
     "metadata": {},
     "output_type": "execute_result"
    }
   ],
   "source": [
    "a2.dtype"
   ]
  },
  {
   "cell_type": "markdown",
   "id": "6821a0da",
   "metadata": {},
   "source": [
    "# Array Operations"
   ]
  },
  {
   "cell_type": "code",
   "execution_count": 61,
   "id": "a92e21aa",
   "metadata": {
    "ExecuteTime": {
     "end_time": "2024-04-26T06:50:33.405819Z",
     "start_time": "2024-04-26T06:50:33.400712Z"
    }
   },
   "outputs": [
    {
     "data": {
      "text/plain": [
       "array([[12, 13, 14, 15],\n",
       "       [16, 17, 18, 19],\n",
       "       [20, 21, 22, 23]])"
      ]
     },
     "execution_count": 61,
     "metadata": {},
     "output_type": "execute_result"
    }
   ],
   "source": [
    "a1= np.arange(12).reshape(3,4)\n",
    "a2= np.arange(12,24).reshape(3,4)\n",
    "a2"
   ]
  },
  {
   "cell_type": "code",
   "execution_count": 63,
   "id": "52afc21e",
   "metadata": {
    "ExecuteTime": {
     "end_time": "2024-04-26T07:03:53.365118Z",
     "start_time": "2024-04-26T07:03:53.359037Z"
    }
   },
   "outputs": [
    {
     "data": {
      "text/plain": [
       "array([[12, 14, 16, 18],\n",
       "       [20, 22, 24, 26],\n",
       "       [28, 30, 32, 34]])"
      ]
     },
     "execution_count": 63,
     "metadata": {},
     "output_type": "execute_result"
    }
   ],
   "source": [
    "np.add(a1,a2)"
   ]
  },
  {
   "cell_type": "code",
   "execution_count": 64,
   "id": "f68bb9a5",
   "metadata": {
    "ExecuteTime": {
     "end_time": "2024-04-26T07:04:05.952820Z",
     "start_time": "2024-04-26T07:04:05.947679Z"
    }
   },
   "outputs": [
    {
     "data": {
      "text/plain": [
       "array([[12, 14, 16, 18],\n",
       "       [20, 22, 24, 26],\n",
       "       [28, 30, 32, 34]])"
      ]
     },
     "execution_count": 64,
     "metadata": {},
     "output_type": "execute_result"
    }
   ],
   "source": [
    "a1 + a2"
   ]
  },
  {
   "cell_type": "code",
   "execution_count": 66,
   "id": "6e5b37f8",
   "metadata": {
    "ExecuteTime": {
     "end_time": "2024-04-26T07:04:34.256575Z",
     "start_time": "2024-04-26T07:04:34.252360Z"
    }
   },
   "outputs": [
    {
     "data": {
      "text/plain": [
       "array([[  0,  13,  28,  45],\n",
       "       [ 64,  85, 108, 133],\n",
       "       [160, 189, 220, 253]])"
      ]
     },
     "execution_count": 66,
     "metadata": {},
     "output_type": "execute_result"
    }
   ],
   "source": [
    "a1 * a2 "
   ]
  },
  {
   "cell_type": "code",
   "execution_count": 69,
   "id": "cb266612",
   "metadata": {
    "ExecuteTime": {
     "end_time": "2024-04-26T07:05:18.493521Z",
     "start_time": "2024-04-26T07:05:18.488989Z"
    }
   },
   "outputs": [
    {
     "data": {
      "text/plain": [
       "array([[False, False, False, False],\n",
       "       [ True,  True,  True,  True],\n",
       "       [ True,  True,  True,  True]])"
      ]
     },
     "execution_count": 69,
     "metadata": {},
     "output_type": "execute_result"
    }
   ],
   "source": [
    "# relatinal\n",
    "\n",
    "a2>15"
   ]
  },
  {
   "cell_type": "markdown",
   "id": "3003d352",
   "metadata": {},
   "source": [
    "# aRRAY fUNCRION\n"
   ]
  },
  {
   "cell_type": "code",
   "execution_count": 70,
   "id": "f0447391",
   "metadata": {
    "ExecuteTime": {
     "end_time": "2024-04-26T07:08:14.330006Z",
     "start_time": "2024-04-26T07:08:14.326493Z"
    }
   },
   "outputs": [],
   "source": [
    "a1= np.random.random((3,3))\n",
    "a2= np.round(a1 * 100)"
   ]
  },
  {
   "cell_type": "code",
   "execution_count": 72,
   "id": "a7310a89",
   "metadata": {
    "ExecuteTime": {
     "end_time": "2024-04-26T07:09:34.581862Z",
     "start_time": "2024-04-26T07:09:34.575917Z"
    }
   },
   "outputs": [
    {
     "name": "stdout",
     "output_type": "stream",
     "text": [
      "0.8519873595972891\n",
      "0.016623796863547535\n",
      "4.018609508893359\n",
      "1.732112766055324e-05\n"
     ]
    }
   ],
   "source": [
    "# mx/min/sum/prod\n",
    "print(np.max(a1))\n",
    "print(np.min(a1))\n",
    "print(np.sum(a1))\n",
    "print(np.prod(a1))"
   ]
  },
  {
   "cell_type": "code",
   "execution_count": 73,
   "id": "af483f36",
   "metadata": {
    "ExecuteTime": {
     "end_time": "2024-04-26T07:39:50.132471Z",
     "start_time": "2024-04-26T07:39:50.126782Z"
    }
   },
   "outputs": [
    {
     "data": {
      "text/plain": [
       "array([0.25292918, 0.40927933, 0.67732799])"
      ]
     },
     "execution_count": 73,
     "metadata": {},
     "output_type": "execute_result"
    }
   ],
   "source": [
    "# mean / median / mode /std /var\n",
    "# 0 -> column and 1 -> row\n",
    "\n",
    "np.mean(a1,axis=1)"
   ]
  },
  {
   "cell_type": "code",
   "execution_count": 74,
   "id": "816a56dc",
   "metadata": {
    "ExecuteTime": {
     "end_time": "2024-04-26T07:40:10.449604Z",
     "start_time": "2024-04-26T07:40:10.443275Z"
    }
   },
   "outputs": [
    {
     "data": {
      "text/plain": [
       "array([0.25476521, 0.17500627, 0.23866104])"
      ]
     },
     "execution_count": 74,
     "metadata": {},
     "output_type": "execute_result"
    }
   ],
   "source": [
    "np.std(a1,axis=1)"
   ]
  },
  {
   "cell_type": "code",
   "execution_count": 75,
   "id": "4624835a",
   "metadata": {
    "ExecuteTime": {
     "end_time": "2024-04-26T07:41:18.663634Z",
     "start_time": "2024-04-26T07:41:18.659312Z"
    }
   },
   "outputs": [],
   "source": [
    "# dot prodect\n",
    "a2=np.arange(12).reshape(3,4)\n",
    "a3 = np.arange(12,24).reshape(4,3)"
   ]
  },
  {
   "cell_type": "code",
   "execution_count": 76,
   "id": "39ec1696",
   "metadata": {
    "ExecuteTime": {
     "end_time": "2024-04-26T07:41:36.377875Z",
     "start_time": "2024-04-26T07:41:36.372246Z"
    }
   },
   "outputs": [
    {
     "data": {
      "text/plain": [
       "array([[114, 120, 126],\n",
       "       [378, 400, 422],\n",
       "       [642, 680, 718]])"
      ]
     },
     "execution_count": 76,
     "metadata": {},
     "output_type": "execute_result"
    }
   ],
   "source": [
    "np.dot(a2,a3)"
   ]
  },
  {
   "cell_type": "code",
   "execution_count": 77,
   "id": "b2e49715",
   "metadata": {
    "ExecuteTime": {
     "end_time": "2024-04-26T07:42:30.096607Z",
     "start_time": "2024-04-26T07:42:30.091852Z"
    }
   },
   "outputs": [
    {
     "data": {
      "text/plain": [
       "array([[-0.49985419, -1.99845433, -4.09692006],\n",
       "       [-1.03564404, -0.4376688 , -1.48148115],\n",
       "       [-0.16018359, -0.17421445, -1.07916294]])"
      ]
     },
     "execution_count": 77,
     "metadata": {},
     "output_type": "execute_result"
    }
   ],
   "source": [
    "# log and exponents \n",
    "np.log(a1)"
   ]
  },
  {
   "cell_type": "code",
   "execution_count": 78,
   "id": "e531c740",
   "metadata": {
    "ExecuteTime": {
     "end_time": "2024-04-26T07:42:36.475473Z",
     "start_time": "2024-04-26T07:42:36.470508Z"
    }
   },
   "outputs": [
    {
     "data": {
      "text/plain": [
       "array([[1.8342196 , 1.1451603 , 1.01676274],\n",
       "       [1.42617734, 1.90701568, 1.25520734],\n",
       "       [2.34430119, 2.31663735, 1.40477888]])"
      ]
     },
     "execution_count": 78,
     "metadata": {},
     "output_type": "execute_result"
    }
   ],
   "source": [
    "np.exp(a1)"
   ]
  },
  {
   "cell_type": "code",
   "execution_count": 79,
   "id": "09bcf4cb",
   "metadata": {
    "ExecuteTime": {
     "end_time": "2024-04-26T07:48:13.545560Z",
     "start_time": "2024-04-26T07:48:13.541654Z"
    }
   },
   "outputs": [
    {
     "data": {
      "text/plain": [
       "array([[12, 13, 14],\n",
       "       [15, 16, 17],\n",
       "       [18, 19, 20],\n",
       "       [21, 22, 23]])"
      ]
     },
     "execution_count": 79,
     "metadata": {},
     "output_type": "execute_result"
    }
   ],
   "source": [
    "# ravel # which change ant dim to 1 d array\n",
    "a3"
   ]
  },
  {
   "cell_type": "code",
   "execution_count": 80,
   "id": "3513100d",
   "metadata": {
    "ExecuteTime": {
     "end_time": "2024-04-26T07:48:19.732488Z",
     "start_time": "2024-04-26T07:48:19.728033Z"
    }
   },
   "outputs": [
    {
     "data": {
      "text/plain": [
       "array([12, 13, 14, 15, 16, 17, 18, 19, 20, 21, 22, 23])"
      ]
     },
     "execution_count": 80,
     "metadata": {},
     "output_type": "execute_result"
    }
   ],
   "source": [
    "a3.ravel()"
   ]
  },
  {
   "cell_type": "markdown",
   "id": "0a2bc60f",
   "metadata": {},
   "source": [
    "# stacking \n",
    "\n",
    "stacking is nothing when we need to add for different area of data we will use "
   ]
  },
  {
   "cell_type": "code",
   "execution_count": 81,
   "id": "d1bcbd9f",
   "metadata": {
    "ExecuteTime": {
     "end_time": "2024-04-26T07:51:41.074422Z",
     "start_time": "2024-04-26T07:51:41.070969Z"
    }
   },
   "outputs": [],
   "source": [
    "a4= np.arange(12).reshape(3,4)\n",
    "a5= np.arange(12,24).reshape(3,4)"
   ]
  },
  {
   "cell_type": "code",
   "execution_count": 83,
   "id": "0912095b",
   "metadata": {
    "ExecuteTime": {
     "end_time": "2024-04-26T07:52:30.725454Z",
     "start_time": "2024-04-26T07:52:30.721195Z"
    }
   },
   "outputs": [
    {
     "data": {
      "text/plain": [
       "array([[ 0,  1,  2,  3, 12, 13, 14, 15],\n",
       "       [ 4,  5,  6,  7, 16, 17, 18, 19],\n",
       "       [ 8,  9, 10, 11, 20, 21, 22, 23]])"
      ]
     },
     "execution_count": 83,
     "metadata": {},
     "output_type": "execute_result"
    }
   ],
   "source": [
    "# horizontal stacking\n",
    "np.hstack((a4,a5))"
   ]
  },
  {
   "cell_type": "code",
   "execution_count": 84,
   "id": "4f59a7f6",
   "metadata": {
    "ExecuteTime": {
     "end_time": "2024-04-26T07:52:58.808067Z",
     "start_time": "2024-04-26T07:52:58.803305Z"
    }
   },
   "outputs": [
    {
     "data": {
      "text/plain": [
       "array([[ 0,  1,  2,  3],\n",
       "       [ 4,  5,  6,  7],\n",
       "       [ 8,  9, 10, 11],\n",
       "       [12, 13, 14, 15],\n",
       "       [16, 17, 18, 19],\n",
       "       [20, 21, 22, 23]])"
      ]
     },
     "execution_count": 84,
     "metadata": {},
     "output_type": "execute_result"
    }
   ],
   "source": [
    "# vertical staacting\n",
    "np.vstack((a4,a5))"
   ]
  },
  {
   "cell_type": "code",
   "execution_count": null,
   "id": "88096650",
   "metadata": {},
   "outputs": [],
   "source": []
  }
 ],
 "metadata": {
  "kernelspec": {
   "display_name": "Python 3 (ipykernel)",
   "language": "python",
   "name": "python3"
  },
  "language_info": {
   "codemirror_mode": {
    "name": "ipython",
    "version": 3
   },
   "file_extension": ".py",
   "mimetype": "text/x-python",
   "name": "python",
   "nbconvert_exporter": "python",
   "pygments_lexer": "ipython3",
   "version": "3.11.5"
  }
 },
 "nbformat": 4,
 "nbformat_minor": 5
}
