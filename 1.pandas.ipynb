{
 "cells": [
  {
   "cell_type": "code",
   "execution_count": 1,
   "id": "a8f11b5e",
   "metadata": {
    "ExecuteTime": {
     "end_time": "2024-05-05T13:48:25.355980Z",
     "start_time": "2024-05-05T13:48:24.613724Z"
    }
   },
   "outputs": [],
   "source": [
    "import numpy as np\n",
    "import pandas as pd  "
   ]
  },
  {
   "cell_type": "code",
   "execution_count": 2,
   "id": "69597561",
   "metadata": {
    "ExecuteTime": {
     "end_time": "2024-05-05T13:48:25.365266Z",
     "start_time": "2024-05-05T13:48:25.358515Z"
    }
   },
   "outputs": [],
   "source": [
    "marks={\n",
    "    \"math\":99,\n",
    "    \"science\":78,\n",
    "    \"social\":95\n",
    "    \n",
    "}\n",
    "marks_series=pd.Series(marks,name=\"karthik marks\")"
   ]
  },
  {
   "cell_type": "code",
   "execution_count": 3,
   "id": "e225a2cc",
   "metadata": {
    "ExecuteTime": {
     "end_time": "2024-05-05T13:48:25.377721Z",
     "start_time": "2024-05-05T13:48:25.367677Z"
    }
   },
   "outputs": [
    {
     "data": {
      "text/plain": [
       "math       99\n",
       "science    78\n",
       "social     95\n",
       "Name: karthik marks, dtype: int64"
      ]
     },
     "execution_count": 3,
     "metadata": {},
     "output_type": "execute_result"
    }
   ],
   "source": [
    "marks_series"
   ]
  },
  {
   "cell_type": "code",
   "execution_count": 4,
   "id": "dabb4548",
   "metadata": {
    "ExecuteTime": {
     "end_time": "2024-05-05T13:48:25.384981Z",
     "start_time": "2024-05-05T13:48:25.379737Z"
    }
   },
   "outputs": [
    {
     "data": {
      "text/plain": [
       "{'math': 99, 'science': 78, 'social': 95}"
      ]
     },
     "execution_count": 4,
     "metadata": {},
     "output_type": "execute_result"
    }
   ],
   "source": [
    "# series Attributes\n",
    "\n",
    "marks"
   ]
  },
  {
   "cell_type": "code",
   "execution_count": 5,
   "id": "bd56c562",
   "metadata": {
    "ExecuteTime": {
     "end_time": "2024-05-05T13:48:25.392327Z",
     "start_time": "2024-05-05T13:48:25.386508Z"
    }
   },
   "outputs": [
    {
     "data": {
      "text/plain": [
       "3"
      ]
     },
     "execution_count": 5,
     "metadata": {},
     "output_type": "execute_result"
    }
   ],
   "source": [
    "marks_series.size"
   ]
  },
  {
   "cell_type": "code",
   "execution_count": 6,
   "id": "706038f5",
   "metadata": {
    "ExecuteTime": {
     "end_time": "2024-05-05T13:48:25.400610Z",
     "start_time": "2024-05-05T13:48:25.395337Z"
    }
   },
   "outputs": [
    {
     "data": {
      "text/plain": [
       "dtype('int64')"
      ]
     },
     "execution_count": 6,
     "metadata": {},
     "output_type": "execute_result"
    }
   ],
   "source": [
    "marks_series.dtypes"
   ]
  },
  {
   "cell_type": "code",
   "execution_count": 7,
   "id": "4484e979",
   "metadata": {
    "ExecuteTime": {
     "end_time": "2024-05-05T13:48:25.406619Z",
     "start_time": "2024-05-05T13:48:25.402618Z"
    }
   },
   "outputs": [
    {
     "data": {
      "text/plain": [
       "dtype('int64')"
      ]
     },
     "execution_count": 7,
     "metadata": {},
     "output_type": "execute_result"
    }
   ],
   "source": [
    "marks_series.dtype"
   ]
  },
  {
   "cell_type": "code",
   "execution_count": 8,
   "id": "b39c88fd",
   "metadata": {
    "ExecuteTime": {
     "end_time": "2024-05-05T13:48:25.415108Z",
     "start_time": "2024-05-05T13:48:25.408647Z"
    }
   },
   "outputs": [
    {
     "data": {
      "text/plain": [
       "<bound method Series.unique of math       99\n",
       "science    78\n",
       "social     95\n",
       "Name: karthik marks, dtype: int64>"
      ]
     },
     "execution_count": 8,
     "metadata": {},
     "output_type": "execute_result"
    }
   ],
   "source": [
    "marks_series.unique"
   ]
  },
  {
   "cell_type": "code",
   "execution_count": 9,
   "id": "7b0b8bb9",
   "metadata": {
    "ExecuteTime": {
     "end_time": "2024-05-05T13:48:25.422672Z",
     "start_time": "2024-05-05T13:48:25.417711Z"
    }
   },
   "outputs": [
    {
     "data": {
      "text/plain": [
       "'karthik marks'"
      ]
     },
     "execution_count": 9,
     "metadata": {},
     "output_type": "execute_result"
    }
   ],
   "source": [
    "marks_series.name"
   ]
  },
  {
   "cell_type": "code",
   "execution_count": 10,
   "id": "b3217ea9",
   "metadata": {
    "ExecuteTime": {
     "end_time": "2024-05-05T13:48:25.433305Z",
     "start_time": "2024-05-05T13:48:25.427398Z"
    }
   },
   "outputs": [
    {
     "data": {
      "text/plain": [
       "<bound method Series.count of math       99\n",
       "science    78\n",
       "social     95\n",
       "Name: karthik marks, dtype: int64>"
      ]
     },
     "execution_count": 10,
     "metadata": {},
     "output_type": "execute_result"
    }
   ],
   "source": [
    "marks_series.count"
   ]
  },
  {
   "cell_type": "code",
   "execution_count": 11,
   "id": "4ec1f05b",
   "metadata": {
    "ExecuteTime": {
     "end_time": "2024-05-05T13:48:25.441044Z",
     "start_time": "2024-05-05T13:48:25.435312Z"
    }
   },
   "outputs": [
    {
     "data": {
      "text/plain": [
       "Index(['math', 'science', 'social'], dtype='object')"
      ]
     },
     "execution_count": 11,
     "metadata": {},
     "output_type": "execute_result"
    }
   ],
   "source": [
    "marks_series.index"
   ]
  },
  {
   "cell_type": "code",
   "execution_count": 12,
   "id": "0da48601",
   "metadata": {
    "ExecuteTime": {
     "end_time": "2024-05-05T13:48:25.449365Z",
     "start_time": "2024-05-05T13:48:25.443052Z"
    }
   },
   "outputs": [
    {
     "data": {
      "text/plain": [
       "array([99, 78, 95], dtype=int64)"
      ]
     },
     "execution_count": 12,
     "metadata": {},
     "output_type": "execute_result"
    }
   ],
   "source": [
    "marks_series.values\n"
   ]
  },
  {
   "cell_type": "code",
   "execution_count": 13,
   "id": "b668e55f",
   "metadata": {
    "ExecuteTime": {
     "end_time": "2024-05-05T13:48:25.456374Z",
     "start_time": "2024-05-05T13:48:25.451373Z"
    }
   },
   "outputs": [
    {
     "data": {
      "text/plain": [
       "99"
      ]
     },
     "execution_count": 13,
     "metadata": {},
     "output_type": "execute_result"
    }
   ],
   "source": [
    "max(marks_series.values)"
   ]
  },
  {
   "cell_type": "markdown",
   "id": "3092fa5b",
   "metadata": {},
   "source": [
    "# Series using read_csv"
   ]
  },
  {
   "cell_type": "code",
   "execution_count": 14,
   "id": "b39bcb11",
   "metadata": {
    "ExecuteTime": {
     "end_time": "2024-05-05T13:48:25.484785Z",
     "start_time": "2024-05-05T13:48:25.458850Z"
    }
   },
   "outputs": [],
   "source": [
    "subs=pd.read_csv(r\"C:\\Users\\karth\\OneDrive\\Desktop\\ml\\ml by campusx\\datasets-session-16\\subs.csv\")"
   ]
  },
  {
   "cell_type": "code",
   "execution_count": 15,
   "id": "bdcb39e7",
   "metadata": {
    "ExecuteTime": {
     "end_time": "2024-05-05T13:48:25.489902Z",
     "start_time": "2024-05-05T13:48:25.486299Z"
    }
   },
   "outputs": [
    {
     "name": "stdout",
     "output_type": "stream",
     "text": [
      "<class 'pandas.core.frame.DataFrame'>\n"
     ]
    }
   ],
   "source": [
    "print(type(subs))"
   ]
  },
  {
   "cell_type": "code",
   "execution_count": 16,
   "id": "2a147745",
   "metadata": {
    "ExecuteTime": {
     "end_time": "2024-05-05T13:48:25.495075Z",
     "start_time": "2024-05-05T13:48:25.491861Z"
    }
   },
   "outputs": [
    {
     "name": "stdout",
     "output_type": "stream",
     "text": [
      "<class 'pandas.core.series.Series'>\n"
     ]
    }
   ],
   "source": [
    "subs=subs.squeeze()\n",
    "print(type(subs))"
   ]
  },
  {
   "cell_type": "code",
   "execution_count": 17,
   "id": "8416dacc",
   "metadata": {
    "ExecuteTime": {
     "end_time": "2024-05-05T13:48:25.504082Z",
     "start_time": "2024-05-05T13:48:25.496594Z"
    }
   },
   "outputs": [
    {
     "data": {
      "text/plain": [
       "0       48\n",
       "1       57\n",
       "2       40\n",
       "3       43\n",
       "4       44\n",
       "      ... \n",
       "360    231\n",
       "361    226\n",
       "362    155\n",
       "363    144\n",
       "364    172\n",
       "Name: Subscribers gained, Length: 365, dtype: int64"
      ]
     },
     "execution_count": 17,
     "metadata": {},
     "output_type": "execute_result"
    }
   ],
   "source": [
    "subs"
   ]
  },
  {
   "cell_type": "code",
   "execution_count": 18,
   "id": "7fa63ace",
   "metadata": {
    "ExecuteTime": {
     "end_time": "2024-05-05T13:48:25.520746Z",
     "start_time": "2024-05-05T13:48:25.506595Z"
    }
   },
   "outputs": [],
   "source": [
    "kohil=pd.read_csv(r\"C:\\Users\\karth\\OneDrive\\Desktop\\ml\\ml by campusx\\datasets-session-16\\kohli_ipl.csv\",index_col=\"match_no\")"
   ]
  },
  {
   "cell_type": "code",
   "execution_count": 19,
   "id": "60142027",
   "metadata": {
    "ExecuteTime": {
     "end_time": "2024-05-05T13:48:25.536374Z",
     "start_time": "2024-05-05T13:48:25.521752Z"
    }
   },
   "outputs": [
    {
     "data": {
      "text/html": [
       "<div>\n",
       "<style scoped>\n",
       "    .dataframe tbody tr th:only-of-type {\n",
       "        vertical-align: middle;\n",
       "    }\n",
       "\n",
       "    .dataframe tbody tr th {\n",
       "        vertical-align: top;\n",
       "    }\n",
       "\n",
       "    .dataframe thead th {\n",
       "        text-align: right;\n",
       "    }\n",
       "</style>\n",
       "<table border=\"1\" class=\"dataframe\">\n",
       "  <thead>\n",
       "    <tr style=\"text-align: right;\">\n",
       "      <th></th>\n",
       "      <th>runs</th>\n",
       "    </tr>\n",
       "    <tr>\n",
       "      <th>match_no</th>\n",
       "      <th></th>\n",
       "    </tr>\n",
       "  </thead>\n",
       "  <tbody>\n",
       "    <tr>\n",
       "      <th>1</th>\n",
       "      <td>1</td>\n",
       "    </tr>\n",
       "    <tr>\n",
       "      <th>2</th>\n",
       "      <td>23</td>\n",
       "    </tr>\n",
       "    <tr>\n",
       "      <th>3</th>\n",
       "      <td>13</td>\n",
       "    </tr>\n",
       "    <tr>\n",
       "      <th>4</th>\n",
       "      <td>12</td>\n",
       "    </tr>\n",
       "    <tr>\n",
       "      <th>5</th>\n",
       "      <td>1</td>\n",
       "    </tr>\n",
       "    <tr>\n",
       "      <th>...</th>\n",
       "      <td>...</td>\n",
       "    </tr>\n",
       "    <tr>\n",
       "      <th>211</th>\n",
       "      <td>0</td>\n",
       "    </tr>\n",
       "    <tr>\n",
       "      <th>212</th>\n",
       "      <td>20</td>\n",
       "    </tr>\n",
       "    <tr>\n",
       "      <th>213</th>\n",
       "      <td>73</td>\n",
       "    </tr>\n",
       "    <tr>\n",
       "      <th>214</th>\n",
       "      <td>25</td>\n",
       "    </tr>\n",
       "    <tr>\n",
       "      <th>215</th>\n",
       "      <td>7</td>\n",
       "    </tr>\n",
       "  </tbody>\n",
       "</table>\n",
       "<p>215 rows × 1 columns</p>\n",
       "</div>"
      ],
      "text/plain": [
       "          runs\n",
       "match_no      \n",
       "1            1\n",
       "2           23\n",
       "3           13\n",
       "4           12\n",
       "5            1\n",
       "...        ...\n",
       "211          0\n",
       "212         20\n",
       "213         73\n",
       "214         25\n",
       "215          7\n",
       "\n",
       "[215 rows x 1 columns]"
      ]
     },
     "execution_count": 19,
     "metadata": {},
     "output_type": "execute_result"
    }
   ],
   "source": [
    "kohil"
   ]
  },
  {
   "cell_type": "code",
   "execution_count": 20,
   "id": "34877ac7",
   "metadata": {
    "ExecuteTime": {
     "end_time": "2024-05-05T13:48:25.552201Z",
     "start_time": "2024-05-05T13:48:25.537683Z"
    }
   },
   "outputs": [],
   "source": [
    "movies=pd.read_csv(r\"C:\\Users\\karth\\OneDrive\\Desktop\\ml\\ml by campusx\\datasets-session-16\\bollywood.csv\",index_col=\"movie\")"
   ]
  },
  {
   "cell_type": "code",
   "execution_count": 21,
   "id": "f22b6fda",
   "metadata": {
    "ExecuteTime": {
     "end_time": "2024-05-05T13:48:25.564065Z",
     "start_time": "2024-05-05T13:48:25.554211Z"
    }
   },
   "outputs": [
    {
     "data": {
      "text/html": [
       "<div>\n",
       "<style scoped>\n",
       "    .dataframe tbody tr th:only-of-type {\n",
       "        vertical-align: middle;\n",
       "    }\n",
       "\n",
       "    .dataframe tbody tr th {\n",
       "        vertical-align: top;\n",
       "    }\n",
       "\n",
       "    .dataframe thead th {\n",
       "        text-align: right;\n",
       "    }\n",
       "</style>\n",
       "<table border=\"1\" class=\"dataframe\">\n",
       "  <thead>\n",
       "    <tr style=\"text-align: right;\">\n",
       "      <th></th>\n",
       "      <th>lead</th>\n",
       "    </tr>\n",
       "    <tr>\n",
       "      <th>movie</th>\n",
       "      <th></th>\n",
       "    </tr>\n",
       "  </thead>\n",
       "  <tbody>\n",
       "    <tr>\n",
       "      <th>Uri: The Surgical Strike</th>\n",
       "      <td>Vicky Kaushal</td>\n",
       "    </tr>\n",
       "    <tr>\n",
       "      <th>Battalion 609</th>\n",
       "      <td>Vicky Ahuja</td>\n",
       "    </tr>\n",
       "    <tr>\n",
       "      <th>The Accidental Prime Minister (film)</th>\n",
       "      <td>Anupam Kher</td>\n",
       "    </tr>\n",
       "    <tr>\n",
       "      <th>Why Cheat India</th>\n",
       "      <td>Emraan Hashmi</td>\n",
       "    </tr>\n",
       "    <tr>\n",
       "      <th>Evening Shadows</th>\n",
       "      <td>Mona Ambegaonkar</td>\n",
       "    </tr>\n",
       "    <tr>\n",
       "      <th>...</th>\n",
       "      <td>...</td>\n",
       "    </tr>\n",
       "    <tr>\n",
       "      <th>Hum Tumhare Hain Sanam</th>\n",
       "      <td>Shah Rukh Khan</td>\n",
       "    </tr>\n",
       "    <tr>\n",
       "      <th>Aankhen (2002 film)</th>\n",
       "      <td>Amitabh Bachchan</td>\n",
       "    </tr>\n",
       "    <tr>\n",
       "      <th>Saathiya (film)</th>\n",
       "      <td>Vivek Oberoi</td>\n",
       "    </tr>\n",
       "    <tr>\n",
       "      <th>Company (film)</th>\n",
       "      <td>Ajay Devgn</td>\n",
       "    </tr>\n",
       "    <tr>\n",
       "      <th>Awara Paagal Deewana</th>\n",
       "      <td>Akshay Kumar</td>\n",
       "    </tr>\n",
       "  </tbody>\n",
       "</table>\n",
       "<p>1500 rows × 1 columns</p>\n",
       "</div>"
      ],
      "text/plain": [
       "                                                  lead\n",
       "movie                                                 \n",
       "Uri: The Surgical Strike                 Vicky Kaushal\n",
       "Battalion 609                              Vicky Ahuja\n",
       "The Accidental Prime Minister (film)       Anupam Kher\n",
       "Why Cheat India                          Emraan Hashmi\n",
       "Evening Shadows                       Mona Ambegaonkar\n",
       "...                                                ...\n",
       "Hum Tumhare Hain Sanam                  Shah Rukh Khan\n",
       "Aankhen (2002 film)                   Amitabh Bachchan\n",
       "Saathiya (film)                           Vivek Oberoi\n",
       "Company (film)                              Ajay Devgn\n",
       "Awara Paagal Deewana                      Akshay Kumar\n",
       "\n",
       "[1500 rows x 1 columns]"
      ]
     },
     "execution_count": 21,
     "metadata": {},
     "output_type": "execute_result"
    }
   ],
   "source": [
    "movies"
   ]
  },
  {
   "cell_type": "markdown",
   "id": "724b3c09",
   "metadata": {
    "ExecuteTime": {
     "end_time": "2024-05-02T17:58:11.372982Z",
     "start_time": "2024-05-02T17:58:11.369283Z"
    }
   },
   "source": [
    "# series methods"
   ]
  },
  {
   "cell_type": "code",
   "execution_count": 22,
   "id": "ee14787c",
   "metadata": {
    "ExecuteTime": {
     "end_time": "2024-05-05T13:48:25.572658Z",
     "start_time": "2024-05-05T13:48:25.565072Z"
    }
   },
   "outputs": [
    {
     "data": {
      "text/plain": [
       "0    48\n",
       "1    57\n",
       "2    40\n",
       "3    43\n",
       "4    44\n",
       "Name: Subscribers gained, dtype: int64"
      ]
     },
     "execution_count": 22,
     "metadata": {},
     "output_type": "execute_result"
    }
   ],
   "source": [
    "subs.head()"
   ]
  },
  {
   "cell_type": "code",
   "execution_count": 23,
   "id": "560f826c",
   "metadata": {
    "ExecuteTime": {
     "end_time": "2024-05-05T13:48:25.580657Z",
     "start_time": "2024-05-05T13:48:25.573672Z"
    }
   },
   "outputs": [
    {
     "data": {
      "text/plain": [
       "0    48\n",
       "1    57\n",
       "2    40\n",
       "3    43\n",
       "4    44\n",
       "5    46\n",
       "6    33\n",
       "7    40\n",
       "Name: Subscribers gained, dtype: int64"
      ]
     },
     "execution_count": 23,
     "metadata": {},
     "output_type": "execute_result"
    }
   ],
   "source": [
    "subs.head(8)"
   ]
  },
  {
   "cell_type": "code",
   "execution_count": 24,
   "id": "4ee434b2",
   "metadata": {
    "ExecuteTime": {
     "end_time": "2024-05-05T13:48:25.589698Z",
     "start_time": "2024-05-05T13:48:25.582671Z"
    }
   },
   "outputs": [
    {
     "data": {
      "text/html": [
       "<div>\n",
       "<style scoped>\n",
       "    .dataframe tbody tr th:only-of-type {\n",
       "        vertical-align: middle;\n",
       "    }\n",
       "\n",
       "    .dataframe tbody tr th {\n",
       "        vertical-align: top;\n",
       "    }\n",
       "\n",
       "    .dataframe thead th {\n",
       "        text-align: right;\n",
       "    }\n",
       "</style>\n",
       "<table border=\"1\" class=\"dataframe\">\n",
       "  <thead>\n",
       "    <tr style=\"text-align: right;\">\n",
       "      <th></th>\n",
       "      <th>runs</th>\n",
       "    </tr>\n",
       "    <tr>\n",
       "      <th>match_no</th>\n",
       "      <th></th>\n",
       "    </tr>\n",
       "  </thead>\n",
       "  <tbody>\n",
       "    <tr>\n",
       "      <th>212</th>\n",
       "      <td>20</td>\n",
       "    </tr>\n",
       "    <tr>\n",
       "      <th>213</th>\n",
       "      <td>73</td>\n",
       "    </tr>\n",
       "    <tr>\n",
       "      <th>214</th>\n",
       "      <td>25</td>\n",
       "    </tr>\n",
       "    <tr>\n",
       "      <th>215</th>\n",
       "      <td>7</td>\n",
       "    </tr>\n",
       "  </tbody>\n",
       "</table>\n",
       "</div>"
      ],
      "text/plain": [
       "          runs\n",
       "match_no      \n",
       "212         20\n",
       "213         73\n",
       "214         25\n",
       "215          7"
      ]
     },
     "execution_count": 24,
     "metadata": {},
     "output_type": "execute_result"
    }
   ],
   "source": [
    "kohil.tail(4)"
   ]
  },
  {
   "cell_type": "code",
   "execution_count": 25,
   "id": "ef2c1a5f",
   "metadata": {
    "ExecuteTime": {
     "end_time": "2024-05-05T13:48:25.601638Z",
     "start_time": "2024-05-05T13:48:25.592705Z"
    }
   },
   "outputs": [
    {
     "data": {
      "text/html": [
       "<div>\n",
       "<style scoped>\n",
       "    .dataframe tbody tr th:only-of-type {\n",
       "        vertical-align: middle;\n",
       "    }\n",
       "\n",
       "    .dataframe tbody tr th {\n",
       "        vertical-align: top;\n",
       "    }\n",
       "\n",
       "    .dataframe thead th {\n",
       "        text-align: right;\n",
       "    }\n",
       "</style>\n",
       "<table border=\"1\" class=\"dataframe\">\n",
       "  <thead>\n",
       "    <tr style=\"text-align: right;\">\n",
       "      <th></th>\n",
       "      <th>runs</th>\n",
       "    </tr>\n",
       "    <tr>\n",
       "      <th>match_no</th>\n",
       "      <th></th>\n",
       "    </tr>\n",
       "  </thead>\n",
       "  <tbody>\n",
       "    <tr>\n",
       "      <th>54</th>\n",
       "      <td>35</td>\n",
       "    </tr>\n",
       "    <tr>\n",
       "      <th>3</th>\n",
       "      <td>13</td>\n",
       "    </tr>\n",
       "    <tr>\n",
       "      <th>94</th>\n",
       "      <td>4</td>\n",
       "    </tr>\n",
       "    <tr>\n",
       "      <th>208</th>\n",
       "      <td>9</td>\n",
       "    </tr>\n",
       "    <tr>\n",
       "      <th>91</th>\n",
       "      <td>0</td>\n",
       "    </tr>\n",
       "  </tbody>\n",
       "</table>\n",
       "</div>"
      ],
      "text/plain": [
       "          runs\n",
       "match_no      \n",
       "54          35\n",
       "3           13\n",
       "94           4\n",
       "208          9\n",
       "91           0"
      ]
     },
     "execution_count": 25,
     "metadata": {},
     "output_type": "execute_result"
    }
   ],
   "source": [
    "kohil.sample(5)"
   ]
  },
  {
   "cell_type": "code",
   "execution_count": 26,
   "id": "0e1d7464",
   "metadata": {
    "ExecuteTime": {
     "end_time": "2024-05-05T13:48:25.614712Z",
     "start_time": "2024-05-05T13:48:25.603644Z"
    }
   },
   "outputs": [
    {
     "data": {
      "text/plain": [
       "lead            \n",
       "Akshay Kumar        48\n",
       "Amitabh Bachchan    45\n",
       "Ajay Devgn          38\n",
       "Salman Khan         31\n",
       "Sanjay Dutt         26\n",
       "                    ..\n",
       "Kashmira Shah        1\n",
       "Kartik Elangovan     1\n",
       "Karisma Kapoor       1\n",
       "Karan Sharma         1\n",
       "Zulfi Sayed          1\n",
       "Name: count, Length: 566, dtype: int64"
      ]
     },
     "execution_count": 26,
     "metadata": {},
     "output_type": "execute_result"
    }
   ],
   "source": [
    "movies.value_counts()"
   ]
  },
  {
   "cell_type": "code",
   "execution_count": 27,
   "id": "e5a9166f",
   "metadata": {
    "ExecuteTime": {
     "end_time": "2024-05-05T13:48:25.624077Z",
     "start_time": "2024-05-05T13:48:25.617248Z"
    }
   },
   "outputs": [
    {
     "data": {
      "text/html": [
       "<div>\n",
       "<style scoped>\n",
       "    .dataframe tbody tr th:only-of-type {\n",
       "        vertical-align: middle;\n",
       "    }\n",
       "\n",
       "    .dataframe tbody tr th {\n",
       "        vertical-align: top;\n",
       "    }\n",
       "\n",
       "    .dataframe thead th {\n",
       "        text-align: right;\n",
       "    }\n",
       "</style>\n",
       "<table border=\"1\" class=\"dataframe\">\n",
       "  <thead>\n",
       "    <tr style=\"text-align: right;\">\n",
       "      <th></th>\n",
       "      <th>runs</th>\n",
       "    </tr>\n",
       "    <tr>\n",
       "      <th>match_no</th>\n",
       "      <th></th>\n",
       "    </tr>\n",
       "  </thead>\n",
       "  <tbody>\n",
       "    <tr>\n",
       "      <th>128</th>\n",
       "      <td>113</td>\n",
       "    </tr>\n",
       "    <tr>\n",
       "      <th>126</th>\n",
       "      <td>109</td>\n",
       "    </tr>\n",
       "    <tr>\n",
       "      <th>123</th>\n",
       "      <td>108</td>\n",
       "    </tr>\n",
       "  </tbody>\n",
       "</table>\n",
       "</div>"
      ],
      "text/plain": [
       "          runs\n",
       "match_no      \n",
       "128        113\n",
       "126        109\n",
       "123        108"
      ]
     },
     "execution_count": 27,
     "metadata": {},
     "output_type": "execute_result"
    }
   ],
   "source": [
    "kohil.sort_values(\"runs\",ascending=False).head(3)"
   ]
  },
  {
   "cell_type": "markdown",
   "id": "d2dba3ec",
   "metadata": {},
   "source": [
    "# Series Math Methons\n"
   ]
  },
  {
   "cell_type": "code",
   "execution_count": 28,
   "id": "8388d653",
   "metadata": {
    "ExecuteTime": {
     "end_time": "2024-05-05T13:48:25.637694Z",
     "start_time": "2024-05-05T13:48:25.629615Z"
    }
   },
   "outputs": [
    {
     "data": {
      "text/plain": [
       "runs    215\n",
       "dtype: int64"
      ]
     },
     "execution_count": 28,
     "metadata": {},
     "output_type": "execute_result"
    }
   ],
   "source": [
    "kohil.count()"
   ]
  },
  {
   "cell_type": "code",
   "execution_count": 29,
   "id": "86364955",
   "metadata": {
    "ExecuteTime": {
     "end_time": "2024-05-05T13:48:25.647407Z",
     "start_time": "2024-05-05T13:48:25.639706Z"
    }
   },
   "outputs": [
    {
     "data": {
      "text/plain": [
       "runs    6634\n",
       "dtype: int64"
      ]
     },
     "execution_count": 29,
     "metadata": {},
     "output_type": "execute_result"
    }
   ],
   "source": [
    "kohil.sum()"
   ]
  },
  {
   "cell_type": "code",
   "execution_count": 30,
   "id": "583160f1",
   "metadata": {
    "ExecuteTime": {
     "end_time": "2024-05-05T13:48:25.665476Z",
     "start_time": "2024-05-05T13:48:25.650421Z"
    }
   },
   "outputs": [
    {
     "data": {
      "text/plain": [
       "135.64383561643837"
      ]
     },
     "execution_count": 30,
     "metadata": {},
     "output_type": "execute_result"
    }
   ],
   "source": [
    "subs.mean()"
   ]
  },
  {
   "cell_type": "code",
   "execution_count": 31,
   "id": "24a25401",
   "metadata": {
    "ExecuteTime": {
     "end_time": "2024-05-05T13:48:25.674671Z",
     "start_time": "2024-05-05T13:48:25.667826Z"
    }
   },
   "outputs": [
    {
     "data": {
      "text/plain": [
       "runs    24.0\n",
       "dtype: float64"
      ]
     },
     "execution_count": 31,
     "metadata": {},
     "output_type": "execute_result"
    }
   ],
   "source": [
    "kohil.median()"
   ]
  },
  {
   "cell_type": "code",
   "execution_count": 32,
   "id": "5085c056",
   "metadata": {
    "ExecuteTime": {
     "end_time": "2024-05-05T13:48:25.685440Z",
     "start_time": "2024-05-05T13:48:25.677200Z"
    }
   },
   "outputs": [
    {
     "data": {
      "text/html": [
       "<div>\n",
       "<style scoped>\n",
       "    .dataframe tbody tr th:only-of-type {\n",
       "        vertical-align: middle;\n",
       "    }\n",
       "\n",
       "    .dataframe tbody tr th {\n",
       "        vertical-align: top;\n",
       "    }\n",
       "\n",
       "    .dataframe thead th {\n",
       "        text-align: right;\n",
       "    }\n",
       "</style>\n",
       "<table border=\"1\" class=\"dataframe\">\n",
       "  <thead>\n",
       "    <tr style=\"text-align: right;\">\n",
       "      <th></th>\n",
       "      <th>runs</th>\n",
       "    </tr>\n",
       "  </thead>\n",
       "  <tbody>\n",
       "    <tr>\n",
       "      <th>0</th>\n",
       "      <td>0</td>\n",
       "    </tr>\n",
       "  </tbody>\n",
       "</table>\n",
       "</div>"
      ],
      "text/plain": [
       "   runs\n",
       "0     0"
      ]
     },
     "execution_count": 32,
     "metadata": {},
     "output_type": "execute_result"
    }
   ],
   "source": [
    "kohil.mode()"
   ]
  },
  {
   "cell_type": "code",
   "execution_count": 33,
   "id": "8a0508bd",
   "metadata": {
    "ExecuteTime": {
     "end_time": "2024-05-05T13:48:25.694451Z",
     "start_time": "2024-05-05T13:48:25.687800Z"
    }
   },
   "outputs": [
    {
     "data": {
      "text/plain": [
       "runs    26.229801\n",
       "dtype: float64"
      ]
     },
     "execution_count": 33,
     "metadata": {},
     "output_type": "execute_result"
    }
   ],
   "source": [
    "kohil.std()"
   ]
  },
  {
   "cell_type": "code",
   "execution_count": 34,
   "id": "810daa1c",
   "metadata": {
    "ExecuteTime": {
     "end_time": "2024-05-05T13:48:25.703664Z",
     "start_time": "2024-05-05T13:48:25.696460Z"
    }
   },
   "outputs": [
    {
     "data": {
      "text/plain": [
       "runs    688.002478\n",
       "dtype: float64"
      ]
     },
     "execution_count": 34,
     "metadata": {},
     "output_type": "execute_result"
    }
   ],
   "source": [
    "kohil.var()"
   ]
  },
  {
   "cell_type": "code",
   "execution_count": 35,
   "id": "d0c3adad",
   "metadata": {
    "ExecuteTime": {
     "end_time": "2024-05-05T13:48:25.711603Z",
     "start_time": "2024-05-05T13:48:25.704671Z"
    }
   },
   "outputs": [
    {
     "data": {
      "text/plain": [
       "396"
      ]
     },
     "execution_count": 35,
     "metadata": {},
     "output_type": "execute_result"
    }
   ],
   "source": [
    "subs.max()"
   ]
  },
  {
   "cell_type": "code",
   "execution_count": 36,
   "id": "bff4aa50",
   "metadata": {
    "ExecuteTime": {
     "end_time": "2024-05-05T13:48:25.719201Z",
     "start_time": "2024-05-05T13:48:25.713646Z"
    }
   },
   "outputs": [
    {
     "data": {
      "text/plain": [
       "33"
      ]
     },
     "execution_count": 36,
     "metadata": {},
     "output_type": "execute_result"
    }
   ],
   "source": [
    "subs.min()"
   ]
  },
  {
   "cell_type": "code",
   "execution_count": 37,
   "id": "38f6d5c8",
   "metadata": {
    "ExecuteTime": {
     "end_time": "2024-05-05T13:48:25.733345Z",
     "start_time": "2024-05-05T13:48:25.721208Z"
    }
   },
   "outputs": [
    {
     "data": {
      "text/html": [
       "<div>\n",
       "<style scoped>\n",
       "    .dataframe tbody tr th:only-of-type {\n",
       "        vertical-align: middle;\n",
       "    }\n",
       "\n",
       "    .dataframe tbody tr th {\n",
       "        vertical-align: top;\n",
       "    }\n",
       "\n",
       "    .dataframe thead th {\n",
       "        text-align: right;\n",
       "    }\n",
       "</style>\n",
       "<table border=\"1\" class=\"dataframe\">\n",
       "  <thead>\n",
       "    <tr style=\"text-align: right;\">\n",
       "      <th></th>\n",
       "      <th>runs</th>\n",
       "    </tr>\n",
       "  </thead>\n",
       "  <tbody>\n",
       "    <tr>\n",
       "      <th>count</th>\n",
       "      <td>215.000000</td>\n",
       "    </tr>\n",
       "    <tr>\n",
       "      <th>mean</th>\n",
       "      <td>30.855814</td>\n",
       "    </tr>\n",
       "    <tr>\n",
       "      <th>std</th>\n",
       "      <td>26.229801</td>\n",
       "    </tr>\n",
       "    <tr>\n",
       "      <th>min</th>\n",
       "      <td>0.000000</td>\n",
       "    </tr>\n",
       "    <tr>\n",
       "      <th>25%</th>\n",
       "      <td>9.000000</td>\n",
       "    </tr>\n",
       "    <tr>\n",
       "      <th>50%</th>\n",
       "      <td>24.000000</td>\n",
       "    </tr>\n",
       "    <tr>\n",
       "      <th>75%</th>\n",
       "      <td>48.000000</td>\n",
       "    </tr>\n",
       "    <tr>\n",
       "      <th>max</th>\n",
       "      <td>113.000000</td>\n",
       "    </tr>\n",
       "  </tbody>\n",
       "</table>\n",
       "</div>"
      ],
      "text/plain": [
       "             runs\n",
       "count  215.000000\n",
       "mean    30.855814\n",
       "std     26.229801\n",
       "min      0.000000\n",
       "25%      9.000000\n",
       "50%     24.000000\n",
       "75%     48.000000\n",
       "max    113.000000"
      ]
     },
     "execution_count": 37,
     "metadata": {},
     "output_type": "execute_result"
    }
   ],
   "source": [
    "kohil.describe()"
   ]
  },
  {
   "cell_type": "code",
   "execution_count": 42,
   "id": "704ae860",
   "metadata": {
    "ExecuteTime": {
     "end_time": "2024-05-05T13:50:13.406860Z",
     "start_time": "2024-05-05T13:50:13.403047Z"
    }
   },
   "outputs": [],
   "source": [
    "x=pd.Series(np.random.randint(40,100,(10,)))"
   ]
  },
  {
   "cell_type": "code",
   "execution_count": 43,
   "id": "5f968695",
   "metadata": {
    "ExecuteTime": {
     "end_time": "2024-05-05T13:50:13.970093Z",
     "start_time": "2024-05-05T13:50:13.964495Z"
    }
   },
   "outputs": [
    {
     "data": {
      "text/plain": [
       "0    65\n",
       "1    97\n",
       "2    90\n",
       "3    48\n",
       "4    49\n",
       "5    97\n",
       "6    60\n",
       "7    69\n",
       "8    52\n",
       "9    45\n",
       "dtype: int32"
      ]
     },
     "execution_count": 43,
     "metadata": {},
     "output_type": "execute_result"
    }
   ],
   "source": [
    "x"
   ]
  },
  {
   "cell_type": "code",
   "execution_count": 44,
   "id": "6235b371",
   "metadata": {
    "ExecuteTime": {
     "end_time": "2024-05-05T13:50:19.156342Z",
     "start_time": "2024-05-05T13:50:19.151746Z"
    }
   },
   "outputs": [
    {
     "data": {
      "text/plain": [
       "65"
      ]
     },
     "execution_count": 44,
     "metadata": {},
     "output_type": "execute_result"
    }
   ],
   "source": [
    "x[0]"
   ]
  },
  {
   "cell_type": "code",
   "execution_count": 45,
   "id": "d89271a4",
   "metadata": {
    "ExecuteTime": {
     "end_time": "2024-05-05T13:50:37.567207Z",
     "start_time": "2024-05-05T13:50:36.412370Z"
    }
   },
   "outputs": [
    {
     "ename": "KeyError",
     "evalue": "-1",
     "output_type": "error",
     "traceback": [
      "\u001b[1;31m---------------------------------------------------------------------------\u001b[0m",
      "\u001b[1;31mValueError\u001b[0m                                Traceback (most recent call last)",
      "File \u001b[1;32m~\\anaconda3\\Lib\\site-packages\\pandas\\core\\indexes\\range.py:345\u001b[0m, in \u001b[0;36mRangeIndex.get_loc\u001b[1;34m(self, key)\u001b[0m\n\u001b[0;32m    344\u001b[0m \u001b[38;5;28;01mtry\u001b[39;00m:\n\u001b[1;32m--> 345\u001b[0m     \u001b[38;5;28;01mreturn\u001b[39;00m \u001b[38;5;28mself\u001b[39m\u001b[38;5;241m.\u001b[39m_range\u001b[38;5;241m.\u001b[39mindex(new_key)\n\u001b[0;32m    346\u001b[0m \u001b[38;5;28;01mexcept\u001b[39;00m \u001b[38;5;167;01mValueError\u001b[39;00m \u001b[38;5;28;01mas\u001b[39;00m err:\n",
      "\u001b[1;31mValueError\u001b[0m: -1 is not in range",
      "\nThe above exception was the direct cause of the following exception:\n",
      "\u001b[1;31mKeyError\u001b[0m                                  Traceback (most recent call last)",
      "Cell \u001b[1;32mIn[45], line 2\u001b[0m\n\u001b[0;32m      1\u001b[0m \u001b[38;5;66;03m# _ve indexing\u001b[39;00m\n\u001b[1;32m----> 2\u001b[0m x[\u001b[38;5;241m-\u001b[39m\u001b[38;5;241m1\u001b[39m]\n",
      "File \u001b[1;32m~\\anaconda3\\Lib\\site-packages\\pandas\\core\\series.py:1007\u001b[0m, in \u001b[0;36mSeries.__getitem__\u001b[1;34m(self, key)\u001b[0m\n\u001b[0;32m   1004\u001b[0m     \u001b[38;5;28;01mreturn\u001b[39;00m \u001b[38;5;28mself\u001b[39m\u001b[38;5;241m.\u001b[39m_values[key]\n\u001b[0;32m   1006\u001b[0m \u001b[38;5;28;01melif\u001b[39;00m key_is_scalar:\n\u001b[1;32m-> 1007\u001b[0m     \u001b[38;5;28;01mreturn\u001b[39;00m \u001b[38;5;28mself\u001b[39m\u001b[38;5;241m.\u001b[39m_get_value(key)\n\u001b[0;32m   1009\u001b[0m \u001b[38;5;28;01mif\u001b[39;00m is_hashable(key):\n\u001b[0;32m   1010\u001b[0m     \u001b[38;5;66;03m# Otherwise index.get_value will raise InvalidIndexError\u001b[39;00m\n\u001b[0;32m   1011\u001b[0m     \u001b[38;5;28;01mtry\u001b[39;00m:\n\u001b[0;32m   1012\u001b[0m         \u001b[38;5;66;03m# For labels that don't resolve as scalars like tuples and frozensets\u001b[39;00m\n",
      "File \u001b[1;32m~\\anaconda3\\Lib\\site-packages\\pandas\\core\\series.py:1116\u001b[0m, in \u001b[0;36mSeries._get_value\u001b[1;34m(self, label, takeable)\u001b[0m\n\u001b[0;32m   1113\u001b[0m     \u001b[38;5;28;01mreturn\u001b[39;00m \u001b[38;5;28mself\u001b[39m\u001b[38;5;241m.\u001b[39m_values[label]\n\u001b[0;32m   1115\u001b[0m \u001b[38;5;66;03m# Similar to Index.get_value, but we do not fall back to positional\u001b[39;00m\n\u001b[1;32m-> 1116\u001b[0m loc \u001b[38;5;241m=\u001b[39m \u001b[38;5;28mself\u001b[39m\u001b[38;5;241m.\u001b[39mindex\u001b[38;5;241m.\u001b[39mget_loc(label)\n\u001b[0;32m   1118\u001b[0m \u001b[38;5;28;01mif\u001b[39;00m is_integer(loc):\n\u001b[0;32m   1119\u001b[0m     \u001b[38;5;28;01mreturn\u001b[39;00m \u001b[38;5;28mself\u001b[39m\u001b[38;5;241m.\u001b[39m_values[loc]\n",
      "File \u001b[1;32m~\\anaconda3\\Lib\\site-packages\\pandas\\core\\indexes\\range.py:347\u001b[0m, in \u001b[0;36mRangeIndex.get_loc\u001b[1;34m(self, key)\u001b[0m\n\u001b[0;32m    345\u001b[0m         \u001b[38;5;28;01mreturn\u001b[39;00m \u001b[38;5;28mself\u001b[39m\u001b[38;5;241m.\u001b[39m_range\u001b[38;5;241m.\u001b[39mindex(new_key)\n\u001b[0;32m    346\u001b[0m     \u001b[38;5;28;01mexcept\u001b[39;00m \u001b[38;5;167;01mValueError\u001b[39;00m \u001b[38;5;28;01mas\u001b[39;00m err:\n\u001b[1;32m--> 347\u001b[0m         \u001b[38;5;28;01mraise\u001b[39;00m \u001b[38;5;167;01mKeyError\u001b[39;00m(key) \u001b[38;5;28;01mfrom\u001b[39;00m \u001b[38;5;21;01merr\u001b[39;00m\n\u001b[0;32m    348\u001b[0m \u001b[38;5;28;01mif\u001b[39;00m \u001b[38;5;28misinstance\u001b[39m(key, Hashable):\n\u001b[0;32m    349\u001b[0m     \u001b[38;5;28;01mraise\u001b[39;00m \u001b[38;5;167;01mKeyError\u001b[39;00m(key)\n",
      "\u001b[1;31mKeyError\u001b[0m: -1"
     ]
    }
   ],
   "source": [
    "# _ve indexing\n",
    "x[-1]"
   ]
  },
  {
   "cell_type": "code",
   "execution_count": 46,
   "id": "4cab8cee",
   "metadata": {
    "ExecuteTime": {
     "end_time": "2024-05-05T13:50:45.211622Z",
     "start_time": "2024-05-05T13:50:45.202764Z"
    }
   },
   "outputs": [
    {
     "data": {
      "text/html": [
       "<div>\n",
       "<style scoped>\n",
       "    .dataframe tbody tr th:only-of-type {\n",
       "        vertical-align: middle;\n",
       "    }\n",
       "\n",
       "    .dataframe tbody tr th {\n",
       "        vertical-align: top;\n",
       "    }\n",
       "\n",
       "    .dataframe thead th {\n",
       "        text-align: right;\n",
       "    }\n",
       "</style>\n",
       "<table border=\"1\" class=\"dataframe\">\n",
       "  <thead>\n",
       "    <tr style=\"text-align: right;\">\n",
       "      <th></th>\n",
       "      <th>lead</th>\n",
       "    </tr>\n",
       "    <tr>\n",
       "      <th>movie</th>\n",
       "      <th></th>\n",
       "    </tr>\n",
       "  </thead>\n",
       "  <tbody>\n",
       "    <tr>\n",
       "      <th>Uri: The Surgical Strike</th>\n",
       "      <td>Vicky Kaushal</td>\n",
       "    </tr>\n",
       "    <tr>\n",
       "      <th>Battalion 609</th>\n",
       "      <td>Vicky Ahuja</td>\n",
       "    </tr>\n",
       "    <tr>\n",
       "      <th>The Accidental Prime Minister (film)</th>\n",
       "      <td>Anupam Kher</td>\n",
       "    </tr>\n",
       "    <tr>\n",
       "      <th>Why Cheat India</th>\n",
       "      <td>Emraan Hashmi</td>\n",
       "    </tr>\n",
       "    <tr>\n",
       "      <th>Evening Shadows</th>\n",
       "      <td>Mona Ambegaonkar</td>\n",
       "    </tr>\n",
       "    <tr>\n",
       "      <th>...</th>\n",
       "      <td>...</td>\n",
       "    </tr>\n",
       "    <tr>\n",
       "      <th>Hum Tumhare Hain Sanam</th>\n",
       "      <td>Shah Rukh Khan</td>\n",
       "    </tr>\n",
       "    <tr>\n",
       "      <th>Aankhen (2002 film)</th>\n",
       "      <td>Amitabh Bachchan</td>\n",
       "    </tr>\n",
       "    <tr>\n",
       "      <th>Saathiya (film)</th>\n",
       "      <td>Vivek Oberoi</td>\n",
       "    </tr>\n",
       "    <tr>\n",
       "      <th>Company (film)</th>\n",
       "      <td>Ajay Devgn</td>\n",
       "    </tr>\n",
       "    <tr>\n",
       "      <th>Awara Paagal Deewana</th>\n",
       "      <td>Akshay Kumar</td>\n",
       "    </tr>\n",
       "  </tbody>\n",
       "</table>\n",
       "<p>1500 rows × 1 columns</p>\n",
       "</div>"
      ],
      "text/plain": [
       "                                                  lead\n",
       "movie                                                 \n",
       "Uri: The Surgical Strike                 Vicky Kaushal\n",
       "Battalion 609                              Vicky Ahuja\n",
       "The Accidental Prime Minister (film)       Anupam Kher\n",
       "Why Cheat India                          Emraan Hashmi\n",
       "Evening Shadows                       Mona Ambegaonkar\n",
       "...                                                ...\n",
       "Hum Tumhare Hain Sanam                  Shah Rukh Khan\n",
       "Aankhen (2002 film)                   Amitabh Bachchan\n",
       "Saathiya (film)                           Vivek Oberoi\n",
       "Company (film)                              Ajay Devgn\n",
       "Awara Paagal Deewana                      Akshay Kumar\n",
       "\n",
       "[1500 rows x 1 columns]"
      ]
     },
     "execution_count": 46,
     "metadata": {},
     "output_type": "execute_result"
    }
   ],
   "source": [
    "movies"
   ]
  },
  {
   "cell_type": "code",
   "execution_count": 51,
   "id": "3acb546f",
   "metadata": {
    "ExecuteTime": {
     "end_time": "2024-05-05T13:51:23.708924Z",
     "start_time": "2024-05-05T13:51:23.655638Z"
    }
   },
   "outputs": [
    {
     "ename": "KeyError",
     "evalue": "0",
     "output_type": "error",
     "traceback": [
      "\u001b[1;31m---------------------------------------------------------------------------\u001b[0m",
      "\u001b[1;31mKeyError\u001b[0m                                  Traceback (most recent call last)",
      "File \u001b[1;32m~\\anaconda3\\Lib\\site-packages\\pandas\\core\\indexes\\base.py:3653\u001b[0m, in \u001b[0;36mIndex.get_loc\u001b[1;34m(self, key)\u001b[0m\n\u001b[0;32m   3652\u001b[0m \u001b[38;5;28;01mtry\u001b[39;00m:\n\u001b[1;32m-> 3653\u001b[0m     \u001b[38;5;28;01mreturn\u001b[39;00m \u001b[38;5;28mself\u001b[39m\u001b[38;5;241m.\u001b[39m_engine\u001b[38;5;241m.\u001b[39mget_loc(casted_key)\n\u001b[0;32m   3654\u001b[0m \u001b[38;5;28;01mexcept\u001b[39;00m \u001b[38;5;167;01mKeyError\u001b[39;00m \u001b[38;5;28;01mas\u001b[39;00m err:\n",
      "File \u001b[1;32m~\\anaconda3\\Lib\\site-packages\\pandas\\_libs\\index.pyx:147\u001b[0m, in \u001b[0;36mpandas._libs.index.IndexEngine.get_loc\u001b[1;34m()\u001b[0m\n",
      "File \u001b[1;32m~\\anaconda3\\Lib\\site-packages\\pandas\\_libs\\index.pyx:176\u001b[0m, in \u001b[0;36mpandas._libs.index.IndexEngine.get_loc\u001b[1;34m()\u001b[0m\n",
      "File \u001b[1;32mpandas\\_libs\\hashtable_class_helper.pxi:7080\u001b[0m, in \u001b[0;36mpandas._libs.hashtable.PyObjectHashTable.get_item\u001b[1;34m()\u001b[0m\n",
      "File \u001b[1;32mpandas\\_libs\\hashtable_class_helper.pxi:7088\u001b[0m, in \u001b[0;36mpandas._libs.hashtable.PyObjectHashTable.get_item\u001b[1;34m()\u001b[0m\n",
      "\u001b[1;31mKeyError\u001b[0m: 0",
      "\nThe above exception was the direct cause of the following exception:\n",
      "\u001b[1;31mKeyError\u001b[0m                                  Traceback (most recent call last)",
      "Cell \u001b[1;32mIn[51], line 1\u001b[0m\n\u001b[1;32m----> 1\u001b[0m movies[\u001b[38;5;241m0\u001b[39m]\n",
      "File \u001b[1;32m~\\anaconda3\\Lib\\site-packages\\pandas\\core\\frame.py:3761\u001b[0m, in \u001b[0;36mDataFrame.__getitem__\u001b[1;34m(self, key)\u001b[0m\n\u001b[0;32m   3759\u001b[0m \u001b[38;5;28;01mif\u001b[39;00m \u001b[38;5;28mself\u001b[39m\u001b[38;5;241m.\u001b[39mcolumns\u001b[38;5;241m.\u001b[39mnlevels \u001b[38;5;241m>\u001b[39m \u001b[38;5;241m1\u001b[39m:\n\u001b[0;32m   3760\u001b[0m     \u001b[38;5;28;01mreturn\u001b[39;00m \u001b[38;5;28mself\u001b[39m\u001b[38;5;241m.\u001b[39m_getitem_multilevel(key)\n\u001b[1;32m-> 3761\u001b[0m indexer \u001b[38;5;241m=\u001b[39m \u001b[38;5;28mself\u001b[39m\u001b[38;5;241m.\u001b[39mcolumns\u001b[38;5;241m.\u001b[39mget_loc(key)\n\u001b[0;32m   3762\u001b[0m \u001b[38;5;28;01mif\u001b[39;00m is_integer(indexer):\n\u001b[0;32m   3763\u001b[0m     indexer \u001b[38;5;241m=\u001b[39m [indexer]\n",
      "File \u001b[1;32m~\\anaconda3\\Lib\\site-packages\\pandas\\core\\indexes\\base.py:3655\u001b[0m, in \u001b[0;36mIndex.get_loc\u001b[1;34m(self, key)\u001b[0m\n\u001b[0;32m   3653\u001b[0m     \u001b[38;5;28;01mreturn\u001b[39;00m \u001b[38;5;28mself\u001b[39m\u001b[38;5;241m.\u001b[39m_engine\u001b[38;5;241m.\u001b[39mget_loc(casted_key)\n\u001b[0;32m   3654\u001b[0m \u001b[38;5;28;01mexcept\u001b[39;00m \u001b[38;5;167;01mKeyError\u001b[39;00m \u001b[38;5;28;01mas\u001b[39;00m err:\n\u001b[1;32m-> 3655\u001b[0m     \u001b[38;5;28;01mraise\u001b[39;00m \u001b[38;5;167;01mKeyError\u001b[39;00m(key) \u001b[38;5;28;01mfrom\u001b[39;00m \u001b[38;5;21;01merr\u001b[39;00m\n\u001b[0;32m   3656\u001b[0m \u001b[38;5;28;01mexcept\u001b[39;00m \u001b[38;5;167;01mTypeError\u001b[39;00m:\n\u001b[0;32m   3657\u001b[0m     \u001b[38;5;66;03m# If we have a listlike key, _check_indexing_error will raise\u001b[39;00m\n\u001b[0;32m   3658\u001b[0m     \u001b[38;5;66;03m#  InvalidIndexError. Otherwise we fall through and re-raise\u001b[39;00m\n\u001b[0;32m   3659\u001b[0m     \u001b[38;5;66;03m#  the TypeError.\u001b[39;00m\n\u001b[0;32m   3660\u001b[0m     \u001b[38;5;28mself\u001b[39m\u001b[38;5;241m.\u001b[39m_check_indexing_error(key)\n",
      "\u001b[1;31mKeyError\u001b[0m: 0"
     ]
    }
   ],
   "source": [
    "movies[0]"
   ]
  },
  {
   "cell_type": "code",
   "execution_count": 53,
   "id": "b62833d4",
   "metadata": {
    "ExecuteTime": {
     "end_time": "2024-05-05T13:52:28.923981Z",
     "start_time": "2024-05-05T13:52:28.869117Z"
    }
   },
   "outputs": [
    {
     "ename": "KeyError",
     "evalue": "'Battalion 609'",
     "output_type": "error",
     "traceback": [
      "\u001b[1;31m---------------------------------------------------------------------------\u001b[0m",
      "\u001b[1;31mKeyError\u001b[0m                                  Traceback (most recent call last)",
      "File \u001b[1;32m~\\anaconda3\\Lib\\site-packages\\pandas\\core\\indexes\\base.py:3653\u001b[0m, in \u001b[0;36mIndex.get_loc\u001b[1;34m(self, key)\u001b[0m\n\u001b[0;32m   3652\u001b[0m \u001b[38;5;28;01mtry\u001b[39;00m:\n\u001b[1;32m-> 3653\u001b[0m     \u001b[38;5;28;01mreturn\u001b[39;00m \u001b[38;5;28mself\u001b[39m\u001b[38;5;241m.\u001b[39m_engine\u001b[38;5;241m.\u001b[39mget_loc(casted_key)\n\u001b[0;32m   3654\u001b[0m \u001b[38;5;28;01mexcept\u001b[39;00m \u001b[38;5;167;01mKeyError\u001b[39;00m \u001b[38;5;28;01mas\u001b[39;00m err:\n",
      "File \u001b[1;32m~\\anaconda3\\Lib\\site-packages\\pandas\\_libs\\index.pyx:147\u001b[0m, in \u001b[0;36mpandas._libs.index.IndexEngine.get_loc\u001b[1;34m()\u001b[0m\n",
      "File \u001b[1;32m~\\anaconda3\\Lib\\site-packages\\pandas\\_libs\\index.pyx:176\u001b[0m, in \u001b[0;36mpandas._libs.index.IndexEngine.get_loc\u001b[1;34m()\u001b[0m\n",
      "File \u001b[1;32mpandas\\_libs\\hashtable_class_helper.pxi:7080\u001b[0m, in \u001b[0;36mpandas._libs.hashtable.PyObjectHashTable.get_item\u001b[1;34m()\u001b[0m\n",
      "File \u001b[1;32mpandas\\_libs\\hashtable_class_helper.pxi:7088\u001b[0m, in \u001b[0;36mpandas._libs.hashtable.PyObjectHashTable.get_item\u001b[1;34m()\u001b[0m\n",
      "\u001b[1;31mKeyError\u001b[0m: 'Battalion 609'",
      "\nThe above exception was the direct cause of the following exception:\n",
      "\u001b[1;31mKeyError\u001b[0m                                  Traceback (most recent call last)",
      "Cell \u001b[1;32mIn[53], line 1\u001b[0m\n\u001b[1;32m----> 1\u001b[0m movies[\u001b[38;5;124m\"\u001b[39m\u001b[38;5;124mBattalion 609\u001b[39m\u001b[38;5;124m\"\u001b[39m]\n",
      "File \u001b[1;32m~\\anaconda3\\Lib\\site-packages\\pandas\\core\\frame.py:3761\u001b[0m, in \u001b[0;36mDataFrame.__getitem__\u001b[1;34m(self, key)\u001b[0m\n\u001b[0;32m   3759\u001b[0m \u001b[38;5;28;01mif\u001b[39;00m \u001b[38;5;28mself\u001b[39m\u001b[38;5;241m.\u001b[39mcolumns\u001b[38;5;241m.\u001b[39mnlevels \u001b[38;5;241m>\u001b[39m \u001b[38;5;241m1\u001b[39m:\n\u001b[0;32m   3760\u001b[0m     \u001b[38;5;28;01mreturn\u001b[39;00m \u001b[38;5;28mself\u001b[39m\u001b[38;5;241m.\u001b[39m_getitem_multilevel(key)\n\u001b[1;32m-> 3761\u001b[0m indexer \u001b[38;5;241m=\u001b[39m \u001b[38;5;28mself\u001b[39m\u001b[38;5;241m.\u001b[39mcolumns\u001b[38;5;241m.\u001b[39mget_loc(key)\n\u001b[0;32m   3762\u001b[0m \u001b[38;5;28;01mif\u001b[39;00m is_integer(indexer):\n\u001b[0;32m   3763\u001b[0m     indexer \u001b[38;5;241m=\u001b[39m [indexer]\n",
      "File \u001b[1;32m~\\anaconda3\\Lib\\site-packages\\pandas\\core\\indexes\\base.py:3655\u001b[0m, in \u001b[0;36mIndex.get_loc\u001b[1;34m(self, key)\u001b[0m\n\u001b[0;32m   3653\u001b[0m     \u001b[38;5;28;01mreturn\u001b[39;00m \u001b[38;5;28mself\u001b[39m\u001b[38;5;241m.\u001b[39m_engine\u001b[38;5;241m.\u001b[39mget_loc(casted_key)\n\u001b[0;32m   3654\u001b[0m \u001b[38;5;28;01mexcept\u001b[39;00m \u001b[38;5;167;01mKeyError\u001b[39;00m \u001b[38;5;28;01mas\u001b[39;00m err:\n\u001b[1;32m-> 3655\u001b[0m     \u001b[38;5;28;01mraise\u001b[39;00m \u001b[38;5;167;01mKeyError\u001b[39;00m(key) \u001b[38;5;28;01mfrom\u001b[39;00m \u001b[38;5;21;01merr\u001b[39;00m\n\u001b[0;32m   3656\u001b[0m \u001b[38;5;28;01mexcept\u001b[39;00m \u001b[38;5;167;01mTypeError\u001b[39;00m:\n\u001b[0;32m   3657\u001b[0m     \u001b[38;5;66;03m# If we have a listlike key, _check_indexing_error will raise\u001b[39;00m\n\u001b[0;32m   3658\u001b[0m     \u001b[38;5;66;03m#  InvalidIndexError. Otherwise we fall through and re-raise\u001b[39;00m\n\u001b[0;32m   3659\u001b[0m     \u001b[38;5;66;03m#  the TypeError.\u001b[39;00m\n\u001b[0;32m   3660\u001b[0m     \u001b[38;5;28mself\u001b[39m\u001b[38;5;241m.\u001b[39m_check_indexing_error(key)\n",
      "\u001b[1;31mKeyError\u001b[0m: 'Battalion 609'"
     ]
    }
   ],
   "source": []
  },
  {
   "cell_type": "code",
   "execution_count": 56,
   "id": "af9dcfc9",
   "metadata": {
    "ExecuteTime": {
     "end_time": "2024-05-05T13:53:28.777854Z",
     "start_time": "2024-05-05T13:53:28.770200Z"
    }
   },
   "outputs": [
    {
     "data": {
      "text/html": [
       "<div>\n",
       "<style scoped>\n",
       "    .dataframe tbody tr th:only-of-type {\n",
       "        vertical-align: middle;\n",
       "    }\n",
       "\n",
       "    .dataframe tbody tr th {\n",
       "        vertical-align: top;\n",
       "    }\n",
       "\n",
       "    .dataframe thead th {\n",
       "        text-align: right;\n",
       "    }\n",
       "</style>\n",
       "<table border=\"1\" class=\"dataframe\">\n",
       "  <thead>\n",
       "    <tr style=\"text-align: right;\">\n",
       "      <th></th>\n",
       "      <th>lead</th>\n",
       "    </tr>\n",
       "    <tr>\n",
       "      <th>movie</th>\n",
       "      <th></th>\n",
       "    </tr>\n",
       "  </thead>\n",
       "  <tbody>\n",
       "    <tr>\n",
       "      <th>Uri: The Surgical Strike</th>\n",
       "      <td>Vicky Kaushal</td>\n",
       "    </tr>\n",
       "    <tr>\n",
       "      <th>Battalion 609</th>\n",
       "      <td>Vicky Ahuja</td>\n",
       "    </tr>\n",
       "    <tr>\n",
       "      <th>The Accidental Prime Minister (film)</th>\n",
       "      <td>Anupam Kher</td>\n",
       "    </tr>\n",
       "    <tr>\n",
       "      <th>Why Cheat India</th>\n",
       "      <td>Emraan Hashmi</td>\n",
       "    </tr>\n",
       "    <tr>\n",
       "      <th>Evening Shadows</th>\n",
       "      <td>Mona Ambegaonkar</td>\n",
       "    </tr>\n",
       "  </tbody>\n",
       "</table>\n",
       "</div>"
      ],
      "text/plain": [
       "                                                  lead\n",
       "movie                                                 \n",
       "Uri: The Surgical Strike                 Vicky Kaushal\n",
       "Battalion 609                              Vicky Ahuja\n",
       "The Accidental Prime Minister (film)       Anupam Kher\n",
       "Why Cheat India                          Emraan Hashmi\n",
       "Evening Shadows                       Mona Ambegaonkar"
      ]
     },
     "execution_count": 56,
     "metadata": {},
     "output_type": "execute_result"
    }
   ],
   "source": [
    "movies.head()"
   ]
  },
  {
   "cell_type": "code",
   "execution_count": 59,
   "id": "b1366b12",
   "metadata": {
    "ExecuteTime": {
     "end_time": "2024-05-05T13:54:38.903826Z",
     "start_time": "2024-05-05T13:54:38.898672Z"
    }
   },
   "outputs": [
    {
     "data": {
      "text/plain": [
       "95"
      ]
     },
     "execution_count": 59,
     "metadata": {},
     "output_type": "execute_result"
    }
   ],
   "source": [
    "marks_series[-1]"
   ]
  },
  {
   "cell_type": "code",
   "execution_count": 63,
   "id": "2f80fc06",
   "metadata": {
    "ExecuteTime": {
     "end_time": "2024-05-05T13:56:08.011405Z",
     "start_time": "2024-05-05T13:56:08.003739Z"
    }
   },
   "outputs": [
    {
     "data": {
      "text/html": [
       "<div>\n",
       "<style scoped>\n",
       "    .dataframe tbody tr th:only-of-type {\n",
       "        vertical-align: middle;\n",
       "    }\n",
       "\n",
       "    .dataframe tbody tr th {\n",
       "        vertical-align: top;\n",
       "    }\n",
       "\n",
       "    .dataframe thead th {\n",
       "        text-align: right;\n",
       "    }\n",
       "</style>\n",
       "<table border=\"1\" class=\"dataframe\">\n",
       "  <thead>\n",
       "    <tr style=\"text-align: right;\">\n",
       "      <th></th>\n",
       "      <th>runs</th>\n",
       "    </tr>\n",
       "    <tr>\n",
       "      <th>match_no</th>\n",
       "      <th></th>\n",
       "    </tr>\n",
       "  </thead>\n",
       "  <tbody>\n",
       "    <tr>\n",
       "      <th>6</th>\n",
       "      <td>9</td>\n",
       "    </tr>\n",
       "    <tr>\n",
       "      <th>7</th>\n",
       "      <td>34</td>\n",
       "    </tr>\n",
       "    <tr>\n",
       "      <th>8</th>\n",
       "      <td>0</td>\n",
       "    </tr>\n",
       "    <tr>\n",
       "      <th>9</th>\n",
       "      <td>21</td>\n",
       "    </tr>\n",
       "    <tr>\n",
       "      <th>10</th>\n",
       "      <td>3</td>\n",
       "    </tr>\n",
       "    <tr>\n",
       "      <th>11</th>\n",
       "      <td>10</td>\n",
       "    </tr>\n",
       "    <tr>\n",
       "      <th>12</th>\n",
       "      <td>38</td>\n",
       "    </tr>\n",
       "    <tr>\n",
       "      <th>13</th>\n",
       "      <td>3</td>\n",
       "    </tr>\n",
       "    <tr>\n",
       "      <th>14</th>\n",
       "      <td>11</td>\n",
       "    </tr>\n",
       "    <tr>\n",
       "      <th>15</th>\n",
       "      <td>50</td>\n",
       "    </tr>\n",
       "    <tr>\n",
       "      <th>16</th>\n",
       "      <td>2</td>\n",
       "    </tr>\n",
       "  </tbody>\n",
       "</table>\n",
       "</div>"
      ],
      "text/plain": [
       "          runs\n",
       "match_no      \n",
       "6            9\n",
       "7           34\n",
       "8            0\n",
       "9           21\n",
       "10           3\n",
       "11          10\n",
       "12          38\n",
       "13           3\n",
       "14          11\n",
       "15          50\n",
       "16           2"
      ]
     },
     "execution_count": 63,
     "metadata": {},
     "output_type": "execute_result"
    }
   ],
   "source": [
    "kohil[5:16]"
   ]
  },
  {
   "cell_type": "code",
   "execution_count": 64,
   "id": "3106f440",
   "metadata": {
    "ExecuteTime": {
     "end_time": "2024-05-05T13:56:26.177947Z",
     "start_time": "2024-05-05T13:56:26.171635Z"
    }
   },
   "outputs": [
    {
     "data": {
      "text/html": [
       "<div>\n",
       "<style scoped>\n",
       "    .dataframe tbody tr th:only-of-type {\n",
       "        vertical-align: middle;\n",
       "    }\n",
       "\n",
       "    .dataframe tbody tr th {\n",
       "        vertical-align: top;\n",
       "    }\n",
       "\n",
       "    .dataframe thead th {\n",
       "        text-align: right;\n",
       "    }\n",
       "</style>\n",
       "<table border=\"1\" class=\"dataframe\">\n",
       "  <thead>\n",
       "    <tr style=\"text-align: right;\">\n",
       "      <th></th>\n",
       "      <th>runs</th>\n",
       "    </tr>\n",
       "    <tr>\n",
       "      <th>match_no</th>\n",
       "      <th></th>\n",
       "    </tr>\n",
       "  </thead>\n",
       "  <tbody>\n",
       "    <tr>\n",
       "      <th>211</th>\n",
       "      <td>0</td>\n",
       "    </tr>\n",
       "    <tr>\n",
       "      <th>212</th>\n",
       "      <td>20</td>\n",
       "    </tr>\n",
       "    <tr>\n",
       "      <th>213</th>\n",
       "      <td>73</td>\n",
       "    </tr>\n",
       "    <tr>\n",
       "      <th>214</th>\n",
       "      <td>25</td>\n",
       "    </tr>\n",
       "    <tr>\n",
       "      <th>215</th>\n",
       "      <td>7</td>\n",
       "    </tr>\n",
       "  </tbody>\n",
       "</table>\n",
       "</div>"
      ],
      "text/plain": [
       "          runs\n",
       "match_no      \n",
       "211          0\n",
       "212         20\n",
       "213         73\n",
       "214         25\n",
       "215          7"
      ]
     },
     "execution_count": 64,
     "metadata": {},
     "output_type": "execute_result"
    }
   ],
   "source": [
    "kohil[-5:]"
   ]
  },
  {
   "cell_type": "code",
   "execution_count": 66,
   "id": "482c0467",
   "metadata": {
    "ExecuteTime": {
     "end_time": "2024-05-05T13:56:42.223948Z",
     "start_time": "2024-05-05T13:56:42.215973Z"
    }
   },
   "outputs": [
    {
     "data": {
      "text/html": [
       "<div>\n",
       "<style scoped>\n",
       "    .dataframe tbody tr th:only-of-type {\n",
       "        vertical-align: middle;\n",
       "    }\n",
       "\n",
       "    .dataframe tbody tr th {\n",
       "        vertical-align: top;\n",
       "    }\n",
       "\n",
       "    .dataframe thead th {\n",
       "        text-align: right;\n",
       "    }\n",
       "</style>\n",
       "<table border=\"1\" class=\"dataframe\">\n",
       "  <thead>\n",
       "    <tr style=\"text-align: right;\">\n",
       "      <th></th>\n",
       "      <th>lead</th>\n",
       "    </tr>\n",
       "    <tr>\n",
       "      <th>movie</th>\n",
       "      <th></th>\n",
       "    </tr>\n",
       "  </thead>\n",
       "  <tbody>\n",
       "    <tr>\n",
       "      <th>Hum Tumhare Hain Sanam</th>\n",
       "      <td>Shah Rukh Khan</td>\n",
       "    </tr>\n",
       "    <tr>\n",
       "      <th>Aankhen (2002 film)</th>\n",
       "      <td>Amitabh Bachchan</td>\n",
       "    </tr>\n",
       "    <tr>\n",
       "      <th>Saathiya (film)</th>\n",
       "      <td>Vivek Oberoi</td>\n",
       "    </tr>\n",
       "    <tr>\n",
       "      <th>Company (film)</th>\n",
       "      <td>Ajay Devgn</td>\n",
       "    </tr>\n",
       "    <tr>\n",
       "      <th>Awara Paagal Deewana</th>\n",
       "      <td>Akshay Kumar</td>\n",
       "    </tr>\n",
       "  </tbody>\n",
       "</table>\n",
       "</div>"
      ],
      "text/plain": [
       "                                    lead\n",
       "movie                                   \n",
       "Hum Tumhare Hain Sanam    Shah Rukh Khan\n",
       "Aankhen (2002 film)     Amitabh Bachchan\n",
       "Saathiya (film)             Vivek Oberoi\n",
       "Company (film)                Ajay Devgn\n",
       "Awara Paagal Deewana        Akshay Kumar"
      ]
     },
     "execution_count": 66,
     "metadata": {},
     "output_type": "execute_result"
    }
   ],
   "source": [
    "movies[-5:]"
   ]
  },
  {
   "cell_type": "code",
   "execution_count": 69,
   "id": "97185e8f",
   "metadata": {
    "ExecuteTime": {
     "end_time": "2024-05-05T13:58:03.827627Z",
     "start_time": "2024-05-05T13:58:03.823379Z"
    }
   },
   "outputs": [
    {
     "data": {
      "text/plain": [
       "{'math': 99, 'science': 78, 'social': 95}"
      ]
     },
     "execution_count": 69,
     "metadata": {},
     "output_type": "execute_result"
    }
   ],
   "source": [
    "marks"
   ]
  },
  {
   "cell_type": "code",
   "execution_count": 70,
   "id": "5035e8f9",
   "metadata": {
    "ExecuteTime": {
     "end_time": "2024-05-05T13:58:15.495350Z",
     "start_time": "2024-05-05T13:58:15.489835Z"
    }
   },
   "outputs": [
    {
     "data": {
      "text/plain": [
       "math       99\n",
       "science    78\n",
       "social     95\n",
       "Name: karthik marks, dtype: int64"
      ]
     },
     "execution_count": 70,
     "metadata": {},
     "output_type": "execute_result"
    }
   ],
   "source": [
    "marks_series"
   ]
  },
  {
   "cell_type": "code",
   "execution_count": 72,
   "id": "5d4e1430",
   "metadata": {
    "ExecuteTime": {
     "end_time": "2024-05-05T13:58:34.345385Z",
     "start_time": "2024-05-05T13:58:34.341236Z"
    }
   },
   "outputs": [
    {
     "data": {
      "text/plain": [
       "99"
      ]
     },
     "execution_count": 72,
     "metadata": {},
     "output_type": "execute_result"
    }
   ],
   "source": [
    "marks_series[\"math\"]"
   ]
  },
  {
   "cell_type": "code",
   "execution_count": 75,
   "id": "442815f4",
   "metadata": {
    "ExecuteTime": {
     "end_time": "2024-05-05T13:59:28.018321Z",
     "start_time": "2024-05-05T13:59:28.012753Z"
    }
   },
   "outputs": [
    {
     "data": {
      "text/plain": [
       "math      99\n",
       "social    95\n",
       "Name: karthik marks, dtype: int64"
      ]
     },
     "execution_count": 75,
     "metadata": {},
     "output_type": "execute_result"
    }
   ],
   "source": [
    "# fancy indexing\n",
    "marks_series[[\"math\",\"social\"]]"
   ]
  },
  {
   "cell_type": "code",
   "execution_count": 77,
   "id": "da32f96d",
   "metadata": {
    "ExecuteTime": {
     "end_time": "2024-05-05T14:00:03.828336Z",
     "start_time": "2024-05-05T14:00:03.822713Z"
    }
   },
   "outputs": [
    {
     "data": {
      "text/plain": [
       "math      99\n",
       "social    95\n",
       "Name: karthik marks, dtype: int64"
      ]
     },
     "execution_count": 77,
     "metadata": {},
     "output_type": "execute_result"
    }
   ],
   "source": [
    "marks_series[[0,2]]"
   ]
  },
  {
   "cell_type": "markdown",
   "id": "e2f98111",
   "metadata": {},
   "source": [
    "# Editing Series"
   ]
  },
  {
   "cell_type": "code",
   "execution_count": 79,
   "id": "c094fe38",
   "metadata": {
    "ExecuteTime": {
     "end_time": "2024-05-05T14:01:18.516710Z",
     "start_time": "2024-05-05T14:01:18.510998Z"
    }
   },
   "outputs": [
    {
     "data": {
      "text/plain": [
       "math       99\n",
       "science    78\n",
       "social     95\n",
       "Name: karthik marks, dtype: int64"
      ]
     },
     "execution_count": 79,
     "metadata": {},
     "output_type": "execute_result"
    }
   ],
   "source": [
    "# using indexing \n",
    "\n",
    "marks_series"
   ]
  },
  {
   "cell_type": "code",
   "execution_count": 81,
   "id": "bfce08c9",
   "metadata": {
    "ExecuteTime": {
     "end_time": "2024-05-05T14:01:38.240461Z",
     "start_time": "2024-05-05T14:01:38.235128Z"
    }
   },
   "outputs": [
    {
     "data": {
      "text/plain": [
       "math       99\n",
       "science    91\n",
       "social     95\n",
       "Name: karthik marks, dtype: int64"
      ]
     },
     "execution_count": 81,
     "metadata": {},
     "output_type": "execute_result"
    }
   ],
   "source": [
    "marks_series[1]=91\n",
    "marks_series"
   ]
  },
  {
   "cell_type": "code",
   "execution_count": 84,
   "id": "b3d0b3da",
   "metadata": {
    "ExecuteTime": {
     "end_time": "2024-05-05T14:02:42.728745Z",
     "start_time": "2024-05-05T14:02:42.724683Z"
    }
   },
   "outputs": [],
   "source": [
    "# what if an index dones not exist\n",
    "\n",
    "marks_series[\"telugu\"]=61"
   ]
  },
  {
   "cell_type": "code",
   "execution_count": 85,
   "id": "4d59b5d9",
   "metadata": {
    "ExecuteTime": {
     "end_time": "2024-05-05T14:02:47.894403Z",
     "start_time": "2024-05-05T14:02:47.888510Z"
    }
   },
   "outputs": [
    {
     "data": {
      "text/plain": [
       "math       99\n",
       "science    91\n",
       "social     95\n",
       "telugu     61\n",
       "Name: karthik marks, dtype: int64"
      ]
     },
     "execution_count": 85,
     "metadata": {},
     "output_type": "execute_result"
    }
   ],
   "source": [
    "marks_series"
   ]
  },
  {
   "cell_type": "code",
   "execution_count": 86,
   "id": "e973f19f",
   "metadata": {
    "ExecuteTime": {
     "end_time": "2024-05-05T14:04:29.201791Z",
     "start_time": "2024-05-05T14:04:29.198216Z"
    }
   },
   "outputs": [],
   "source": [
    "# slicing\n",
    "marks_series[1:3]=100"
   ]
  },
  {
   "cell_type": "code",
   "execution_count": 87,
   "id": "7035eba8",
   "metadata": {
    "ExecuteTime": {
     "end_time": "2024-05-05T14:04:33.547588Z",
     "start_time": "2024-05-05T14:04:33.541852Z"
    }
   },
   "outputs": [
    {
     "data": {
      "text/plain": [
       "math        99\n",
       "science    100\n",
       "social     100\n",
       "telugu      61\n",
       "Name: karthik marks, dtype: int64"
      ]
     },
     "execution_count": 87,
     "metadata": {},
     "output_type": "execute_result"
    }
   ],
   "source": [
    "marks_series"
   ]
  },
  {
   "cell_type": "code",
   "execution_count": 89,
   "id": "f66f5fc9",
   "metadata": {
    "ExecuteTime": {
     "end_time": "2024-05-05T14:05:20.156752Z",
     "start_time": "2024-05-05T14:05:20.151358Z"
    }
   },
   "outputs": [
    {
     "data": {
      "text/plain": [
       "math       100\n",
       "science    100\n",
       "social     100\n",
       "telugu      75\n",
       "Name: karthik marks, dtype: int64"
      ]
     },
     "execution_count": 89,
     "metadata": {},
     "output_type": "execute_result"
    }
   ],
   "source": [
    "marks_series[[0,3]]=[100,75]\n",
    "marks_series"
   ]
  },
  {
   "cell_type": "markdown",
   "id": "87e5c11e",
   "metadata": {},
   "source": [
    "# series with python functionalities"
   ]
  },
  {
   "cell_type": "code",
   "execution_count": 90,
   "id": "fac86911",
   "metadata": {
    "ExecuteTime": {
     "end_time": "2024-05-05T14:08:35.411582Z",
     "start_time": "2024-05-05T14:08:35.406609Z"
    }
   },
   "outputs": [
    {
     "data": {
      "text/plain": [
       "365"
      ]
     },
     "execution_count": 90,
     "metadata": {},
     "output_type": "execute_result"
    }
   ],
   "source": [
    "len(subs)"
   ]
  },
  {
   "cell_type": "code",
   "execution_count": 91,
   "id": "1477efcc",
   "metadata": {
    "ExecuteTime": {
     "end_time": "2024-05-05T14:08:43.616940Z",
     "start_time": "2024-05-05T14:08:43.611909Z"
    }
   },
   "outputs": [
    {
     "data": {
      "text/plain": [
       "pandas.core.series.Series"
      ]
     },
     "execution_count": 91,
     "metadata": {},
     "output_type": "execute_result"
    }
   ],
   "source": [
    "type(subs)"
   ]
  },
  {
   "cell_type": "code",
   "execution_count": 92,
   "id": "dc2078b8",
   "metadata": {
    "ExecuteTime": {
     "end_time": "2024-05-05T14:08:50.550967Z",
     "start_time": "2024-05-05T14:08:50.538421Z"
    }
   },
   "outputs": [
    {
     "data": {
      "text/plain": [
       "['T',\n",
       " '_AXIS_LEN',\n",
       " '_AXIS_ORDERS',\n",
       " '_AXIS_TO_AXIS_NUMBER',\n",
       " '_HANDLED_TYPES',\n",
       " '__abs__',\n",
       " '__add__',\n",
       " '__and__',\n",
       " '__annotations__',\n",
       " '__array__',\n",
       " '__array_priority__',\n",
       " '__array_ufunc__',\n",
       " '__bool__',\n",
       " '__class__',\n",
       " '__contains__',\n",
       " '__copy__',\n",
       " '__deepcopy__',\n",
       " '__delattr__',\n",
       " '__delitem__',\n",
       " '__dict__',\n",
       " '__dir__',\n",
       " '__divmod__',\n",
       " '__doc__',\n",
       " '__eq__',\n",
       " '__finalize__',\n",
       " '__float__',\n",
       " '__floordiv__',\n",
       " '__format__',\n",
       " '__ge__',\n",
       " '__getattr__',\n",
       " '__getattribute__',\n",
       " '__getitem__',\n",
       " '__getstate__',\n",
       " '__gt__',\n",
       " '__hash__',\n",
       " '__iadd__',\n",
       " '__iand__',\n",
       " '__ifloordiv__',\n",
       " '__imod__',\n",
       " '__imul__',\n",
       " '__init__',\n",
       " '__init_subclass__',\n",
       " '__int__',\n",
       " '__invert__',\n",
       " '__ior__',\n",
       " '__ipow__',\n",
       " '__isub__',\n",
       " '__iter__',\n",
       " '__itruediv__',\n",
       " '__ixor__',\n",
       " '__le__',\n",
       " '__len__',\n",
       " '__lt__',\n",
       " '__matmul__',\n",
       " '__mod__',\n",
       " '__module__',\n",
       " '__mul__',\n",
       " '__ne__',\n",
       " '__neg__',\n",
       " '__new__',\n",
       " '__nonzero__',\n",
       " '__or__',\n",
       " '__pos__',\n",
       " '__pow__',\n",
       " '__radd__',\n",
       " '__rand__',\n",
       " '__rdivmod__',\n",
       " '__reduce__',\n",
       " '__reduce_ex__',\n",
       " '__repr__',\n",
       " '__rfloordiv__',\n",
       " '__rmatmul__',\n",
       " '__rmod__',\n",
       " '__rmul__',\n",
       " '__ror__',\n",
       " '__round__',\n",
       " '__rpow__',\n",
       " '__rsub__',\n",
       " '__rtruediv__',\n",
       " '__rxor__',\n",
       " '__setattr__',\n",
       " '__setitem__',\n",
       " '__setstate__',\n",
       " '__sizeof__',\n",
       " '__str__',\n",
       " '__sub__',\n",
       " '__subclasshook__',\n",
       " '__truediv__',\n",
       " '__weakref__',\n",
       " '__xor__',\n",
       " '_accessors',\n",
       " '_accum_func',\n",
       " '_add_numeric_operations',\n",
       " '_agg_examples_doc',\n",
       " '_agg_see_also_doc',\n",
       " '_align_frame',\n",
       " '_align_series',\n",
       " '_append',\n",
       " '_arith_method',\n",
       " '_as_manager',\n",
       " '_attrs',\n",
       " '_binop',\n",
       " '_cacher',\n",
       " '_can_hold_na',\n",
       " '_check_inplace_and_allows_duplicate_labels',\n",
       " '_check_inplace_setting',\n",
       " '_check_is_chained_assignment_possible',\n",
       " '_check_label_or_level_ambiguity',\n",
       " '_check_setitem_copy',\n",
       " '_clear_item_cache',\n",
       " '_clip_with_one_bound',\n",
       " '_clip_with_scalar',\n",
       " '_cmp_method',\n",
       " '_consolidate',\n",
       " '_consolidate_inplace',\n",
       " '_construct_axes_dict',\n",
       " '_construct_result',\n",
       " '_constructor',\n",
       " '_constructor_expanddim',\n",
       " '_convert_dtypes',\n",
       " '_data',\n",
       " '_dir_additions',\n",
       " '_dir_deletions',\n",
       " '_drop_axis',\n",
       " '_drop_labels_or_levels',\n",
       " '_duplicated',\n",
       " '_find_valid_index',\n",
       " '_flags',\n",
       " '_get_axis',\n",
       " '_get_axis_name',\n",
       " '_get_axis_number',\n",
       " '_get_axis_resolvers',\n",
       " '_get_block_manager_axis',\n",
       " '_get_bool_data',\n",
       " '_get_cacher',\n",
       " '_get_cleaned_column_resolvers',\n",
       " '_get_index_resolvers',\n",
       " '_get_label_or_level_values',\n",
       " '_get_numeric_data',\n",
       " '_get_value',\n",
       " '_get_values',\n",
       " '_get_values_tuple',\n",
       " '_get_with',\n",
       " '_gotitem',\n",
       " '_hidden_attrs',\n",
       " '_indexed_same',\n",
       " '_info_axis',\n",
       " '_info_axis_name',\n",
       " '_info_axis_number',\n",
       " '_init_dict',\n",
       " '_init_mgr',\n",
       " '_inplace_method',\n",
       " '_internal_names',\n",
       " '_internal_names_set',\n",
       " '_is_cached',\n",
       " '_is_copy',\n",
       " '_is_label_or_level_reference',\n",
       " '_is_label_reference',\n",
       " '_is_level_reference',\n",
       " '_is_mixed_type',\n",
       " '_is_view',\n",
       " '_item_cache',\n",
       " '_ixs',\n",
       " '_logical_func',\n",
       " '_logical_method',\n",
       " '_map_values',\n",
       " '_maybe_update_cacher',\n",
       " '_memory_usage',\n",
       " '_metadata',\n",
       " '_mgr',\n",
       " '_min_count_stat_function',\n",
       " '_name',\n",
       " '_needs_reindex_multi',\n",
       " '_protect_consolidate',\n",
       " '_reduce',\n",
       " '_references',\n",
       " '_reindex_axes',\n",
       " '_reindex_indexer',\n",
       " '_reindex_multi',\n",
       " '_reindex_with_indexers',\n",
       " '_rename',\n",
       " '_replace_single',\n",
       " '_repr_data_resource_',\n",
       " '_repr_latex_',\n",
       " '_reset_cache',\n",
       " '_reset_cacher',\n",
       " '_set_as_cached',\n",
       " '_set_axis',\n",
       " '_set_axis_name',\n",
       " '_set_axis_nocheck',\n",
       " '_set_is_copy',\n",
       " '_set_labels',\n",
       " '_set_name',\n",
       " '_set_value',\n",
       " '_set_values',\n",
       " '_set_with',\n",
       " '_set_with_engine',\n",
       " '_slice',\n",
       " '_stat_axis',\n",
       " '_stat_axis_name',\n",
       " '_stat_axis_number',\n",
       " '_stat_function',\n",
       " '_stat_function_ddof',\n",
       " '_take',\n",
       " '_take_with_is_copy',\n",
       " '_to_latex_via_styler',\n",
       " '_typ',\n",
       " '_update_inplace',\n",
       " '_validate_dtype',\n",
       " '_values',\n",
       " '_where',\n",
       " 'abs',\n",
       " 'add',\n",
       " 'add_prefix',\n",
       " 'add_suffix',\n",
       " 'agg',\n",
       " 'aggregate',\n",
       " 'align',\n",
       " 'all',\n",
       " 'any',\n",
       " 'apply',\n",
       " 'argmax',\n",
       " 'argmin',\n",
       " 'argsort',\n",
       " 'array',\n",
       " 'asfreq',\n",
       " 'asof',\n",
       " 'astype',\n",
       " 'at',\n",
       " 'at_time',\n",
       " 'attrs',\n",
       " 'autocorr',\n",
       " 'axes',\n",
       " 'backfill',\n",
       " 'between',\n",
       " 'between_time',\n",
       " 'bfill',\n",
       " 'bool',\n",
       " 'clip',\n",
       " 'combine',\n",
       " 'combine_first',\n",
       " 'compare',\n",
       " 'convert_dtypes',\n",
       " 'copy',\n",
       " 'corr',\n",
       " 'count',\n",
       " 'cov',\n",
       " 'cummax',\n",
       " 'cummin',\n",
       " 'cumprod',\n",
       " 'cumsum',\n",
       " 'describe',\n",
       " 'diff',\n",
       " 'div',\n",
       " 'divide',\n",
       " 'divmod',\n",
       " 'dot',\n",
       " 'drop',\n",
       " 'drop_duplicates',\n",
       " 'droplevel',\n",
       " 'dropna',\n",
       " 'dtype',\n",
       " 'dtypes',\n",
       " 'duplicated',\n",
       " 'empty',\n",
       " 'eq',\n",
       " 'equals',\n",
       " 'ewm',\n",
       " 'expanding',\n",
       " 'explode',\n",
       " 'factorize',\n",
       " 'ffill',\n",
       " 'fillna',\n",
       " 'filter',\n",
       " 'first',\n",
       " 'first_valid_index',\n",
       " 'flags',\n",
       " 'floordiv',\n",
       " 'ge',\n",
       " 'get',\n",
       " 'groupby',\n",
       " 'gt',\n",
       " 'hasnans',\n",
       " 'head',\n",
       " 'hist',\n",
       " 'iat',\n",
       " 'idxmax',\n",
       " 'idxmin',\n",
       " 'iloc',\n",
       " 'index',\n",
       " 'infer_objects',\n",
       " 'info',\n",
       " 'interpolate',\n",
       " 'is_monotonic_decreasing',\n",
       " 'is_monotonic_increasing',\n",
       " 'is_unique',\n",
       " 'isin',\n",
       " 'isna',\n",
       " 'isnull',\n",
       " 'item',\n",
       " 'items',\n",
       " 'keys',\n",
       " 'kurt',\n",
       " 'kurtosis',\n",
       " 'last',\n",
       " 'last_valid_index',\n",
       " 'le',\n",
       " 'loc',\n",
       " 'lt',\n",
       " 'map',\n",
       " 'mask',\n",
       " 'max',\n",
       " 'mean',\n",
       " 'median',\n",
       " 'memory_usage',\n",
       " 'min',\n",
       " 'mod',\n",
       " 'mode',\n",
       " 'mul',\n",
       " 'multiply',\n",
       " 'name',\n",
       " 'nbytes',\n",
       " 'ndim',\n",
       " 'ne',\n",
       " 'nlargest',\n",
       " 'notna',\n",
       " 'notnull',\n",
       " 'nsmallest',\n",
       " 'nunique',\n",
       " 'pad',\n",
       " 'pct_change',\n",
       " 'pipe',\n",
       " 'plot',\n",
       " 'pop',\n",
       " 'pow',\n",
       " 'prod',\n",
       " 'product',\n",
       " 'quantile',\n",
       " 'radd',\n",
       " 'rank',\n",
       " 'ravel',\n",
       " 'rdiv',\n",
       " 'rdivmod',\n",
       " 'reindex',\n",
       " 'reindex_like',\n",
       " 'rename',\n",
       " 'rename_axis',\n",
       " 'reorder_levels',\n",
       " 'repeat',\n",
       " 'replace',\n",
       " 'resample',\n",
       " 'reset_index',\n",
       " 'rfloordiv',\n",
       " 'rmod',\n",
       " 'rmul',\n",
       " 'rolling',\n",
       " 'round',\n",
       " 'rpow',\n",
       " 'rsub',\n",
       " 'rtruediv',\n",
       " 'sample',\n",
       " 'searchsorted',\n",
       " 'sem',\n",
       " 'set_axis',\n",
       " 'set_flags',\n",
       " 'shape',\n",
       " 'shift',\n",
       " 'size',\n",
       " 'skew',\n",
       " 'sort_index',\n",
       " 'sort_values',\n",
       " 'squeeze',\n",
       " 'std',\n",
       " 'sub',\n",
       " 'subtract',\n",
       " 'sum',\n",
       " 'swapaxes',\n",
       " 'swaplevel',\n",
       " 'tail',\n",
       " 'take',\n",
       " 'to_clipboard',\n",
       " 'to_csv',\n",
       " 'to_dict',\n",
       " 'to_excel',\n",
       " 'to_frame',\n",
       " 'to_hdf',\n",
       " 'to_json',\n",
       " 'to_latex',\n",
       " 'to_list',\n",
       " 'to_markdown',\n",
       " 'to_numpy',\n",
       " 'to_period',\n",
       " 'to_pickle',\n",
       " 'to_sql',\n",
       " 'to_string',\n",
       " 'to_timestamp',\n",
       " 'to_xarray',\n",
       " 'transform',\n",
       " 'transpose',\n",
       " 'truediv',\n",
       " 'truncate',\n",
       " 'tz_convert',\n",
       " 'tz_localize',\n",
       " 'unique',\n",
       " 'unstack',\n",
       " 'update',\n",
       " 'value_counts',\n",
       " 'values',\n",
       " 'var',\n",
       " 'view',\n",
       " 'where',\n",
       " 'xs']"
      ]
     },
     "execution_count": 92,
     "metadata": {},
     "output_type": "execute_result"
    }
   ],
   "source": [
    "dir(subs)"
   ]
  },
  {
   "cell_type": "code",
   "execution_count": 93,
   "id": "808f5156",
   "metadata": {
    "ExecuteTime": {
     "end_time": "2024-05-05T14:09:25.733352Z",
     "start_time": "2024-05-05T14:09:25.722654Z"
    }
   },
   "outputs": [
    {
     "data": {
      "text/plain": [
       "[33,\n",
       " 33,\n",
       " 35,\n",
       " 37,\n",
       " 39,\n",
       " 40,\n",
       " 40,\n",
       " 40,\n",
       " 40,\n",
       " 42,\n",
       " 42,\n",
       " 43,\n",
       " 44,\n",
       " 44,\n",
       " 44,\n",
       " 45,\n",
       " 46,\n",
       " 46,\n",
       " 48,\n",
       " 49,\n",
       " 49,\n",
       " 49,\n",
       " 49,\n",
       " 50,\n",
       " 50,\n",
       " 50,\n",
       " 51,\n",
       " 54,\n",
       " 56,\n",
       " 56,\n",
       " 56,\n",
       " 56,\n",
       " 57,\n",
       " 61,\n",
       " 62,\n",
       " 64,\n",
       " 65,\n",
       " 65,\n",
       " 66,\n",
       " 66,\n",
       " 66,\n",
       " 66,\n",
       " 67,\n",
       " 68,\n",
       " 70,\n",
       " 70,\n",
       " 70,\n",
       " 71,\n",
       " 71,\n",
       " 72,\n",
       " 72,\n",
       " 72,\n",
       " 72,\n",
       " 72,\n",
       " 73,\n",
       " 74,\n",
       " 74,\n",
       " 75,\n",
       " 76,\n",
       " 76,\n",
       " 76,\n",
       " 76,\n",
       " 77,\n",
       " 77,\n",
       " 78,\n",
       " 78,\n",
       " 78,\n",
       " 79,\n",
       " 79,\n",
       " 80,\n",
       " 80,\n",
       " 80,\n",
       " 81,\n",
       " 81,\n",
       " 82,\n",
       " 82,\n",
       " 83,\n",
       " 83,\n",
       " 83,\n",
       " 84,\n",
       " 84,\n",
       " 84,\n",
       " 85,\n",
       " 86,\n",
       " 86,\n",
       " 86,\n",
       " 87,\n",
       " 87,\n",
       " 87,\n",
       " 87,\n",
       " 88,\n",
       " 88,\n",
       " 88,\n",
       " 88,\n",
       " 88,\n",
       " 89,\n",
       " 89,\n",
       " 89,\n",
       " 90,\n",
       " 90,\n",
       " 90,\n",
       " 90,\n",
       " 91,\n",
       " 92,\n",
       " 92,\n",
       " 92,\n",
       " 93,\n",
       " 93,\n",
       " 93,\n",
       " 93,\n",
       " 95,\n",
       " 95,\n",
       " 96,\n",
       " 96,\n",
       " 96,\n",
       " 96,\n",
       " 97,\n",
       " 97,\n",
       " 98,\n",
       " 98,\n",
       " 99,\n",
       " 99,\n",
       " 100,\n",
       " 100,\n",
       " 100,\n",
       " 101,\n",
       " 101,\n",
       " 101,\n",
       " 102,\n",
       " 102,\n",
       " 103,\n",
       " 103,\n",
       " 104,\n",
       " 104,\n",
       " 104,\n",
       " 105,\n",
       " 105,\n",
       " 105,\n",
       " 105,\n",
       " 105,\n",
       " 105,\n",
       " 105,\n",
       " 105,\n",
       " 105,\n",
       " 108,\n",
       " 108,\n",
       " 108,\n",
       " 108,\n",
       " 108,\n",
       " 108,\n",
       " 109,\n",
       " 109,\n",
       " 110,\n",
       " 110,\n",
       " 110,\n",
       " 111,\n",
       " 111,\n",
       " 112,\n",
       " 113,\n",
       " 113,\n",
       " 113,\n",
       " 114,\n",
       " 114,\n",
       " 114,\n",
       " 114,\n",
       " 115,\n",
       " 115,\n",
       " 115,\n",
       " 115,\n",
       " 117,\n",
       " 117,\n",
       " 117,\n",
       " 118,\n",
       " 118,\n",
       " 119,\n",
       " 119,\n",
       " 119,\n",
       " 119,\n",
       " 120,\n",
       " 122,\n",
       " 123,\n",
       " 123,\n",
       " 123,\n",
       " 123,\n",
       " 123,\n",
       " 124,\n",
       " 125,\n",
       " 126,\n",
       " 127,\n",
       " 128,\n",
       " 128,\n",
       " 129,\n",
       " 130,\n",
       " 131,\n",
       " 131,\n",
       " 132,\n",
       " 132,\n",
       " 134,\n",
       " 134,\n",
       " 134,\n",
       " 135,\n",
       " 135,\n",
       " 136,\n",
       " 136,\n",
       " 136,\n",
       " 137,\n",
       " 138,\n",
       " 138,\n",
       " 138,\n",
       " 139,\n",
       " 140,\n",
       " 144,\n",
       " 145,\n",
       " 146,\n",
       " 146,\n",
       " 146,\n",
       " 146,\n",
       " 147,\n",
       " 149,\n",
       " 150,\n",
       " 150,\n",
       " 150,\n",
       " 150,\n",
       " 151,\n",
       " 152,\n",
       " 152,\n",
       " 152,\n",
       " 153,\n",
       " 153,\n",
       " 153,\n",
       " 154,\n",
       " 154,\n",
       " 154,\n",
       " 155,\n",
       " 155,\n",
       " 156,\n",
       " 156,\n",
       " 156,\n",
       " 156,\n",
       " 157,\n",
       " 157,\n",
       " 157,\n",
       " 157,\n",
       " 158,\n",
       " 158,\n",
       " 159,\n",
       " 159,\n",
       " 160,\n",
       " 160,\n",
       " 160,\n",
       " 160,\n",
       " 162,\n",
       " 164,\n",
       " 166,\n",
       " 167,\n",
       " 167,\n",
       " 168,\n",
       " 170,\n",
       " 170,\n",
       " 170,\n",
       " 170,\n",
       " 171,\n",
       " 172,\n",
       " 172,\n",
       " 173,\n",
       " 173,\n",
       " 173,\n",
       " 174,\n",
       " 174,\n",
       " 175,\n",
       " 175,\n",
       " 176,\n",
       " 176,\n",
       " 177,\n",
       " 178,\n",
       " 179,\n",
       " 179,\n",
       " 180,\n",
       " 180,\n",
       " 180,\n",
       " 182,\n",
       " 183,\n",
       " 183,\n",
       " 183,\n",
       " 184,\n",
       " 184,\n",
       " 184,\n",
       " 185,\n",
       " 185,\n",
       " 185,\n",
       " 185,\n",
       " 186,\n",
       " 186,\n",
       " 186,\n",
       " 188,\n",
       " 189,\n",
       " 190,\n",
       " 190,\n",
       " 192,\n",
       " 192,\n",
       " 192,\n",
       " 196,\n",
       " 196,\n",
       " 196,\n",
       " 197,\n",
       " 197,\n",
       " 202,\n",
       " 202,\n",
       " 202,\n",
       " 203,\n",
       " 204,\n",
       " 206,\n",
       " 207,\n",
       " 209,\n",
       " 210,\n",
       " 210,\n",
       " 211,\n",
       " 212,\n",
       " 213,\n",
       " 214,\n",
       " 216,\n",
       " 219,\n",
       " 220,\n",
       " 221,\n",
       " 221,\n",
       " 222,\n",
       " 222,\n",
       " 224,\n",
       " 225,\n",
       " 225,\n",
       " 226,\n",
       " 227,\n",
       " 228,\n",
       " 229,\n",
       " 230,\n",
       " 231,\n",
       " 233,\n",
       " 236,\n",
       " 236,\n",
       " 237,\n",
       " 241,\n",
       " 243,\n",
       " 244,\n",
       " 245,\n",
       " 247,\n",
       " 249,\n",
       " 254,\n",
       " 254,\n",
       " 258,\n",
       " 259,\n",
       " 259,\n",
       " 261,\n",
       " 261,\n",
       " 265,\n",
       " 267,\n",
       " 268,\n",
       " 269,\n",
       " 276,\n",
       " 276,\n",
       " 290,\n",
       " 295,\n",
       " 301,\n",
       " 306,\n",
       " 312,\n",
       " 396]"
      ]
     },
     "execution_count": 93,
     "metadata": {},
     "output_type": "execute_result"
    }
   ],
   "source": [
    "sorted(subs)"
   ]
  },
  {
   "cell_type": "code",
   "execution_count": 94,
   "id": "3d194275",
   "metadata": {
    "ExecuteTime": {
     "end_time": "2024-05-05T14:09:36.649630Z",
     "start_time": "2024-05-05T14:09:36.645178Z"
    }
   },
   "outputs": [
    {
     "data": {
      "text/plain": [
       "396"
      ]
     },
     "execution_count": 94,
     "metadata": {},
     "output_type": "execute_result"
    }
   ],
   "source": [
    "max(subs)"
   ]
  },
  {
   "cell_type": "code",
   "execution_count": 95,
   "id": "3905450c",
   "metadata": {
    "ExecuteTime": {
     "end_time": "2024-05-05T14:09:46.065843Z",
     "start_time": "2024-05-05T14:09:46.060977Z"
    }
   },
   "outputs": [
    {
     "data": {
      "text/plain": [
       "33"
      ]
     },
     "execution_count": 95,
     "metadata": {},
     "output_type": "execute_result"
    }
   ],
   "source": [
    "min(subs)"
   ]
  },
  {
   "cell_type": "code",
   "execution_count": 96,
   "id": "4fbb3446",
   "metadata": {
    "ExecuteTime": {
     "end_time": "2024-05-05T14:10:23.525884Z",
     "start_time": "2024-05-05T14:10:23.520479Z"
    }
   },
   "outputs": [
    {
     "data": {
      "text/plain": [
       "math       100\n",
       "science    100\n",
       "social     100\n",
       "telugu      75\n",
       "Name: karthik marks, dtype: int64"
      ]
     },
     "execution_count": 96,
     "metadata": {},
     "output_type": "execute_result"
    }
   ],
   "source": [
    "# type conversation \n",
    "marks_series"
   ]
  },
  {
   "cell_type": "code",
   "execution_count": 97,
   "id": "2fb8daf6",
   "metadata": {
    "ExecuteTime": {
     "end_time": "2024-05-05T14:10:32.696247Z",
     "start_time": "2024-05-05T14:10:32.691125Z"
    }
   },
   "outputs": [
    {
     "data": {
      "text/plain": [
       "[100, 100, 100, 75]"
      ]
     },
     "execution_count": 97,
     "metadata": {},
     "output_type": "execute_result"
    }
   ],
   "source": [
    "list(marks_series)"
   ]
  },
  {
   "cell_type": "code",
   "execution_count": 98,
   "id": "4dd7b6e4",
   "metadata": {
    "ExecuteTime": {
     "end_time": "2024-05-05T14:10:52.945509Z",
     "start_time": "2024-05-05T14:10:52.939526Z"
    }
   },
   "outputs": [
    {
     "data": {
      "text/plain": [
       "{'math': 100, 'science': 100, 'social': 100, 'telugu': 75}"
      ]
     },
     "execution_count": 98,
     "metadata": {},
     "output_type": "execute_result"
    }
   ],
   "source": [
    "dict(marks_series)"
   ]
  },
  {
   "cell_type": "code",
   "execution_count": 105,
   "id": "6974379e",
   "metadata": {
    "ExecuteTime": {
     "end_time": "2024-05-05T14:12:38.981218Z",
     "start_time": "2024-05-05T14:12:38.976737Z"
    }
   },
   "outputs": [
    {
     "data": {
      "text/plain": [
       "True"
      ]
     },
     "execution_count": 105,
     "metadata": {},
     "output_type": "execute_result"
    }
   ],
   "source": [
    "# membership operator\n",
    "\n",
    "'Vicky Ahuja' in movies.values"
   ]
  },
  {
   "cell_type": "code",
   "execution_count": 107,
   "id": "be0e277c",
   "metadata": {
    "ExecuteTime": {
     "end_time": "2024-05-05T14:14:47.587621Z",
     "start_time": "2024-05-05T14:14:47.578875Z"
    }
   },
   "outputs": [
    {
     "name": "stdout",
     "output_type": "stream",
     "text": [
      "Uri: The Surgical Strike\n",
      "Battalion 609\n",
      "The Accidental Prime Minister (film)\n",
      "Why Cheat India\n",
      "Evening Shadows\n",
      "Soni (film)\n",
      "Fraud Saiyaan\n",
      "Bombairiya\n",
      "Manikarnika: The Queen of Jhansi\n",
      "Thackeray (film)\n",
      "Amavas\n",
      "Gully Boy\n",
      "Hum Chaar\n",
      "Total Dhamaal\n",
      "Sonchiriya\n",
      "Badla (2019 film)\n",
      "Mard Ko Dard Nahi Hota\n",
      "Hamid (film)\n",
      "Photograph (film)\n",
      "Risknamaa\n",
      "Mere Pyare Prime Minister\n",
      "22 Yards\n",
      "Kesari (film)\n",
      "Notebook (2019 film)\n",
      "Junglee (2019 film)\n",
      "Gone Kesh\n",
      "Albert Pinto Ko Gussa Kyun Aata Hai?\n",
      "The Tashkent Files\n",
      "Kalank\n",
      "Setters (film)\n",
      "Student of the Year 2\n",
      "PM Narendra Modi\n",
      "De De Pyaar De\n",
      "India's Most Wanted (film)\n",
      "Yeh Hai India\n",
      "Khamoshi (2019 film)\n",
      "Kabir Singh\n",
      "Article 15 (film)\n",
      "One Day: Justice Delivered\n",
      "Hume Tumse Pyaar Kitna\n",
      "Super 30 (film)\n",
      "Family of Thakurganj\n",
      "Batla House\n",
      "Jhootha Kahin Ka\n",
      "Judgementall Hai Kya\n",
      "Chicken Curry Law\n",
      "Arjun Patiala\n",
      "Jabariya Jodi\n",
      "Pranaam\n",
      "The Sky Is Pink\n",
      "Mission Mangal\n",
      "Saaho\n",
      "Dream Girl (2019 film)\n",
      "Section 375\n",
      "The Zoya Factor (film)\n",
      "Pal Pal Dil Ke Paas\n",
      "Prassthanam\n",
      "P Se Pyaar F Se Faraar\n",
      "Ghost (2019 film)\n",
      "Bala (2019 film)\n",
      "Yaaram (2019 film)\n",
      "Housefull 4\n",
      "Saand Ki Aankh\n",
      "Made in China (2019 film)\n",
      "Ujda Chaman\n",
      "Bypass Road (film)\n",
      "Satellite Shankar\n",
      "Jhalki\n",
      "Marjaavaan\n",
      "Motichoor Chaknachoor\n",
      "Keep Safe Distance (film)\n",
      "Pagalpanti (2019 film)\n",
      "Ramprasad Ki Tehrvi\n",
      "Yeh Saali Aashiqui\n",
      "Dil Bechara\n",
      "Pati Patni Aur Woh (2019 film)\n",
      "Commando 3 (film)\n",
      "Mardaani 2\n",
      "Dabangg 3\n",
      "Good Newwz\n",
      "Kaalakaandi\n",
      "Vodka Diaries\n",
      "My Birthday Song\n",
      "Nirdosh\n",
      "Mukkabaaz\n",
      "Union Leader (film)\n",
      "Love per Square Foot\n",
      "Aiyaary\n",
      "Padmaavat\n",
      "Kuchh Bheege Alfaaz\n",
      "Jaane Kyun De Yaaron\n",
      "Veerey Ki Wedding\n",
      "Sonu Ke Titu Ki Sweety\n",
      "Hate Story 4\n",
      "Dil Juunglee\n",
      "3 Storeys\n",
      "Raid (2018 film)\n",
      "Hichki\n",
      "Missing (2018 film)\n",
      "Baaghi 2\n",
      "October (2018 film)\n",
      "Mercury (film)\n",
      "Beyond the Clouds (2017 film)\n",
      "Nanu Ki Jaanu\n",
      "Daas Dev\n",
      "Omerta (film)\n",
      "Raazi\n",
      "Hope Aur Hum\n",
      "High Jack (film)\n",
      "Khajoor Pe Atke\n",
      "Parmanu: The Story of Pokhran\n",
      "Bioscopewala\n",
      "Bhavesh Joshi Superhero\n",
      "Phamous\n",
      "Race 3\n",
      "Dhadak\n",
      "Sanju\n",
      "Saheb Biwi Aur Gangster 3\n",
      "Nawabzaade\n",
      "Mulk (film)\n",
      "Brij Mohan Amar Rahe\n",
      "Karwaan\n",
      "Gold (2018 film)\n",
      "Satyameva Jayate (2018 film)\n",
      "Happy Phirr Bhag Jayegi\n",
      "Genius (2018 Hindi film)\n",
      "Yamla Pagla Deewana: Phir Se\n",
      "Stree (2018 film)\n",
      "Paltan (film)\n",
      "Laila Majnu (2018 film)\n",
      "Gali Guleiyan\n",
      "Halkaa\n",
      "Pataakha\n",
      "Batti Gul Meter Chalu\n",
      "Love Sonia\n",
      "Manto (2018 film)\n",
      "Ishqeria\n",
      "Manmarziyaan\n",
      "Mitron\n",
      "Sui Dhaaga\n",
      "Baazaar\n",
      "Jalebi (film)\n",
      "FryDay\n",
      "Tumbbad\n",
      "Helicopter Eela\n",
      "Namaste England\n",
      "Andhadhun\n",
      "Badhaai Ho\n",
      "5 Weddings\n",
      "Kaashi in Search of Ganga\n",
      "Dassehra\n",
      "The Journey of Karma\n",
      "Jack and Dil\n",
      "Mohalla Assi\n",
      "Pihu\n",
      "Bhaiaji Superhit\n",
      "Rajma Chawal\n",
      "Zero (2018 film)\n",
      "Simmba\n",
      "Tiger Zinda Hai\n",
      "Golmaal Again\n",
      "Judwaa 2\n",
      "Ok Jaanu\n",
      "Coffee with D\n",
      "Kaabil\n",
      "Raees (film)\n",
      "Thugs of Hindostan\n",
      "Hind Ka Napak Ko Jawab: MSG Lion Heart 2\n",
      "Running Shaadi\n",
      "The Ghazi Attack\n",
      "Irada (2017 film)\n",
      "Rangoon (2017 Hindi film)\n",
      "Wedding Anniversary\n",
      "Jeena Isi Ka Naam Hai (film)\n",
      "Badrinath Ki Dulhania\n",
      "Trapped (2016 Hindi film)\n",
      "Aa Gaya Hero\n",
      "Mantra (2016 film)\n",
      "Phillauri (film)\n",
      "Machine (2017 film)\n",
      "Bhanwarey\n",
      "Anaarkali of Aarah\n",
      "Naam Shabana\n",
      "Hotel Salvation\n",
      "Begum Jaan\n",
      "Noor (film)\n",
      "Ek Thi Rani Aisi Bhi\n",
      "Maatr\n",
      "Sarkar 3\n",
      "Jattu Engineer\n",
      "Half Girlfriend (film)\n",
      "Meri Pyaari Bindu\n",
      "Sachin: A Billion Dreams\n",
      "Hindi Medium\n",
      "Sweetiee Weds NRI\n",
      "Dobaara: See Your Evil\n",
      "Flat 211\n",
      "Dear Maya\n",
      "Raabta (film)\n",
      "Behen Hogi Teri\n",
      "Tubelight (2017 Hindi film)\n",
      "Bank Chor\n",
      "Ek Haseena Thi Ek Deewana Tha\n",
      "Jagga Jasoos\n",
      "Shab (film)\n",
      "Lipstick Under My Burkha\n",
      "Bachche Kachche Sachche\n",
      "G Kutta Se\n",
      "Indu Sarkar\n",
      "Jab Harry Met Sejal\n",
      "Munna Michael\n",
      "Toilet: Ek Prem Katha\n",
      "Mubarakan\n",
      "Guest iin London\n",
      "Bareilly Ki Barfi\n",
      "Babumoshai Bandookbaaz\n",
      "Yadvi – The Dignified Princess\n",
      "Qaidi Band\n",
      "Shubh Mangal Saavdhan\n",
      "Raag Desh (film)\n",
      "Daddy (2017 film)\n",
      "Simran (film)\n",
      "Lucknow Central\n",
      "A Gentleman\n",
      "Viceroy's House (film)\n",
      "Patel Ki Punjabi Shaadi\n",
      "Newton (film)\n",
      "The Final Exit\n",
      "Bhoomi (film)\n",
      "Haseena Parkar\n",
      "JD (film)\n",
      "Haraamkhor\n",
      "Poster Boys\n",
      "Mom (film)\n",
      "Chef (2017 film)\n",
      "Ranchi Diaries\n",
      "Babuji Ek Ticket Bambai\n",
      "Rukh (film)\n",
      "Secret Superstar\n",
      "Aval (2017 film)\n",
      "Ribbon (film)\n",
      "Shaadi Mein Zaroor Aana\n",
      "Jia Aur Jia\n",
      "Qarib Qarib Singlle\n",
      "Aksar 2\n",
      "Panchlait\n",
      "Tumhari Sulu\n",
      "Julie 2\n",
      "Kadvi Hawa\n",
      "Firangi\n",
      "Fukrey Returns\n",
      "Monsoon Shootout\n",
      "Ajji\n",
      "Chalk n Duster\n",
      "Rebellious Flower\n",
      "Saankal\n",
      "Airlift (film)\n",
      "Sallu Ki Shaadi\n",
      "Irudhi Suttru\n",
      "Kyaa Kool Hain Hum 3\n",
      "Mastizaade\n",
      "Dil Jo Na Keh Saka\n",
      "Jugni (2016 film)\n",
      "Ghayal: Once Again\n",
      "Fitoor\n",
      "Sanam Re\n",
      "Direct Ishq\n",
      "Ishq Forever\n",
      "Loveshhuda\n",
      "Neerja\n",
      "Aligarh (film)\n",
      "Bollywood Diaries\n",
      "Love Shagun\n",
      "Tere Bin Laden: Dead or Alive\n",
      "Jai Gangaajal\n",
      "Kapoor & Sons\n",
      "Rocky Handsome\n",
      "Love Games (film)\n",
      "Fan (film)\n",
      "Nil Battey Sannata\n",
      "Laal Rang\n",
      "Baaghi (2016 film)\n",
      "Global Baba\n",
      "Shortcut Safari\n",
      "The Blueberry Hunt\n",
      "Santa Banta Pvt Ltd\n",
      "Traffic (2016 film)\n",
      "1920: London\n",
      "Azhar (film)\n",
      "Buddha in a Traffic Jam\n",
      "Murari the Mad Gentleman\n",
      "Dear Dad (film)\n",
      "Phobia (2016 film)\n",
      "Sarbjit (film)\n",
      "Veerappan (2016 film)\n",
      "Do Lafzon Ki Kahani (film)\n",
      "Te3n\n",
      "Udta Punjab\n",
      "Khel Toh Ab Shuru Hoga\n",
      "Luv U Alia\n",
      "7 Hours to Go\n",
      "Raman Raghav 2.0\n",
      "Junooniyat\n",
      "Rough Book\n",
      "Dhanak\n",
      "Fredrick (film)\n",
      "Dil Toh Deewana Hai\n",
      "Sultan (2016 film)\n",
      "Brahman Naman\n",
      "Great Grand Masti\n",
      "Waiting (2015 film)\n",
      "Ishq Click\n",
      "M Cream\n",
      "Madaari\n",
      "Dishoom\n",
      "Fever (2016 film)\n",
      "Rustom (film)\n",
      "Hai Apna Dil Toh Awara\n",
      "Mohenjo Daro (film)\n",
      "Happy Bhag Jayegi\n",
      "Waarrior Savitri\n",
      "A Flying Jatt\n",
      "Baar Baar Dekho\n",
      "Freaky Ali\n",
      "Raaz: Reboot\n",
      "Pink (2016 film)\n",
      "Parched\n",
      "Banjo (2016 film)\n",
      "Days of Tafree\n",
      "Wah Taj\n",
      "Island City (2015 film)\n",
      "Ek Kahani Julie Ki\n",
      "M.S. Dhoni: The Untold Story\n",
      "MSG: The Warrior Lion Heart\n",
      "Devi (2016 film)\n",
      "Motu Patlu: King of Kings\n",
      "Anna (2016 film)\n",
      "Fuddu\n",
      "Saat Uchakkey\n",
      "Beiimaan Love\n",
      "Umrika\n",
      "Shivaay\n",
      "Dongari Ka Raja\n",
      "Ae Dil Hai Mushkil\n",
      "Tum Bin II\n",
      "Rock On 2\n",
      "Force 2\n",
      "Dear Zindagi\n",
      "Befikre\n",
      "Moh Maya Money\n",
      "Shorgul\n",
      "Saansein\n",
      "Ki & Ka\n",
      "Wajah Tum Ho\n",
      "Dangal (film)\n",
      "Mirzya (film)\n",
      "Prem Ratan Dhan Payo\n",
      "Tanu Weds Manu: Returns\n",
      "Tanu Weds Manu: Returns\n",
      "31st October (film)\n",
      "ABCD 2\n",
      "Dilwale (2015 film)\n",
      "Bajrangi Bhaijaan\n",
      "Bajirao Mastani\n",
      "Welcome Back (film)\n",
      "Baby (2015 Hindi film)\n",
      "Singh Is Bliing\n",
      "Gabbar Is Back\n",
      "Gabbar Is Back\n",
      "Mumbai Can Dance Saala\n",
      "Alone (2015 Hindi film)\n",
      "Tevar\n",
      "Sharafat Gayi Tel Lene\n",
      "Dolly Ki Doli\n",
      "Hawaizaada\n",
      "Khamoshiyan\n",
      "Rahasya\n",
      "Jai Jawaan Jai Kisaan (film)\n",
      "Shamitabh\n",
      "Roy (film)\n",
      "Badlapur (film)\n",
      "Crazy Cukkad Family\n",
      "Take It Easy (2015 film)\n",
      "Qissa (film)\n",
      "Ab Tak Chhappan 2\n",
      "Dum Laga Ke Haisha\n",
      "Dirty Politics (film)\n",
      "MSG: The Messenger\n",
      "Badmashiyaan\n",
      "Coffee Bloom\n",
      "Hey Bro\n",
      "NH10 (film)\n",
      "Hunterrr\n",
      "Detective Byomkesh Bakshy!\n",
      "Luckhnowi Ishq\n",
      "Court (film)\n",
      "Margarita with a Straw\n",
      "Ek Paheli Leela\n",
      "Barkhaa\n",
      "Mr. X (2015 film)\n",
      "NH-8 Road to Nidhivan\n",
      "Dilliwali Zaalim Girlfriend\n",
      "Dharam Sankat Mein\n",
      "Kaagaz Ke Fools\n",
      "Kuch Kuch Locha Hai\n",
      "Piku\n",
      "Bombay Velvet\n",
      "I Love Desi\n",
      "Dil Dhadakne Do\n",
      "Welcome 2 Karachi\n",
      "P Se PM Tak\n",
      "Mere Genie Uncle\n",
      "Hamari Adhuri Kahani\n",
      "Miss Tanakpur Haazir Ho\n",
      "Uvaa\n",
      "Ishq Ke Parindey\n",
      "Ishqedarriyaan\n",
      "Sabki Bajegi Band\n",
      "Masaan\n",
      "Guddu Rangeela\n",
      "Bezubaan Ishq\n",
      "Aisa Yeh Jahaan\n",
      "Second Hand Husband\n",
      "I Love NY (2015 film)\n",
      "Main Hoon Part-Time Killer\n",
      "Kaun Kitne Paani Mein\n",
      "Drishyam (2015 film)\n",
      "Bangistan\n",
      "All Is Well (2015 film)\n",
      "Brothers (2015 film)\n",
      "Gour Hari Dastaan\n",
      "Manjhi – The Mountain Man\n",
      "Thoda Lutf Thoda Ishq\n",
      "Phantom (2015 film)\n",
      "Hero (2015 Hindi film)\n",
      "Sorry Daddy\n",
      "Talvar (film)\n",
      "Katti Batti\n",
      "Meeruthiya Gangsters\n",
      "MSG-2 The Messenger\n",
      "Calendar Girls (2015 film)\n",
      "Bhaag Johnny\n",
      "Jazbaa\n",
      "Bumper Draw\n",
      "Chinar Daastaan-E-Ishq\n",
      "Kis Kisko Pyaar Karoon\n",
      "Pyaar Ka Punchnama 2\n",
      "Wedding Pullav\n",
      "Shaandaar\n",
      "Titli (2014 film)\n",
      "Guddu Ki Gun\n",
      "The Silent Heroes\n",
      "Ranbanka\n",
      "Sholay\n",
      "Dedh Ishqiya\n",
      "Karle Pyaar Karle\n",
      "Om-Dar-B-Dar\n",
      "Paranthe Wali Gali\n",
      "Strings of Passion\n",
      "Gunday\n",
      "Jai Ho (film)\n",
      "Hasee Toh Phasee\n",
      "Heartless (2014 film)\n",
      "Ya Rab\n",
      "Darr @ the Mall\n",
      "One by Two (2014 film)\n",
      "Babloo Happy Hai\n",
      "Highway (2014 Hindi film)\n",
      "Gulabi Gang (film)\n",
      "Shaadi Ke Side Effects\n",
      "Gulaab Gang\n",
      "Queen (2014 film)\n",
      "Bewakoofiyaan\n",
      "Total Siyapaa\n",
      "Karar: The Deal\n",
      "Lakshmi (2014 film)\n",
      "Ragini MMS 2\n",
      "Dishkiyaoon\n",
      "Ankhon Dekhi\n",
      "Gang of Ghosts\n",
      "Anuradha (2014 film)\n",
      "W (2014 film)\n",
      "O Teri\n",
      "Honour Killing (film)\n",
      "2 States (2014 film)\n",
      "Jal (film)\n",
      "Bhoothnath Returns\n",
      "Main Tera Hero\n",
      "Lucky Kabootar\n",
      "Station (2014 film)\n",
      "Youngistaan\n",
      "Samrat & Co.\n",
      "Purani Jeans\n",
      "Kya Dilli Kya Lahore\n",
      "Koyelaanchal\n",
      "Manjunath (film)\n",
      "Dekh Tamasha Dekh\n",
      "Mastram\n",
      "The Xposé\n",
      "Children of War (2014 film)\n",
      "Hawaa Hawaai\n",
      "Kahin Hai Mera Pyar\n",
      "Kuku Mathur Ki Jhand Ho Gayi\n",
      "Heropanti\n",
      "CityLights (2014 film)\n",
      "Filmistaan\n",
      "Revolver Rani\n",
      "Kaanchi: The Unbreakable\n",
      "Machhli Jal Ki Rani Hai\n",
      "Khwaabb\n",
      "Yeh Hai Bakrapur\n",
      "Ek Villain\n",
      "Bobby Jasoos\n",
      "Humshakals\n",
      "Humpty Sharma Ki Dulhania\n",
      "Hate Story 2\n",
      "Lekar Hum Deewana Dil\n",
      "Riyasat (film)\n",
      "Amit Sahni Ki List\n",
      "Holiday: A Soldier Is Never Off Duty\n",
      "Fugly (film)\n",
      "Bazaar E Husn\n",
      "Pizza (2014 film)\n",
      "Entertainment (2014 film)\n",
      "Singham Returns\n",
      "Mardaani\n",
      "Raja Natwarlal\n",
      "Mary Kom (film)\n",
      "Creature 3D\n",
      "Finding Fanny\n",
      "Khoobsurat (2014 film)\n",
      "3 A.M. (2014 film)\n",
      "Kick (2014 film)\n",
      "Mad About Dance\n",
      "Mumbhai Connection\n",
      "Life Is Beautiful (2014 film)\n",
      "Desi Kattey\n",
      "Haider (film)\n",
      "Bang Bang!\n",
      "Spark (2014 film)\n",
      "Daawat-e-Ishq\n",
      "Balwinder Singh Famous Ho Gaya\n",
      "Jigariyaa\n",
      "Tamanchey\n",
      "Mumbai 125 KM\n",
      "Meinu Ek Ladki Chaahiye\n",
      "Chaarfutiya Chhokare\n",
      "Sonali Cable\n",
      "Happy New Year (2014 film)\n",
      "Super Nani\n",
      "Ekkees Toppon Ki Salaami\n",
      "Rang Rasiya\n",
      "The Shaukeens\n",
      "Roar: Tigers of the Sundarbans\n",
      "A Decent Arrangement\n",
      "Gollu Aur Pappu\n",
      "Titoo MBA\n",
      "Kill Dil\n",
      "Ungli\n",
      "Happy Ending (film)\n",
      "Zed Plus\n",
      "Zid (2014 film)\n",
      "Action Jackson (2014 film)\n",
      "Bhopal: A Prayer for Rain\n",
      "Mumbai Delhi Mumbai\n",
      "Badlapur Boys\n",
      "Main Aur Mr. Riight\n",
      "Ugly (film)\n",
      "PK (film)\n",
      "Dehraadun Diary\n",
      "Matru Ki Bijlee Ka Mandola\n",
      "Sulemani Keeda\n",
      "Inkaar (2013 film)\n",
      "Gangoobai\n",
      "Akaash Vani\n",
      "Main Krishna Hoon\n",
      "Race 2\n",
      "Bandook\n",
      "Listen... Amaya\n",
      "Special 26\n",
      "Murder 3\n",
      "Zila Ghaziabad\n",
      "Kai Po Che!\n",
      "Bloody Isshq\n",
      "Saare Jahaan Se Mehnga\n",
      "3G (film)\n",
      "Mere Dad Ki Maruti\n",
      "Jolly LLB\n",
      "Saheb Biwi Aur Gangster Returns\n",
      "Mai (2013 film)\n",
      "Vishwaroopam\n",
      "Rangrezz\n",
      "Aashiqui 2\n",
      "Ek Thi Daayan\n",
      "Himmatwala (2013 film)\n",
      "Nautanki Saala!\n",
      "Jayantabhai Ki Luv Story\n",
      "Commando: A One Man Army\n",
      "Bombay Talkies (film)\n",
      "Go Goa Gone\n",
      "Gippi\n",
      "Aurangzeb (film)\n",
      "Ishkq in Paris\n",
      "Zindagi 50-50\n",
      "Yeh Jawaani Hai Deewani\n",
      "Fukrey\n",
      "Chhota Bheem and the Throne of Bali\n",
      "Raanjhanaa\n",
      "Ankur Arora Murder Case\n",
      "Shortcut Romeo\n",
      "Ghanchakkar (film)\n",
      "Hum Hai Raahi Car Ke\n",
      "Policegiri\n",
      "Bhaag Milkha Bhaag\n",
      "Sixteen (2013 Indian film)\n",
      "B.A. Pass\n",
      "Enemmy\n",
      "Issaq\n",
      "Bajatey Raho\n",
      "Luv U Soniyo\n",
      "Nasha (film)\n",
      "Chor Chor Super Chor\n",
      "Calapor (film)\n",
      "Love in Bombay\n",
      "D-Day (2013 film)\n",
      "Siddharth (2013 film)\n",
      "Once Upon ay Time in Mumbai Dobaara!\n",
      "Madras Cafe\n",
      "Satyagraha (film)\n",
      "Shuddh Desi Romance\n",
      "Ramaiya Vastavaiya\n",
      "Chennai Express\n",
      "Grand Masti\n",
      "John Day (film)\n",
      "Horror Story (film)\n",
      "Phata Poster Nikhla Hero\n",
      "Ship of Theseus (film)\n",
      "The Lunchbox\n",
      "Baat Bann Gayi\n",
      "Boss (2013 Hindi film)\n",
      "Shahid (film)\n",
      "Mickey Virus\n",
      "Satya 2\n",
      "Rajjo\n",
      "Maazii\n",
      "Sooper Se Ooper\n",
      "Prague (2013 film)\n",
      "Wake Up India\n",
      "Super Model (film)\n",
      "Gori Tere Pyaar Mein\n",
      "What the Fish\n",
      "Jackpot (2013 film)\n",
      "Table No. 21\n",
      "Bullett Raja\n",
      "Dhoom 3\n",
      "Chashme Baddoor (2013 film)\n",
      "Lootera\n",
      "War Chhod Na Yaar\n",
      "Chaalis Chauraasi\n",
      "Ghost (2012 film)\n",
      "Sadda Adda\n",
      "Singh Saab the Great\n",
      "Goliyon Ki Raasleela Ram-Leela\n",
      "Agneepath (2012 film)\n",
      "Ek Main Aur Ekk Tu\n",
      "Ekk Deewana Tha\n",
      "?: A Question Mark\n",
      "Jodi Breakers\n",
      "Tere Naal Love Ho Gaya\n",
      "Staying Alive (2012 film)\n",
      "Paan Singh Tomar (film)\n",
      "Kahaani\n",
      "Zindagi Tere Naam\n",
      "Agent Vinod (2012 film)\n",
      "Blood Money (2012 film)\n",
      "Bumboo\n",
      "Valentine's Night\n",
      "Married 2 America\n",
      "Chaar Din Ki Chandni\n",
      "Bittoo Boss\n",
      "Vicky Donor\n",
      "Hate Story\n",
      "Tezz\n",
      "Dangerous Ishhq\n",
      "Ishaqzaade\n",
      "Department (film)\n",
      "Fatso!\n",
      "Arjun: The Warrior Prince\n",
      "Life Ki Toh Lag Gayi\n",
      "Shanghai (2012 film)\n",
      "Ferrari Ki Sawaari\n",
      "Teri Meri Kahaani (film)\n",
      "Mr. Bhatti on Chutti\n",
      "Yeh Khula Aasmaan\n",
      "Rakhtbeej\n",
      "Gangs of Wasseypur\n",
      "Gangs of Wasseypur – Part 2\n",
      "Cocktail (2012 film)\n",
      "Gattu\n",
      "Kyaa Super Kool Hain Hum\n",
      "Maximum (film)\n",
      "Paanch Ghantey Mien Paanch Crore\n",
      "Ek Tha Tiger\n",
      "Challo Driver\n",
      "Shirin Farhad Ki Toh Nikal Padi\n",
      "Joker (2012 film)\n",
      "Aalaap (film)\n",
      "Mere Dost Picture Abhi Baki Hai\n",
      "Krishna Aur Kans\n",
      "From Sydney with Love\n",
      "Jalpari: The Desert Mermaid\n",
      "Barfi!\n",
      "Heroine (2012 film)\n",
      "Chal Pichchur Banate Hain\n",
      "Kismat Love Paisa Dilli\n",
      "Jeena Hai Toh Thok Daal\n",
      "OMG – Oh My God!\n",
      "Aiyyaa\n",
      "Chittagong (film)\n",
      "Bhoot Returns\n",
      "Delhi Safari\n",
      "Chakravyuh (2012 film)\n",
      "Student of the Year\n",
      "Ajab Gazabb Love\n",
      "Rush (2012 film)\n",
      "1920: The Evil Returns\n",
      "Sons of Ram\n",
      "Ata Pata Laapata\n",
      "Jab Tak Hai Jaan\n",
      "Talaash: The Answer Lies Within\n",
      "Login (film)\n",
      "Son of Sardaar\n",
      "Cigarette Ki Tarah\n",
      "Dabangg 2\n",
      "Players (2012 film)\n",
      "Housefull 2\n",
      "Bol Bachchan\n",
      "English Vinglish\n",
      "Impatient Vivek\n",
      "Yamla Pagla Deewana\n",
      "Mumbai Mast Kallander\n",
      "Dhobi Ghat (film)\n",
      "Turning 30\n",
      "Hostel (2011 film)\n",
      "Dil Toh Baccha Hai Ji\n",
      "United Six\n",
      "Utt Pataang\n",
      "Patiala House (film)\n",
      "7 Khoon Maaf\n",
      "Tanu Weds Manu\n",
      "F.A.L.T.U\n",
      "Memories in March\n",
      "Thank You (2011 film)\n",
      "Angel (2011 film)\n",
      "Happy Husbands (2011 film)\n",
      "Teen Thay Bhai\n",
      "Dum Maaro Dum (film)\n",
      "Shor in the City\n",
      "Zokkomon\n",
      "Chalo Dilli\n",
      "Aashiqui.in\n",
      "Satrangee Parachute\n",
      "Monica (film)\n",
      "I Am (2010 Indian film)\n",
      "Naughty @ 40\n",
      "Haunted – 3D\n",
      "Love U...Mr. Kalakaar!\n",
      "Ragini MMS\n",
      "Stanley Ka Dabba\n",
      "Shagird (2011 film)\n",
      "404 (film)\n",
      "Shaitan (film)\n",
      "Pyaar Ka Punchnama\n",
      "Bheja Fry 2\n",
      "Always Kabhi Kabhi\n",
      "Double Dhamaal\n",
      "Bbuddah... Hoga Terra Baap\n",
      "Delhi Belly (film)\n",
      "Murder 2\n",
      "Chillar Party\n",
      "Zindagi Na Milegi Dobara\n",
      "Dear Friend Hitler\n",
      "I Am Kalam\n",
      "Bin Bulaye Baraati\n",
      "Kucch Luv Jaisaa\n",
      "Singham\n",
      "Khap (film)\n",
      "Bubble Gum (film)\n",
      "Shabri\n",
      "Phhir\n",
      "Aarakshan\n",
      "Chatur Singh Two Star\n",
      "Sahi Dhandhe Galat Bande\n",
      "Bodyguard (2011 Hindi film)\n",
      "Yeh Dooriyan\n",
      "Not a Love Story (2011 film)\n",
      "Hum Tum Shabana\n",
      "Mummy Punjabi\n",
      "Mere Brother Ki Dulhan\n",
      "Mausam (2011 film)\n",
      "U R My Jaan\n",
      "Force (2011 film)\n",
      "Saheb Biwi Aur Gangster\n",
      "Tere Mere Phere\n",
      "Breakaway (2011 film)\n",
      "Chargesheet (film)\n",
      "Love Breakups Zindagi\n",
      "Mujhse Fraaandship Karoge\n",
      "Aazaan\n",
      "Ra.One\n",
      "Rockstar (2011 film)\n",
      "Miley Naa Miley Hum\n",
      "Tell Me O Kkhuda\n",
      "Damadamm!\n",
      "Ladies vs Ricky Bahl\n",
      "Desi Boyz\n",
      "Game (2011 film)\n",
      "No One Killed Jessica\n",
      "Rascals (2011 film)\n",
      "The Dirty Picture\n",
      "Pyaar Impossible!\n",
      "Chance Pe Dance\n",
      "My Friend Pinto\n",
      "Veer (2010 film)\n",
      "Striker (2010 film)\n",
      "Rann (film)\n",
      "Ishqiya\n",
      "Road to Sangam\n",
      "Jo Hum Chahein\n",
      "Click (2010 film)\n",
      "Toh Baat Pakki!\n",
      "My Name Is Khan\n",
      "Teen Patti (film)\n",
      "Karthik Calling Karthik\n",
      "Don 2\n",
      "Rokkk\n",
      "Aakhari Decision\n",
      "Right Yaaa Wrong\n",
      "Sukhmani: Hope for Life\n",
      "Thanks Maa\n",
      "Na Ghar Ke Na Ghaat Ke\n",
      "Trump Card (film)\n",
      "Shaapit\n",
      "Hum Tum Aur Ghost\n",
      "Well Done Abba\n",
      "Tum Milo Toh Sahi\n",
      "Jaane Kahan Se Aayi Hai\n",
      "Prem Kaa Game\n",
      "Sadiyaan\n",
      "The Japanese Wife\n",
      "Paathshaala\n",
      "Phoonk 2\n",
      "Lahore (film)\n",
      "Apartment (film)\n",
      "City of Gold (2010 film)\n",
      "Chase (2010 film)\n",
      "Housefull (2010 film)\n",
      "Mittal v/s Mittal\n",
      "It's a Wonderful Afterlife\n",
      "Prince (2010 film)\n",
      "Raavan\n",
      "Bumm Bumm Bole\n",
      "Kushti (film)\n",
      "Kites (film)\n",
      "Love Sex Aur Dhokha\n",
      "Milenge Milenge\n",
      "Ek Second... Jo Zindagi Badal De?\n",
      "Mr. Singh Mrs. Mehta\n",
      "Lamhaa\n",
      "Khatta Meetha (2010 film)\n",
      "Tere Bin Laden\n",
      "Udaan (2010 film)\n",
      "Once Upon a Time in Mumbaai\n",
      "Help (film)\n",
      "Peepli Live\n",
      "Lafangey Parindey\n",
      "Hello Darling\n",
      "Antardwand\n",
      "Aashayein\n",
      "Soch Lo\n",
      "Dabangg\n",
      "Khichdi: The Movie\n",
      "Red Alert: The War Within\n",
      "Life Express (2010 film)\n",
      "The Film Emotional Atyachar\n",
      "Hisss\n",
      "Crook (film)\n",
      "Do Dooni Chaar\n",
      "Aakrosh (2010 film)\n",
      "Ramayana: The Epic\n",
      "Knock Out (2010 film)\n",
      "Jhootha Hi Sahi\n",
      "Guzaarish (film)\n",
      "Allah Ke Banday\n",
      "Break Ke Baad\n",
      "Khuda Kasam\n",
      "Phas Gaye Re Obama\n",
      "Malik Ek\n",
      "A Flat (film)\n",
      "No Problem (2010 film)\n",
      "Band Baaja Baaraat\n",
      "Kaalo\n",
      "Mirch\n",
      "Tees Maar Khan (2010 film)\n",
      "Isi Life Mein\n",
      "Toonpur Ka Super Hero\n",
      "Tera Kya Hoga Johnny\n",
      "Ramaa: The Saviour\n",
      "I Hate Luv Storys\n",
      "Dulha Mil Gaya\n",
      "Anjaana Anjaani\n",
      "Dunno Y... Na Jaane Kyon\n",
      "Pankh\n",
      "Action Replayy\n",
      "3 Idiots\n",
      "Luck by Chance\n",
      "Love Aaj Kal\n",
      "Wanted (2009 film)\n",
      "Delhi-6\n",
      "Raaz: The Mystery Continues\n",
      "Aasma: The Sky Is the Limit\n",
      "Ajab Prem Ki Ghazab Kahani\n",
      "Chal Chala Chal\n",
      "Billu\n",
      "The Stoneman Murders\n",
      "Kisse Pyaar Karoon\n",
      "Dhoondte Reh Jaaoge\n",
      "Karma Aur Holi\n",
      "Victory (2009 film)\n",
      "Kaminey\n",
      "Jai Veeru\n",
      "Little Zizou\n",
      "Gulaal (film)\n",
      "Aloo Chaat (film)\n",
      "Barah Aana\n",
      "Firaaq\n",
      "Aa Dekhen Zara\n",
      "99 (2009 film)\n",
      "Ek: The Power of One\n",
      "Ek Se Bure Do\n",
      "Sikandar (2009 film)\n",
      "Zor Lagaa Ke...Haiya!\n",
      "Paying Guests\n",
      "New York (2009 film)\n",
      "Sankat City\n",
      "Shortkut\n",
      "Luck (2009 film)\n",
      "Life Partner\n",
      "Daddy Cool (2009 Hindi film)\n",
      "Kisaan\n",
      "Yeh Mera India\n",
      "Aagey Se Right\n",
      "Chintu Ji\n",
      "Quick Gun Murugun\n",
      "Fox (film)\n",
      "Baabarr\n",
      "Phir Kabhi\n",
      "Vaada Raha\n",
      "Dil Bole Hadippa!\n",
      "What's Your Raashee?\n",
      "Acid Factory\n",
      "All the Best: Fun Begins\n",
      "Wake Up Sid\n",
      "Main Aurr Mrs Khanna\n",
      "Blue (2009 film)\n",
      "Fruit and Nut (film)\n",
      "Aladin (film)\n",
      "London Dreams\n",
      "Jail (2009 film)\n",
      "Tum Mile\n",
      "Kurbaan (2009 film)\n",
      "De Dana Dan\n",
      "Paa (film)\n",
      "Rocket Singh: Salesman of the Year\n",
      "Raat Gayi Baat Gayi?\n",
      "Accident on Hill Road\n",
      "Chandni Chowk to China\n",
      "Dostana (2008 film)\n",
      "Race (2008 film)\n",
      "Rab Ne Bana Di Jodi\n",
      "Ghajini (2008 film)\n",
      "Singh Is Kinng\n",
      "Golmaal Returns\n",
      "Jodhaa Akbar\n",
      "Bachna Ae Haseeno\n",
      "Bhoothnath\n",
      "Sarkar Raj\n",
      "Halla Bol\n",
      "Humne Jeena Seekh Liya\n",
      "Bombay to Bangkok\n",
      "Tulsi (film)\n",
      "Sunday (2008 film)\n",
      "One Two Three\n",
      "Krazzy 4\n",
      "U Me Aur Hum\n",
      "Sirf (film)\n",
      "Tashan (film)\n",
      "Anamika (2008 film)\n",
      "Jimmy (2008 film)\n",
      "Jannat (film)\n",
      "Don Muthu Swami\n",
      "Woodstock Villa\n",
      "Mere Baap Pehle Aap\n",
      "Summer 2007\n",
      "De Taali\n",
      "Haal-e-Dil\n",
      "Thodi Life Thoda Magic\n",
      "Thoda Pyaar Thoda Magic\n",
      "Via Darjeeling\n",
      "Kismat Konnection\n",
      "Love Story 2050\n",
      "Contract (2008 film)\n",
      "Mission Istaanbul\n",
      "Money Hai Toh Honey Hai\n",
      "God Tussi Great Ho\n",
      "Mumbai Meri Jaan\n",
      "Maan Gaye Mughal-e-Azam\n",
      "Rock On!!\n",
      "C Kkompany\n",
      "Chamku\n",
      "Mukhbiir\n",
      "Tahaan\n",
      "1920 (film)\n",
      "The Last Lear\n",
      "Welcome to Sajjanpur\n",
      "Saas Bahu Aur Sensex\n",
      "Hari Puttar: A Comedy of Terrors\n",
      "Drona (2008 film)\n",
      "Hello (2008 film)\n",
      "Karzzzz\n",
      "Heroes (2008 film)\n",
      "Roadside Romeo\n",
      "Ek Vivaah... Aisa Bhi\n",
      "Deshdrohi\n",
      "Fashion (2008 film)\n",
      "Dasvidaniya\n",
      "Yuvvraaj\n",
      "Oye Lucky! Lucky Oye!\n",
      "Oh My God (2008 film)\n",
      "Sorry Bhai!\n",
      "1971 (2007 film)\n",
      "Meerabai Not Out\n",
      "Wafa: A Deadly Love Story\n",
      "Gumnaam – The Mystery\n",
      "Dil Kabaddi\n",
      "Aag (2007 film)\n",
      "Aap Kaa Surroor\n",
      "Aggar (film)\n",
      "Anwar (2007 film)\n",
      "Aaja Nachle\n",
      "Apne\n",
      "Awarapan\n",
      "Bheja Fry (film)\n",
      "Bhool Bhulaiyaa\n",
      "Bhram\n",
      "Big Brother (2007 film)\n",
      "68 Pages\n",
      "Aur Pappu Paas Ho Gaya\n",
      "Apna Asmaan\n",
      "Black Friday (2007 film)\n",
      "The Blue Umbrella (2005 film)\n",
      "Blood Brothers (2007 Indian film)\n",
      "Buddha Mar Gaya\n",
      "Cash (2007 film)\n",
      "Cheeni Kum\n",
      "Chhodon Naa Yaar\n",
      "Darling (2007 Indian film)\n",
      "Chak De! India\n",
      "Dhamaal\n",
      "Goal (2007 Hindi film)\n",
      "Dharm (film)\n",
      "Bombay to Goa (2007 film)\n",
      "Dhokha\n",
      "Dil Dosti Etc\n",
      "Dhol (film)\n",
      "Ek Chalis Ki Last Local\n",
      "Familywala\n",
      "Gandhi My Father\n",
      "Don't Stop Dreaming\n",
      "Dus Kahaniyaan\n",
      "Eklavya: The Royal Guard\n",
      "Go (2007 film)\n",
      "Gauri: The Unborn\n",
      "Heyy Babyy\n",
      "Guru (2007 film)\n",
      "Honeymoon Travels Pvt. Ltd.\n",
      "Jahan Jaaeyega Hamen Paaeyega\n",
      "Jhoom Barabar Jhoom\n",
      "Jab We Met\n",
      "Good Boy Bad Boy\n",
      "Fool & Final\n",
      "Khoya Khoya Chand\n",
      "Johnny Gaddaar\n",
      "Just Married (2007 film)\n",
      "Kya Love Story Hai\n",
      "Kudiyon Ka Hai Zamana\n",
      "Hastey Hastey\n",
      "Laaga Chunari Mein Daag\n",
      "Life in a... Metro\n",
      "Loins of Punjab Presents\n",
      "Manorama Six Feet Under\n",
      "Marigold (2007 film)\n",
      "MP3: Mera Pehla Pehla Pyaar\n",
      "Hattrick (film)\n",
      "Naqaab\n",
      "Mumbai Salsa\n",
      "The Namesake (film)\n",
      "Namastey London\n",
      "My Bollywood Bride\n",
      "Nehlle Pe Dehlla\n",
      "Nishabd\n",
      "No Smoking (2007 film)\n",
      "Om Shanti Om\n",
      "Partner (2007 film)\n",
      "Raqeeb\n",
      "Nanhe Jaisalmer\n",
      "Life Mein Kabhie Kabhiee\n",
      "Risk (2007 film)\n",
      "Shakalaka Boom Boom\n",
      "Red Swastik\n",
      "Salaam-e-Ishq: A Tribute to Love\n",
      "Saawariya\n",
      "Sarhad Paar\n",
      "Say Salaam India\n",
      "Red: The Dark Side\n",
      "Shootout at Lokhandwala\n",
      "Strangers (2007 Hindi film)\n",
      "Swami (2007 film)\n",
      "Taare Zameen Par\n",
      "Ta Ra Rum Pum\n",
      "Speed (2007 film)\n",
      "Traffic Signal (film)\n",
      "The Train (2007 film)\n",
      "Showbiz (film)\n",
      "Sunglass (film)\n",
      "Welcome (2007 film)\n",
      "36 China Town\n",
      "Zamaanat\n",
      "Aap Ki Khatir (2006 film)\n",
      "Ahista Ahista (2006 film)\n",
      "Aksar\n",
      "Alag\n",
      "Anthony Kaun Hai?\n",
      "Apna Sapna Money Money\n",
      "Ankahee (2006 film)\n",
      "Yatra (2007 film)\n",
      "Baabul (2006 film)\n",
      "Aisa Kyon Hota Hai?\n",
      "Adharm (2006 film)\n",
      "Being Cyrus\n",
      "Banaras (2006 film)\n",
      "Bas Ek Pal\n",
      "Bhagam Bhag\n",
      "Chingaari\n",
      "Bhoot Unkle\n",
      "Chand Ke Paar Chalo (film)\n",
      "Aryan: Unbreakable\n",
      "Chup Chup Ke\n",
      "Corporate (2006 film)\n",
      "Darna Zaroori Hai\n",
      "Deadline: Sirf 24 Ghante\n",
      "Dil Diya Hai\n",
      "Darwaaza Bandh Rakho\n",
      "Eight: The Power of Shani\n",
      "Dhoom 2\n",
      "Dor (film)\n",
      "Don (2006 Hindi film)\n",
      "Family (2006 film)\n",
      "Fanaa (2006 film)\n",
      "Gangster (2006 film)\n",
      "Golmaal: Fun Unlimited\n",
      "Devaki (2005 film)\n",
      "Fight Club – Members Only\n",
      "Dharti Kahe Pukar Ke (2006 film)\n",
      "Humko Deewana Kar Gaye\n",
      "Humko Tumse Pyaar Hai\n",
      "I See You (2006 film)\n",
      "Jaane Hoga Kya\n",
      "Jaan-E-Mann\n",
      "Jawani Diwani: A Youthful Joyride\n",
      "Holiday (2006 film)\n",
      "Iqraar by Chance\n",
      "Khosla Ka Ghosla\n",
      "Kabhi Alvida Naa Kehna\n",
      "Love Ke Chakkar Mein\n",
      "Lage Raho Munna Bhai\n",
      "Kabul Express\n",
      "Jigyaasa\n",
      "Krrish\n",
      "Malamaal Weekly\n",
      "Omkara (2006 film)\n",
      "Pyaar Ke Side Effects\n",
      "Naksha\n",
      "Phir Hera Pheri\n",
      "Pyare Mohan\n",
      "Mere Jeevan Saathi (2006 film)\n",
      "Prateeksha\n",
      "Sacred Evil – A True Story\n",
      "Rang De Basanti\n",
      "Shaadi Karke Phas Gaya Yaar\n",
      "Sandwich (2006 film)\n",
      "Shaadi Se Pehle\n",
      "Saawan... The Love Season\n",
      "Shiva (2006 film)\n",
      "Souten: The Other Woman\n",
      "Shikhar (film)\n",
      "Children of Heaven\n",
      "Tathastu\n",
      "The Killer (2006 film)\n",
      "Umrao Jaan (2006 film)\n",
      "Taxi No. 9211\n",
      "Teesri Aankh: The Hidden Camera\n",
      "Vivah\n",
      "Utthaan\n",
      "Waris Shah: Ishq Daa Waaris\n",
      "Woh Lamhe...\n",
      "Yun Hota Toh Kya Hota\n",
      "Umar (film)\n",
      "Zindaggi Rocks\n",
      "Tom Dick and Harry (2006 film)\n",
      "Aashiq Banaya Aapne\n",
      "Anjaane (2005 film)\n",
      "Apaharan\n",
      "Bachke Rehna Re Baba\n",
      "7½ Phere\n",
      "Barsaat (2005 film)\n",
      "Bewafaa (2005 film)\n",
      "Black (2005 film)\n",
      "Zinda (film)\n",
      "Bluffmaster!\n",
      "99.9 FM (film)\n",
      "Bhola in Bollywood\n",
      "Bhagmati (2005 film)\n",
      "Blackmail (2005 film)\n",
      "Bunty Aur Babli\n",
      "Chaahat – Ek Nasha\n",
      "Chetna: The Excitement\n",
      "Chand Sa Roshan Chehra\n",
      "Chocolate (2005 film)\n",
      "D (film)\n",
      "Deewane Huye Paagal\n",
      "Bullet: Ek Dhamaka\n",
      "Chehraa\n",
      "Dil Jo Bhi Kahey...\n",
      "Dosti: Friends Forever\n",
      "Classic – Dance of Love\n",
      "Dus\n",
      "Elaan (2005 film)\n",
      "Fareb (2005 film)\n",
      "Ek Ajnabee\n",
      "Fun – Can Be Dangerous Sometimes\n",
      "Ek Khiladi Ek Haseena (film)\n",
      "Double Cross (2005 film)\n",
      "Dreams (2006 film)\n",
      "Home Delivery\n",
      "Garam Masala (2005 film)\n",
      "Iqbal (film)\n",
      "Jai Chiranjeeva\n",
      "Hazaaron Khwaishein Aisi\n",
      "Insan\n",
      "Jo Bole So Nihaal (film)\n",
      "Karam (film)\n",
      "Kaal (2005 film)\n",
      "Kalyug (2005 film)\n",
      "Kasak (2005 film)\n",
      "Hanuman (2005 film)\n",
      "James (2005 film)\n",
      "Kisna: The Warrior Poet\n",
      "Koi Aap Sa\n",
      "Khamoshh... Khauff Ki Raat\n",
      "Jurm (2005 film)\n",
      "Kuchh Meetha Ho Jaye\n",
      "Kyaa Kool Hai Hum\n",
      "Lucky: No Time for Love\n",
      "Main Aisa Hi Hoon\n",
      "Kyon Ki\n",
      "Main Meri Patni Aur Woh\n",
      "Maine Gandhi Ko Nahin Mara\n",
      "Maine Pyaar Kyun Kiya?\n",
      "Mangal Pandey: The Rising\n",
      "Koi Mere Dil Mein Hai\n",
      "Mr Prime Minister\n",
      "My Brother…Nikhil\n",
      "My Wife's Murder\n",
      "Naina (2005 film)\n",
      "Neal 'n' Nikki\n",
      "No Entry\n",
      "Padmashree Laloo Prasad Yadav\n",
      "Page 3 (film)\n",
      "Morning Raga\n",
      "Parineeta (2005 film)\n",
      "Pehchaan: The Face of Truth\n",
      "Paheli\n",
      "Rog\n",
      "Pyaar Mein Twist\n",
      "Salaam Namaste\n",
      "Revati (film)\n",
      "Sarkar (2005 film)\n",
      "Sehar\n",
      "Shabd (film)\n",
      "Shabnam Mausi\n",
      "Sheesha (2005 film)\n",
      "Ramji Londonwaley\n",
      "Silsiilay\n",
      "Socha Na Tha\n",
      "Taj Mahal: An Eternal Love Story\n",
      "Tango Charlie\n",
      "The Film\n",
      "Vaada (film)\n",
      "Vaah! Life Ho Toh Aisi!\n",
      "Ssukh\n",
      "Shaadi No. 1\n",
      "Viruddh... Family Comes First\n",
      "Waqt: The Race Against Time\n",
      "Vidyaarthi\n",
      "Yakeen (2005 film)\n",
      "Zeher\n",
      "Veer-Zaara\n",
      "Main Hoon Na\n",
      "Zameer: The Fire Within\n",
      "Mujhse Shaadi Karogi\n",
      "Dhoom\n",
      "Khakee\n",
      "Hum Tum\n",
      "Hulchul (2004 film)\n",
      "Murder (2004 film)\n",
      "Yuva\n",
      "Aitraaz\n",
      "Aetbaar\n",
      "Ab Tumhare Hawale Watan Saathiyo\n",
      "Aan: Men at Work\n",
      "Bardaasht\n",
      "Chameli (film)\n",
      "Agnipankh\n",
      "Asambhav\n",
      "Charas (2004 film)\n",
      "Deewaar (2004 film)\n",
      "Dev (2004 film)\n",
      "Dil Maange More\n",
      "Dil Ne Jise Apna Kahaa\n",
      "Dobara\n",
      "Aabra Ka Daabra\n",
      "Dil Bechara Pyaar Ka Maara\n",
      "Gayab\n",
      "Fida\n",
      "Garv: Pride & Honour\n",
      "Ek Se Badhkar Ek (2004 film)\n",
      "Ek Hasina Thi (film)\n",
      "Girlfriend (2004 film)\n",
      "Hatya (2004 film)\n",
      "Hava Aney Dey\n",
      "Hawas (2004 film)\n",
      "Hyderabad Blues 2\n",
      "Julie (2004 film)\n",
      "Kaun Hai Jo Sapno Mein Aaya\n",
      "Inteqam: The Perfect Game\n",
      "Kis Kis Ki Kismat\n",
      "Insaaf: The Justice\n",
      "I Proud to Be an Indian\n",
      "Khamosh Pani\n",
      "Kismat (2004 film)\n",
      "Lakeer – Forbidden Lines\n",
      "Krishna Cottage\n",
      "Kyun! Ho Gaya Na...\n",
      "Madhoshi\n",
      "Lakshya (film)\n",
      "Ishq Hai Tumse\n",
      "Maqbool\n",
      "Masti (2004 film)\n",
      "Meenaxi: A Tale of Three Cities\n",
      "Musafir (2004 film)\n",
      "Mughal-e-Azam\n",
      "Muskaan\n",
      "Meri Biwi Ka Jawaab Nahin\n",
      "Naach (2004 film)\n",
      "Netaji Subhas Chandra Bose: The Forgotten Hero\n",
      "Paap\n",
      "Phir Milenge\n",
      "Plan (film)\n",
      "Police Force: An Inside Story\n",
      "Paisa Vasool\n",
      "Popcorn Khao! Mast Ho Jao\n",
      "Rakht\n",
      "Raincoat (film)\n",
      "Rudraksh (film)\n",
      "Shaadi Ka Laddoo\n",
      "Run (2004 film)\n",
      "Rok Sako To Rok Lo\n",
      "Suno Sasurjee\n",
      "Swades\n",
      "Taarzan: The Wonder Car\n",
      "Nothing but Life\n",
      "Shart: The Challenge\n",
      "Tumsa Nahin Dekha: A Love Story\n",
      "Vaastu Shastra (film)\n",
      "Yeh Lamhe Judaai Ke\n",
      "Sheen (film)\n",
      "Dude Where's the Party?\n",
      "Thoda Tum Badlo Thoda Hum\n",
      "Koi... Mil Gaya\n",
      "Kal Ho Naa Ho\n",
      "Shukriya: Till Death Do Us Apart\n",
      "Chalte Chalte (2003 film)\n",
      "The Hero: Love Story of a Spy\n",
      "Baghban (2003 film)\n",
      "Main Prem Ki Diwani Hoon\n",
      "LOC Kargil\n",
      "Border (1997 film)\n",
      "Munna Bhai M.B.B.S.\n",
      "Qayamat: City Under Threat\n",
      "88 Antop Hill\n",
      "3 Deewarein\n",
      "Aanch\n",
      "Aapko Pehle Bhi Kahin Dekha Hai\n",
      "Bhoot (film)\n",
      "Boom (film)\n",
      "Aaj Ka Andha Kanoon\n",
      "Andaaz\n",
      "Andaaz\n",
      "Armaan (2003 film)\n",
      "Chori Chori (2003 film)\n",
      "Calcutta Mail\n",
      "Baaz: A Bird in Danger\n",
      "Basti (film)\n",
      "Magic Magic 3D\n",
      "Dil Ka Rishta\n",
      "Darna Mana Hai\n",
      "Dhoop\n",
      "Dhund (2003 film)\n",
      "Chura Liyaa Hai Tumne\n",
      "The Bypass\n",
      "Dum (2003 Hindi film)\n",
      "Dil Pardesi Ho Gayaa\n",
      "Ek Alag Mausam\n",
      "Footpath (2003 film)\n",
      "Escape from Taliban\n",
      "Ek Din 24 Ghante\n",
      "Gangaajal\n",
      "Hawa (film)\n",
      "Haasil\n",
      "Ek Aur Ek Gyarah\n",
      "Hungama (2003 film)\n",
      "Green Card Fever\n",
      "Flavors (film)\n",
      "Indian Babu\n",
      "Fun2shh... Dudes in the 10th Century\n",
      "Inteha (2003 film)\n",
      "Jaal: The Trap\n",
      "Ishq Vishk\n",
      "Hawayein\n",
      "Jajantaram Mamantaram\n",
      "Jism (2003 film)\n",
      "Jhankaar Beats\n",
      "Kagaar: Life on the Edge\n",
      "Kash Aap Hamare Hote\n",
      "Khel – No Ordinary Game\n",
      "Janasheen\n",
      "Kaise Kahoon Ke... Pyaar Hai\n",
      "Khushi (2003 Hindi film)\n",
      "Khwahish\n",
      "Kucch To Hai\n",
      "Kuch Naa Kaho\n",
      "Main Madhuri Dixit Banna Chahti Hoon\n",
      "Joggers' Park (film)\n",
      "Market (2003 film)\n",
      "Om (2003 film)\n",
      "Out of Control (2003 film)\n",
      "Mumbai Matinee\n",
      "Matrubhoomi\n",
      "Parwana (2003 film)\n",
      "Pinjar (film)\n",
      "Mumbai Se Aaya Mera Dost\n",
      "Saaya (2003 film)\n",
      "Samay: When Time Strikes\n",
      "Nayee Padosan\n",
      "Satta (film)\n",
      "Sssshhh...\n",
      "Praan Jaye Par Shaan Na Jaye\n",
      "Raghu Romeo\n",
      "Stumped (film)\n",
      "Rules: Pyaar Ka Superhit Formula\n",
      "Right Here Right Now (film)\n",
      "Raja Bhaiya (film)\n",
      "Tere Naam\n",
      "Tujhe Meri Kasam\n",
      "Talaash: The Hunt Begins...\n",
      "Tehzeeb (2003 film)\n",
      "The Pink Mirror\n",
      "Yeh Dil\n",
      "Xcuse Me\n",
      "Raaz (2002 film)\n",
      "Zameen (2003 film)\n",
      "Waisa Bhi Hota Hai Part II\n",
      "Devdas (2002 Hindi film)\n",
      "Kaante\n",
      "Hum Tumhare Hain Sanam\n",
      "Aankhen (2002 film)\n",
      "Saathiya (film)\n",
      "Company (film)\n",
      "Awara Paagal Deewana\n"
     ]
    }
   ],
   "source": [
    "for i in movies.index:\n",
    "    print(i)"
   ]
  },
  {
   "cell_type": "code",
   "execution_count": 108,
   "id": "feb65eec",
   "metadata": {
    "ExecuteTime": {
     "end_time": "2024-05-05T14:14:57.499231Z",
     "start_time": "2024-05-05T14:14:57.493800Z"
    }
   },
   "outputs": [
    {
     "data": {
      "text/plain": [
       "math       100\n",
       "science    100\n",
       "social     100\n",
       "telugu      75\n",
       "Name: karthik marks, dtype: int64"
      ]
     },
     "execution_count": 108,
     "metadata": {},
     "output_type": "execute_result"
    }
   ],
   "source": [
    "marks_series"
   ]
  },
  {
   "cell_type": "code",
   "execution_count": 110,
   "id": "83ce82dc",
   "metadata": {
    "ExecuteTime": {
     "end_time": "2024-05-05T14:16:17.215306Z",
     "start_time": "2024-05-05T14:16:17.209555Z"
    }
   },
   "outputs": [
    {
     "data": {
      "text/plain": [
       "math        0\n",
       "science     0\n",
       "social      0\n",
       "telugu     25\n",
       "Name: karthik marks, dtype: int64"
      ]
     },
     "execution_count": 110,
     "metadata": {},
     "output_type": "execute_result"
    }
   ],
   "source": [
    "# Arithmetic Operators ( Broadcasting )\n",
    "100 - marks_series"
   ]
  },
  {
   "cell_type": "code",
   "execution_count": 111,
   "id": "e9045a8d",
   "metadata": {
    "ExecuteTime": {
     "end_time": "2024-05-05T14:16:26.292952Z",
     "start_time": "2024-05-05T14:16:26.285643Z"
    }
   },
   "outputs": [
    {
     "data": {
      "text/plain": [
       "math       200\n",
       "science    200\n",
       "social     200\n",
       "telugu     175\n",
       "Name: karthik marks, dtype: int64"
      ]
     },
     "execution_count": 111,
     "metadata": {},
     "output_type": "execute_result"
    }
   ],
   "source": [
    "100 + marks_series"
   ]
  },
  {
   "cell_type": "code",
   "execution_count": 116,
   "id": "85e74e14",
   "metadata": {
    "ExecuteTime": {
     "end_time": "2024-05-05T14:17:41.610164Z",
     "start_time": "2024-05-05T14:17:41.601625Z"
    }
   },
   "outputs": [
    {
     "data": {
      "text/html": [
       "<div>\n",
       "<style scoped>\n",
       "    .dataframe tbody tr th:only-of-type {\n",
       "        vertical-align: middle;\n",
       "    }\n",
       "\n",
       "    .dataframe tbody tr th {\n",
       "        vertical-align: top;\n",
       "    }\n",
       "\n",
       "    .dataframe thead th {\n",
       "        text-align: right;\n",
       "    }\n",
       "</style>\n",
       "<table border=\"1\" class=\"dataframe\">\n",
       "  <thead>\n",
       "    <tr style=\"text-align: right;\">\n",
       "      <th></th>\n",
       "      <th>runs</th>\n",
       "    </tr>\n",
       "    <tr>\n",
       "      <th>match_no</th>\n",
       "      <th></th>\n",
       "    </tr>\n",
       "  </thead>\n",
       "  <tbody>\n",
       "    <tr>\n",
       "      <th>1</th>\n",
       "      <td>False</td>\n",
       "    </tr>\n",
       "    <tr>\n",
       "      <th>2</th>\n",
       "      <td>False</td>\n",
       "    </tr>\n",
       "    <tr>\n",
       "      <th>3</th>\n",
       "      <td>False</td>\n",
       "    </tr>\n",
       "    <tr>\n",
       "      <th>4</th>\n",
       "      <td>False</td>\n",
       "    </tr>\n",
       "    <tr>\n",
       "      <th>5</th>\n",
       "      <td>False</td>\n",
       "    </tr>\n",
       "    <tr>\n",
       "      <th>...</th>\n",
       "      <td>...</td>\n",
       "    </tr>\n",
       "    <tr>\n",
       "      <th>211</th>\n",
       "      <td>False</td>\n",
       "    </tr>\n",
       "    <tr>\n",
       "      <th>212</th>\n",
       "      <td>False</td>\n",
       "    </tr>\n",
       "    <tr>\n",
       "      <th>213</th>\n",
       "      <td>True</td>\n",
       "    </tr>\n",
       "    <tr>\n",
       "      <th>214</th>\n",
       "      <td>False</td>\n",
       "    </tr>\n",
       "    <tr>\n",
       "      <th>215</th>\n",
       "      <td>False</td>\n",
       "    </tr>\n",
       "  </tbody>\n",
       "</table>\n",
       "<p>215 rows × 1 columns</p>\n",
       "</div>"
      ],
      "text/plain": [
       "           runs\n",
       "match_no       \n",
       "1         False\n",
       "2         False\n",
       "3         False\n",
       "4         False\n",
       "5         False\n",
       "...         ...\n",
       "211       False\n",
       "212       False\n",
       "213        True\n",
       "214       False\n",
       "215       False\n",
       "\n",
       "[215 rows x 1 columns]"
      ]
     },
     "execution_count": 116,
     "metadata": {},
     "output_type": "execute_result"
    }
   ],
   "source": [
    "# Relational Opertors\n",
    "\n",
    "kohil >= 50"
   ]
  },
  {
   "cell_type": "markdown",
   "id": "a8ded9e5",
   "metadata": {},
   "source": [
    "# Boolean indexing on series"
   ]
  },
  {
   "cell_type": "code",
   "execution_count": 117,
   "id": "7db491ab",
   "metadata": {
    "ExecuteTime": {
     "end_time": "2024-05-05T14:20:25.955638Z",
     "start_time": "2024-05-05T14:20:25.945626Z"
    }
   },
   "outputs": [
    {
     "data": {
      "text/html": [
       "<div>\n",
       "<style scoped>\n",
       "    .dataframe tbody tr th:only-of-type {\n",
       "        vertical-align: middle;\n",
       "    }\n",
       "\n",
       "    .dataframe tbody tr th {\n",
       "        vertical-align: top;\n",
       "    }\n",
       "\n",
       "    .dataframe thead th {\n",
       "        text-align: right;\n",
       "    }\n",
       "</style>\n",
       "<table border=\"1\" class=\"dataframe\">\n",
       "  <thead>\n",
       "    <tr style=\"text-align: right;\">\n",
       "      <th></th>\n",
       "      <th>runs</th>\n",
       "    </tr>\n",
       "    <tr>\n",
       "      <th>match_no</th>\n",
       "      <th></th>\n",
       "    </tr>\n",
       "  </thead>\n",
       "  <tbody>\n",
       "    <tr>\n",
       "      <th>1</th>\n",
       "      <td>NaN</td>\n",
       "    </tr>\n",
       "    <tr>\n",
       "      <th>2</th>\n",
       "      <td>NaN</td>\n",
       "    </tr>\n",
       "    <tr>\n",
       "      <th>3</th>\n",
       "      <td>NaN</td>\n",
       "    </tr>\n",
       "    <tr>\n",
       "      <th>4</th>\n",
       "      <td>NaN</td>\n",
       "    </tr>\n",
       "    <tr>\n",
       "      <th>5</th>\n",
       "      <td>NaN</td>\n",
       "    </tr>\n",
       "    <tr>\n",
       "      <th>...</th>\n",
       "      <td>...</td>\n",
       "    </tr>\n",
       "    <tr>\n",
       "      <th>211</th>\n",
       "      <td>NaN</td>\n",
       "    </tr>\n",
       "    <tr>\n",
       "      <th>212</th>\n",
       "      <td>NaN</td>\n",
       "    </tr>\n",
       "    <tr>\n",
       "      <th>213</th>\n",
       "      <td>73.0</td>\n",
       "    </tr>\n",
       "    <tr>\n",
       "      <th>214</th>\n",
       "      <td>NaN</td>\n",
       "    </tr>\n",
       "    <tr>\n",
       "      <th>215</th>\n",
       "      <td>NaN</td>\n",
       "    </tr>\n",
       "  </tbody>\n",
       "</table>\n",
       "<p>215 rows × 1 columns</p>\n",
       "</div>"
      ],
      "text/plain": [
       "          runs\n",
       "match_no      \n",
       "1          NaN\n",
       "2          NaN\n",
       "3          NaN\n",
       "4          NaN\n",
       "5          NaN\n",
       "...        ...\n",
       "211        NaN\n",
       "212        NaN\n",
       "213       73.0\n",
       "214        NaN\n",
       "215        NaN\n",
       "\n",
       "[215 rows x 1 columns]"
      ]
     },
     "execution_count": 117,
     "metadata": {},
     "output_type": "execute_result"
    }
   ],
   "source": [
    "# find the 50's and 100's for kohil\n",
    "\n",
    "kohil[kohil >=50]"
   ]
  },
  {
   "cell_type": "markdown",
   "id": "c8ba5dca",
   "metadata": {},
   "source": [
    "# plotting "
   ]
  },
  {
   "cell_type": "code",
   "execution_count": 118,
   "id": "115bc5fa",
   "metadata": {
    "ExecuteTime": {
     "end_time": "2024-05-05T14:21:44.780097Z",
     "start_time": "2024-05-05T14:21:44.776442Z"
    }
   },
   "outputs": [],
   "source": [
    "import matplotlib.pyplot as plt"
   ]
  },
  {
   "cell_type": "code",
   "execution_count": 119,
   "id": "2bb37cca",
   "metadata": {
    "ExecuteTime": {
     "end_time": "2024-05-05T14:21:53.741342Z",
     "start_time": "2024-05-05T14:21:53.481562Z"
    }
   },
   "outputs": [
    {
     "data": {
      "text/plain": [
       "<Axes: >"
      ]
     },
     "execution_count": 119,
     "metadata": {},
     "output_type": "execute_result"
    },
    {
     "data": {
      "image/png": "[encoded data removed]",
      "text/plain": [
       "<Figure size 640x480 with 1 Axes>"
      ]
     },
     "metadata": {},
     "output_type": "display_data"
    }
   ],
   "source": [
    "subs.plot()"
   ]
  },
  {
   "cell_type": "code",
   "execution_count": 121,
   "id": "5bc9b3f2",
   "metadata": {
    "ExecuteTime": {
     "end_time": "2024-05-05T14:22:40.386928Z",
     "start_time": "2024-05-05T14:22:40.156341Z"
    }
   },
   "outputs": [
    {
     "data": {
      "text/plain": [
       "<Axes: xlabel='lead'>"
      ]
     },
     "execution_count": 121,
     "metadata": {},
     "output_type": "execute_result"
    },
    {
     "data": {
      "image/png": "[encoded data removed]",
      "text/plain": [
       "<Figure size 640x480 with 1 Axes>"
      ]
     },
     "metadata": {},
     "output_type": "display_data"
    }
   ],
   "source": [
    "movies.value_counts().head(20).plot(kind=\"bar\")"
   ]
  },
  {
   "cell_type": "code",
   "execution_count": 122,
   "id": "40afdef9",
   "metadata": {
    "ExecuteTime": {
     "end_time": "2024-05-05T14:23:07.198818Z",
     "start_time": "2024-05-05T14:23:06.979487Z"
    }
   },
   "outputs": [
    {
     "data": {
      "text/plain": [
       "<Axes: ylabel='count'>"
      ]
     },
     "execution_count": 122,
     "metadata": {},
     "output_type": "execute_result"
    },
    {
     "data": {
      "image/png": "[encoded data removed]",
      "text/plain": [
       "<Figure size 640x480 with 1 Axes>"
      ]
     },
     "metadata": {},
     "output_type": "display_data"
    }
   ],
   "source": [
    "movies.value_counts().head(20).plot(kind=\"pie\")"
   ]
  },
  {
   "cell_type": "code",
   "execution_count": null,
   "id": "d3277f5e",
   "metadata": {},
   "outputs": [],
   "source": []
  }
 ],
 "metadata": {
  "kernelspec": {
   "display_name": "Python 3 (ipykernel)",
   "language": "python",
   "name": "python3"
  },
  "language_info": {
   "codemirror_mode": {
    "name": "ipython",
    "version": 3
   },
   "file_extension": ".py",
   "mimetype": "text/x-python",
   "name": "python",
   "nbconvert_exporter": "python",
   "pygments_lexer": "ipython3",
   "version": "3.11.5"
  }
 },
 "nbformat": 4,
 "nbformat_minor": 5
}
