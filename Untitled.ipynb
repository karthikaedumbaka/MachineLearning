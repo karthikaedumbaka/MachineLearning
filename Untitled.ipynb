{
 "cells": [
  {
   "cell_type": "code",
   "execution_count": 1,
   "id": "a8f11b5e",
   "metadata": {
    "ExecuteTime": {
     "end_time": "2024-05-02T17:17:38.061182Z",
     "start_time": "2024-05-02T17:17:37.426800Z"
    }
   },
   "outputs": [],
   "source": [
    "import numpy as np\n",
    "import pandas as pd"
   ]
  },
  {
   "cell_type": "code",
   "execution_count": 22,
   "id": "69597561",
   "metadata": {
    "ExecuteTime": {
     "end_time": "2024-05-02T17:22:01.909870Z",
     "start_time": "2024-05-02T17:22:01.904951Z"
    }
   },
   "outputs": [],
   "source": [
    "marks={\n",
    "    \"math\":99,\n",
    "    \"science\":78,\n",
    "    \"social\":95\n",
    "}\n",
    "marks_series=pd.Series(marks,name=\"karthik marks\")"
   ]
  },
  {
   "cell_type": "code",
   "execution_count": 23,
   "id": "e225a2cc",
   "metadata": {
    "ExecuteTime": {
     "end_time": "2024-05-02T17:22:02.300076Z",
     "start_time": "2024-05-02T17:22:02.294316Z"
    }
   },
   "outputs": [
    {
     "data": {
      "text/plain": [
       "math       99\n",
       "science    78\n",
       "social     95\n",
       "Name: karthik marks, dtype: int64"
      ]
     },
     "execution_count": 23,
     "metadata": {},
     "output_type": "execute_result"
    }
   ],
   "source": [
    "marks_series"
   ]
  },
  {
   "cell_type": "code",
   "execution_count": 24,
   "id": "dabb4548",
   "metadata": {
    "ExecuteTime": {
     "end_time": "2024-05-02T17:22:02.515155Z",
     "start_time": "2024-05-02T17:22:02.511062Z"
    }
   },
   "outputs": [
    {
     "data": {
      "text/plain": [
       "{'math': 99, 'science': 78, 'social': 95}"
      ]
     },
     "execution_count": 24,
     "metadata": {},
     "output_type": "execute_result"
    }
   ],
   "source": [
    "# series Attributes\n",
    "\n",
    "marks"
   ]
  },
  {
   "cell_type": "code",
   "execution_count": 25,
   "id": "bd56c562",
   "metadata": {
    "ExecuteTime": {
     "end_time": "2024-05-02T17:22:02.666521Z",
     "start_time": "2024-05-02T17:22:02.661195Z"
    }
   },
   "outputs": [
    {
     "data": {
      "text/plain": [
       "3"
      ]
     },
     "execution_count": 25,
     "metadata": {},
     "output_type": "execute_result"
    }
   ],
   "source": [
    "marks_series.size"
   ]
  },
  {
   "cell_type": "code",
   "execution_count": 26,
   "id": "706038f5",
   "metadata": {
    "ExecuteTime": {
     "end_time": "2024-05-02T17:22:02.822142Z",
     "start_time": "2024-05-02T17:22:02.815890Z"
    }
   },
   "outputs": [
    {
     "data": {
      "text/plain": [
       "dtype('int64')"
      ]
     },
     "execution_count": 26,
     "metadata": {},
     "output_type": "execute_result"
    }
   ],
   "source": [
    "marks_series.dtypes"
   ]
  },
  {
   "cell_type": "code",
   "execution_count": 27,
   "id": "4484e979",
   "metadata": {
    "ExecuteTime": {
     "end_time": "2024-05-02T17:22:03.038348Z",
     "start_time": "2024-05-02T17:22:03.033009Z"
    }
   },
   "outputs": [
    {
     "data": {
      "text/plain": [
       "dtype('int64')"
      ]
     },
     "execution_count": 27,
     "metadata": {},
     "output_type": "execute_result"
    }
   ],
   "source": [
    "marks_series.dtype"
   ]
  },
  {
   "cell_type": "code",
   "execution_count": 28,
   "id": "b39c88fd",
   "metadata": {
    "ExecuteTime": {
     "end_time": "2024-05-02T17:22:03.538662Z",
     "start_time": "2024-05-02T17:22:03.533938Z"
    }
   },
   "outputs": [
    {
     "data": {
      "text/plain": [
       "<bound method Series.unique of math       99\n",
       "science    78\n",
       "social     95\n",
       "Name: karthik marks, dtype: int64>"
      ]
     },
     "execution_count": 28,
     "metadata": {},
     "output_type": "execute_result"
    }
   ],
   "source": [
    "marks_series.unique"
   ]
  },
  {
   "cell_type": "code",
   "execution_count": 29,
   "id": "7b0b8bb9",
   "metadata": {
    "ExecuteTime": {
     "end_time": "2024-05-02T17:22:11.577243Z",
     "start_time": "2024-05-02T17:22:11.572067Z"
    }
   },
   "outputs": [
    {
     "data": {
      "text/plain": [
       "'karthik marks'"
      ]
     },
     "execution_count": 29,
     "metadata": {},
     "output_type": "execute_result"
    }
   ],
   "source": [
    "marks_series.name"
   ]
  },
  {
   "cell_type": "code",
   "execution_count": 30,
   "id": "b3217ea9",
   "metadata": {
    "ExecuteTime": {
     "end_time": "2024-05-02T17:22:30.352702Z",
     "start_time": "2024-05-02T17:22:30.347914Z"
    }
   },
   "outputs": [
    {
     "data": {
      "text/plain": [
       "<bound method Series.count of math       99\n",
       "science    78\n",
       "social     95\n",
       "Name: karthik marks, dtype: int64>"
      ]
     },
     "execution_count": 30,
     "metadata": {},
     "output_type": "execute_result"
    }
   ],
   "source": [
    "marks_series.count"
   ]
  },
  {
   "cell_type": "code",
   "execution_count": 31,
   "id": "4ec1f05b",
   "metadata": {
    "ExecuteTime": {
     "end_time": "2024-05-02T17:22:53.604384Z",
     "start_time": "2024-05-02T17:22:53.599270Z"
    }
   },
   "outputs": [
    {
     "data": {
      "text/plain": [
       "Index(['math', 'science', 'social'], dtype='object')"
      ]
     },
     "execution_count": 31,
     "metadata": {},
     "output_type": "execute_result"
    }
   ],
   "source": [
    "marks_series.index"
   ]
  },
  {
   "cell_type": "code",
   "execution_count": 32,
   "id": "0da48601",
   "metadata": {
    "ExecuteTime": {
     "end_time": "2024-05-02T17:23:25.704667Z",
     "start_time": "2024-05-02T17:23:25.698523Z"
    }
   },
   "outputs": [
    {
     "data": {
      "text/plain": [
       "array([99, 78, 95], dtype=int64)"
      ]
     },
     "execution_count": 32,
     "metadata": {},
     "output_type": "execute_result"
    }
   ],
   "source": [
    "marks_series.values\n"
   ]
  },
  {
   "cell_type": "code",
   "execution_count": 34,
   "id": "b668e55f",
   "metadata": {
    "ExecuteTime": {
     "end_time": "2024-05-02T17:23:58.535348Z",
     "start_time": "2024-05-02T17:23:58.531394Z"
    }
   },
   "outputs": [
    {
     "data": {
      "text/plain": [
       "99"
      ]
     },
     "execution_count": 34,
     "metadata": {},
     "output_type": "execute_result"
    }
   ],
   "source": [
    "max(marks_series.values)"
   ]
  },
  {
   "cell_type": "markdown",
   "id": "3092fa5b",
   "metadata": {},
   "source": [
    "# Series using read_csv"
   ]
  },
  {
   "cell_type": "code",
   "execution_count": 40,
   "id": "b39bcb11",
   "metadata": {
    "ExecuteTime": {
     "end_time": "2024-05-02T17:53:23.407451Z",
     "start_time": "2024-05-02T17:53:23.402569Z"
    }
   },
   "outputs": [],
   "source": [
    "subs=pd.read_csv(r\"C:\\Users\\karth\\OneDrive\\Desktop\\ml\\ml by campusx\\datasets-session-16\\subs.csv\")"
   ]
  },
  {
   "cell_type": "code",
   "execution_count": 41,
   "id": "bdcb39e7",
   "metadata": {
    "ExecuteTime": {
     "end_time": "2024-05-02T17:53:49.993459Z",
     "start_time": "2024-05-02T17:53:49.988815Z"
    }
   },
   "outputs": [
    {
     "name": "stdout",
     "output_type": "stream",
     "text": [
      "<class 'pandas.core.frame.DataFrame'>\n"
     ]
    }
   ],
   "source": [
    "print(type(subs))"
   ]
  },
  {
   "cell_type": "code",
   "execution_count": 43,
   "id": "2a147745",
   "metadata": {
    "ExecuteTime": {
     "end_time": "2024-05-02T17:54:15.414540Z",
     "start_time": "2024-05-02T17:54:15.410363Z"
    }
   },
   "outputs": [
    {
     "name": "stdout",
     "output_type": "stream",
     "text": [
      "<class 'pandas.core.series.Series'>\n"
     ]
    }
   ],
   "source": [
    "subs=subs.squeeze()\n",
    "print(type(subs))"
   ]
  },
  {
   "cell_type": "code",
   "execution_count": 44,
   "id": "8416dacc",
   "metadata": {
    "ExecuteTime": {
     "end_time": "2024-05-02T17:55:31.108097Z",
     "start_time": "2024-05-02T17:55:31.101986Z"
    }
   },
   "outputs": [
    {
     "data": {
      "text/plain": [
       "0       48\n",
       "1       57\n",
       "2       40\n",
       "3       43\n",
       "4       44\n",
       "      ... \n",
       "360    231\n",
       "361    226\n",
       "362    155\n",
       "363    144\n",
       "364    172\n",
       "Name: Subscribers gained, Length: 365, dtype: int64"
      ]
     },
     "execution_count": 44,
     "metadata": {},
     "output_type": "execute_result"
    }
   ],
   "source": [
    "subs"
   ]
  },
  {
   "cell_type": "code",
   "execution_count": 75,
   "id": "7fa63ace",
   "metadata": {
    "ExecuteTime": {
     "end_time": "2024-05-02T18:08:23.680270Z",
     "start_time": "2024-05-02T18:08:23.674753Z"
    }
   },
   "outputs": [],
   "source": [
    "kohil=pd.read_csv(r\"C:\\Users\\karth\\OneDrive\\Desktop\\ml\\ml by campusx\\datasets-session-16\\kohli_ipl.csv\",index_col=\"match_no\")"
   ]
  },
  {
   "cell_type": "code",
   "execution_count": 76,
   "id": "60142027",
   "metadata": {
    "ExecuteTime": {
     "end_time": "2024-05-02T18:08:24.202014Z",
     "start_time": "2024-05-02T18:08:24.193781Z"
    }
   },
   "outputs": [
    {
     "data": {
      "text/html": [
       "<div>\n",
       "<style scoped>\n",
       "    .dataframe tbody tr th:only-of-type {\n",
       "        vertical-align: middle;\n",
       "    }\n",
       "\n",
       "    .dataframe tbody tr th {\n",
       "        vertical-align: top;\n",
       "    }\n",
       "\n",
       "    .dataframe thead th {\n",
       "        text-align: right;\n",
       "    }\n",
       "</style>\n",
       "<table border=\"1\" class=\"dataframe\">\n",
       "  <thead>\n",
       "    <tr style=\"text-align: right;\">\n",
       "      <th></th>\n",
       "      <th>runs</th>\n",
       "    </tr>\n",
       "    <tr>\n",
       "      <th>match_no</th>\n",
       "      <th></th>\n",
       "    </tr>\n",
       "  </thead>\n",
       "  <tbody>\n",
       "    <tr>\n",
       "      <th>1</th>\n",
       "      <td>1</td>\n",
       "    </tr>\n",
       "    <tr>\n",
       "      <th>2</th>\n",
       "      <td>23</td>\n",
       "    </tr>\n",
       "    <tr>\n",
       "      <th>3</th>\n",
       "      <td>13</td>\n",
       "    </tr>\n",
       "    <tr>\n",
       "      <th>4</th>\n",
       "      <td>12</td>\n",
       "    </tr>\n",
       "    <tr>\n",
       "      <th>5</th>\n",
       "      <td>1</td>\n",
       "    </tr>\n",
       "    <tr>\n",
       "      <th>...</th>\n",
       "      <td>...</td>\n",
       "    </tr>\n",
       "    <tr>\n",
       "      <th>211</th>\n",
       "      <td>0</td>\n",
       "    </tr>\n",
       "    <tr>\n",
       "      <th>212</th>\n",
       "      <td>20</td>\n",
       "    </tr>\n",
       "    <tr>\n",
       "      <th>213</th>\n",
       "      <td>73</td>\n",
       "    </tr>\n",
       "    <tr>\n",
       "      <th>214</th>\n",
       "      <td>25</td>\n",
       "    </tr>\n",
       "    <tr>\n",
       "      <th>215</th>\n",
       "      <td>7</td>\n",
       "    </tr>\n",
       "  </tbody>\n",
       "</table>\n",
       "<p>215 rows × 1 columns</p>\n",
       "</div>"
      ],
      "text/plain": [
       "          runs\n",
       "match_no      \n",
       "1            1\n",
       "2           23\n",
       "3           13\n",
       "4           12\n",
       "5            1\n",
       "...        ...\n",
       "211          0\n",
       "212         20\n",
       "213         73\n",
       "214         25\n",
       "215          7\n",
       "\n",
       "[215 rows x 1 columns]"
      ]
     },
     "execution_count": 76,
     "metadata": {},
     "output_type": "execute_result"
    }
   ],
   "source": [
    "kohil"
   ]
  },
  {
   "cell_type": "code",
   "execution_count": 77,
   "id": "34877ac7",
   "metadata": {
    "ExecuteTime": {
     "end_time": "2024-05-02T18:08:25.605195Z",
     "start_time": "2024-05-02T18:08:25.597211Z"
    }
   },
   "outputs": [],
   "source": [
    "movies=pd.read_csv(r\"C:\\Users\\karth\\OneDrive\\Desktop\\ml\\ml by campusx\\datasets-session-16\\bollywood.csv\",index_col=\"movie\")"
   ]
  },
  {
   "cell_type": "code",
   "execution_count": 78,
   "id": "f22b6fda",
   "metadata": {
    "ExecuteTime": {
     "end_time": "2024-05-02T18:08:26.332601Z",
     "start_time": "2024-05-02T18:08:26.325111Z"
    }
   },
   "outputs": [
    {
     "data": {
      "text/html": [
       "<div>\n",
       "<style scoped>\n",
       "    .dataframe tbody tr th:only-of-type {\n",
       "        vertical-align: middle;\n",
       "    }\n",
       "\n",
       "    .dataframe tbody tr th {\n",
       "        vertical-align: top;\n",
       "    }\n",
       "\n",
       "    .dataframe thead th {\n",
       "        text-align: right;\n",
       "    }\n",
       "</style>\n",
       "<table border=\"1\" class=\"dataframe\">\n",
       "  <thead>\n",
       "    <tr style=\"text-align: right;\">\n",
       "      <th></th>\n",
       "      <th>lead</th>\n",
       "    </tr>\n",
       "    <tr>\n",
       "      <th>movie</th>\n",
       "      <th></th>\n",
       "    </tr>\n",
       "  </thead>\n",
       "  <tbody>\n",
       "    <tr>\n",
       "      <th>Uri: The Surgical Strike</th>\n",
       "      <td>Vicky Kaushal</td>\n",
       "    </tr>\n",
       "    <tr>\n",
       "      <th>Battalion 609</th>\n",
       "      <td>Vicky Ahuja</td>\n",
       "    </tr>\n",
       "    <tr>\n",
       "      <th>The Accidental Prime Minister (film)</th>\n",
       "      <td>Anupam Kher</td>\n",
       "    </tr>\n",
       "    <tr>\n",
       "      <th>Why Cheat India</th>\n",
       "      <td>Emraan Hashmi</td>\n",
       "    </tr>\n",
       "    <tr>\n",
       "      <th>Evening Shadows</th>\n",
       "      <td>Mona Ambegaonkar</td>\n",
       "    </tr>\n",
       "    <tr>\n",
       "      <th>...</th>\n",
       "      <td>...</td>\n",
       "    </tr>\n",
       "    <tr>\n",
       "      <th>Hum Tumhare Hain Sanam</th>\n",
       "      <td>Shah Rukh Khan</td>\n",
       "    </tr>\n",
       "    <tr>\n",
       "      <th>Aankhen (2002 film)</th>\n",
       "      <td>Amitabh Bachchan</td>\n",
       "    </tr>\n",
       "    <tr>\n",
       "      <th>Saathiya (film)</th>\n",
       "      <td>Vivek Oberoi</td>\n",
       "    </tr>\n",
       "    <tr>\n",
       "      <th>Company (film)</th>\n",
       "      <td>Ajay Devgn</td>\n",
       "    </tr>\n",
       "    <tr>\n",
       "      <th>Awara Paagal Deewana</th>\n",
       "      <td>Akshay Kumar</td>\n",
       "    </tr>\n",
       "  </tbody>\n",
       "</table>\n",
       "<p>1500 rows × 1 columns</p>\n",
       "</div>"
      ],
      "text/plain": [
       "                                                  lead\n",
       "movie                                                 \n",
       "Uri: The Surgical Strike                 Vicky Kaushal\n",
       "Battalion 609                              Vicky Ahuja\n",
       "The Accidental Prime Minister (film)       Anupam Kher\n",
       "Why Cheat India                          Emraan Hashmi\n",
       "Evening Shadows                       Mona Ambegaonkar\n",
       "...                                                ...\n",
       "Hum Tumhare Hain Sanam                  Shah Rukh Khan\n",
       "Aankhen (2002 film)                   Amitabh Bachchan\n",
       "Saathiya (film)                           Vivek Oberoi\n",
       "Company (film)                              Ajay Devgn\n",
       "Awara Paagal Deewana                      Akshay Kumar\n",
       "\n",
       "[1500 rows x 1 columns]"
      ]
     },
     "execution_count": 78,
     "metadata": {},
     "output_type": "execute_result"
    }
   ],
   "source": [
    "movies"
   ]
  },
  {
   "cell_type": "markdown",
   "id": "724b3c09",
   "metadata": {
    "ExecuteTime": {
     "end_time": "2024-05-02T17:58:11.372982Z",
     "start_time": "2024-05-02T17:58:11.369283Z"
    }
   },
   "source": [
    "# series methods"
   ]
  },
  {
   "cell_type": "code",
   "execution_count": 79,
   "id": "ee14787c",
   "metadata": {
    "ExecuteTime": {
     "end_time": "2024-05-02T18:08:26.680818Z",
     "start_time": "2024-05-02T18:08:26.674547Z"
    }
   },
   "outputs": [
    {
     "data": {
      "text/plain": [
       "0    48\n",
       "1    57\n",
       "2    40\n",
       "3    43\n",
       "4    44\n",
       "Name: Subscribers gained, dtype: int64"
      ]
     },
     "execution_count": 79,
     "metadata": {},
     "output_type": "execute_result"
    }
   ],
   "source": [
    "subs.head()"
   ]
  },
  {
   "cell_type": "code",
   "execution_count": 80,
   "id": "560f826c",
   "metadata": {
    "ExecuteTime": {
     "end_time": "2024-05-02T18:08:26.838348Z",
     "start_time": "2024-05-02T18:08:26.832061Z"
    }
   },
   "outputs": [
    {
     "data": {
      "text/plain": [
       "0    48\n",
       "1    57\n",
       "2    40\n",
       "3    43\n",
       "4    44\n",
       "5    46\n",
       "6    33\n",
       "7    40\n",
       "Name: Subscribers gained, dtype: int64"
      ]
     },
     "execution_count": 80,
     "metadata": {},
     "output_type": "execute_result"
    }
   ],
   "source": [
    "subs.head(8)"
   ]
  },
  {
   "cell_type": "code",
   "execution_count": 81,
   "id": "4ee434b2",
   "metadata": {
    "ExecuteTime": {
     "end_time": "2024-05-02T18:08:27.018041Z",
     "start_time": "2024-05-02T18:08:27.011777Z"
    }
   },
   "outputs": [
    {
     "data": {
      "text/html": [
       "<div>\n",
       "<style scoped>\n",
       "    .dataframe tbody tr th:only-of-type {\n",
       "        vertical-align: middle;\n",
       "    }\n",
       "\n",
       "    .dataframe tbody tr th {\n",
       "        vertical-align: top;\n",
       "    }\n",
       "\n",
       "    .dataframe thead th {\n",
       "        text-align: right;\n",
       "    }\n",
       "</style>\n",
       "<table border=\"1\" class=\"dataframe\">\n",
       "  <thead>\n",
       "    <tr style=\"text-align: right;\">\n",
       "      <th></th>\n",
       "      <th>runs</th>\n",
       "    </tr>\n",
       "    <tr>\n",
       "      <th>match_no</th>\n",
       "      <th></th>\n",
       "    </tr>\n",
       "  </thead>\n",
       "  <tbody>\n",
       "    <tr>\n",
       "      <th>212</th>\n",
       "      <td>20</td>\n",
       "    </tr>\n",
       "    <tr>\n",
       "      <th>213</th>\n",
       "      <td>73</td>\n",
       "    </tr>\n",
       "    <tr>\n",
       "      <th>214</th>\n",
       "      <td>25</td>\n",
       "    </tr>\n",
       "    <tr>\n",
       "      <th>215</th>\n",
       "      <td>7</td>\n",
       "    </tr>\n",
       "  </tbody>\n",
       "</table>\n",
       "</div>"
      ],
      "text/plain": [
       "          runs\n",
       "match_no      \n",
       "212         20\n",
       "213         73\n",
       "214         25\n",
       "215          7"
      ]
     },
     "execution_count": 81,
     "metadata": {},
     "output_type": "execute_result"
    }
   ],
   "source": [
    "kohil.tail(4)"
   ]
  },
  {
   "cell_type": "code",
   "execution_count": 82,
   "id": "ef2c1a5f",
   "metadata": {
    "ExecuteTime": {
     "end_time": "2024-05-02T18:08:27.196675Z",
     "start_time": "2024-05-02T18:08:27.188326Z"
    }
   },
   "outputs": [
    {
     "data": {
      "text/html": [
       "<div>\n",
       "<style scoped>\n",
       "    .dataframe tbody tr th:only-of-type {\n",
       "        vertical-align: middle;\n",
       "    }\n",
       "\n",
       "    .dataframe tbody tr th {\n",
       "        vertical-align: top;\n",
       "    }\n",
       "\n",
       "    .dataframe thead th {\n",
       "        text-align: right;\n",
       "    }\n",
       "</style>\n",
       "<table border=\"1\" class=\"dataframe\">\n",
       "  <thead>\n",
       "    <tr style=\"text-align: right;\">\n",
       "      <th></th>\n",
       "      <th>runs</th>\n",
       "    </tr>\n",
       "    <tr>\n",
       "      <th>match_no</th>\n",
       "      <th></th>\n",
       "    </tr>\n",
       "  </thead>\n",
       "  <tbody>\n",
       "    <tr>\n",
       "      <th>5</th>\n",
       "      <td>1</td>\n",
       "    </tr>\n",
       "    <tr>\n",
       "      <th>119</th>\n",
       "      <td>80</td>\n",
       "    </tr>\n",
       "    <tr>\n",
       "      <th>49</th>\n",
       "      <td>15</td>\n",
       "    </tr>\n",
       "    <tr>\n",
       "      <th>102</th>\n",
       "      <td>18</td>\n",
       "    </tr>\n",
       "    <tr>\n",
       "      <th>29</th>\n",
       "      <td>24</td>\n",
       "    </tr>\n",
       "  </tbody>\n",
       "</table>\n",
       "</div>"
      ],
      "text/plain": [
       "          runs\n",
       "match_no      \n",
       "5            1\n",
       "119         80\n",
       "49          15\n",
       "102         18\n",
       "29          24"
      ]
     },
     "execution_count": 82,
     "metadata": {},
     "output_type": "execute_result"
    }
   ],
   "source": [
    "kohil.sample(5)"
   ]
  },
  {
   "cell_type": "code",
   "execution_count": 83,
   "id": "0e1d7464",
   "metadata": {
    "ExecuteTime": {
     "end_time": "2024-05-02T18:08:27.368439Z",
     "start_time": "2024-05-02T18:08:27.360378Z"
    }
   },
   "outputs": [
    {
     "data": {
      "text/plain": [
       "lead            \n",
       "Akshay Kumar        48\n",
       "Amitabh Bachchan    45\n",
       "Ajay Devgn          38\n",
       "Salman Khan         31\n",
       "Sanjay Dutt         26\n",
       "                    ..\n",
       "Kashmira Shah        1\n",
       "Kartik Elangovan     1\n",
       "Karisma Kapoor       1\n",
       "Karan Sharma         1\n",
       "Zulfi Sayed          1\n",
       "Name: count, Length: 566, dtype: int64"
      ]
     },
     "execution_count": 83,
     "metadata": {},
     "output_type": "execute_result"
    }
   ],
   "source": [
    "movies.value_counts()"
   ]
  },
  {
   "cell_type": "code",
   "execution_count": 84,
   "id": "e5a9166f",
   "metadata": {
    "ExecuteTime": {
     "end_time": "2024-05-02T18:08:27.536464Z",
     "start_time": "2024-05-02T18:08:27.529906Z"
    }
   },
   "outputs": [
    {
     "data": {
      "text/html": [
       "<div>\n",
       "<style scoped>\n",
       "    .dataframe tbody tr th:only-of-type {\n",
       "        vertical-align: middle;\n",
       "    }\n",
       "\n",
       "    .dataframe tbody tr th {\n",
       "        vertical-align: top;\n",
       "    }\n",
       "\n",
       "    .dataframe thead th {\n",
       "        text-align: right;\n",
       "    }\n",
       "</style>\n",
       "<table border=\"1\" class=\"dataframe\">\n",
       "  <thead>\n",
       "    <tr style=\"text-align: right;\">\n",
       "      <th></th>\n",
       "      <th>runs</th>\n",
       "    </tr>\n",
       "    <tr>\n",
       "      <th>match_no</th>\n",
       "      <th></th>\n",
       "    </tr>\n",
       "  </thead>\n",
       "  <tbody>\n",
       "    <tr>\n",
       "      <th>128</th>\n",
       "      <td>113</td>\n",
       "    </tr>\n",
       "    <tr>\n",
       "      <th>126</th>\n",
       "      <td>109</td>\n",
       "    </tr>\n",
       "    <tr>\n",
       "      <th>123</th>\n",
       "      <td>108</td>\n",
       "    </tr>\n",
       "  </tbody>\n",
       "</table>\n",
       "</div>"
      ],
      "text/plain": [
       "          runs\n",
       "match_no      \n",
       "128        113\n",
       "126        109\n",
       "123        108"
      ]
     },
     "execution_count": 84,
     "metadata": {},
     "output_type": "execute_result"
    }
   ],
   "source": [
    "kohil.sort_values(\"runs\",ascending=False).head(3)"
   ]
  },
  {
   "cell_type": "markdown",
   "id": "d2dba3ec",
   "metadata": {},
   "source": [
    "# Series Math Methons\n"
   ]
  },
  {
   "cell_type": "code",
   "execution_count": 85,
   "id": "8388d653",
   "metadata": {
    "ExecuteTime": {
     "end_time": "2024-05-02T18:08:28.246033Z",
     "start_time": "2024-05-02T18:08:28.238426Z"
    }
   },
   "outputs": [
    {
     "data": {
      "text/plain": [
       "runs    215\n",
       "dtype: int64"
      ]
     },
     "execution_count": 85,
     "metadata": {},
     "output_type": "execute_result"
    }
   ],
   "source": [
    "kohil.count()"
   ]
  },
  {
   "cell_type": "code",
   "execution_count": 86,
   "id": "86364955",
   "metadata": {
    "ExecuteTime": {
     "end_time": "2024-05-02T18:08:28.550922Z",
     "start_time": "2024-05-02T18:08:28.544994Z"
    }
   },
   "outputs": [
    {
     "data": {
      "text/plain": [
       "runs    6634\n",
       "dtype: int64"
      ]
     },
     "execution_count": 86,
     "metadata": {},
     "output_type": "execute_result"
    }
   ],
   "source": [
    "kohil.sum()"
   ]
  },
  {
   "cell_type": "code",
   "execution_count": 87,
   "id": "583160f1",
   "metadata": {
    "ExecuteTime": {
     "end_time": "2024-05-02T18:08:29.012278Z",
     "start_time": "2024-05-02T18:08:29.007116Z"
    }
   },
   "outputs": [
    {
     "data": {
      "text/plain": [
       "135.64383561643837"
      ]
     },
     "execution_count": 87,
     "metadata": {},
     "output_type": "execute_result"
    }
   ],
   "source": [
    "subs.mean()"
   ]
  },
  {
   "cell_type": "code",
   "execution_count": 88,
   "id": "24a25401",
   "metadata": {
    "ExecuteTime": {
     "end_time": "2024-05-02T18:08:29.763094Z",
     "start_time": "2024-05-02T18:08:29.756401Z"
    }
   },
   "outputs": [
    {
     "data": {
      "text/plain": [
       "runs    24.0\n",
       "dtype: float64"
      ]
     },
     "execution_count": 88,
     "metadata": {},
     "output_type": "execute_result"
    }
   ],
   "source": [
    "kohil.median()"
   ]
  },
  {
   "cell_type": "code",
   "execution_count": 89,
   "id": "5085c056",
   "metadata": {
    "ExecuteTime": {
     "end_time": "2024-05-02T18:08:48.126730Z",
     "start_time": "2024-05-02T18:08:48.119105Z"
    }
   },
   "outputs": [
    {
     "data": {
      "text/html": [
       "<div>\n",
       "<style scoped>\n",
       "    .dataframe tbody tr th:only-of-type {\n",
       "        vertical-align: middle;\n",
       "    }\n",
       "\n",
       "    .dataframe tbody tr th {\n",
       "        vertical-align: top;\n",
       "    }\n",
       "\n",
       "    .dataframe thead th {\n",
       "        text-align: right;\n",
       "    }\n",
       "</style>\n",
       "<table border=\"1\" class=\"dataframe\">\n",
       "  <thead>\n",
       "    <tr style=\"text-align: right;\">\n",
       "      <th></th>\n",
       "      <th>runs</th>\n",
       "    </tr>\n",
       "  </thead>\n",
       "  <tbody>\n",
       "    <tr>\n",
       "      <th>0</th>\n",
       "      <td>0</td>\n",
       "    </tr>\n",
       "  </tbody>\n",
       "</table>\n",
       "</div>"
      ],
      "text/plain": [
       "   runs\n",
       "0     0"
      ]
     },
     "execution_count": 89,
     "metadata": {},
     "output_type": "execute_result"
    }
   ],
   "source": [
    "kohil.mode()"
   ]
  },
  {
   "cell_type": "code",
   "execution_count": 90,
   "id": "8a0508bd",
   "metadata": {
    "ExecuteTime": {
     "end_time": "2024-05-02T18:09:05.262880Z",
     "start_time": "2024-05-02T18:09:05.256806Z"
    }
   },
   "outputs": [
    {
     "data": {
      "text/plain": [
       "runs    26.229801\n",
       "dtype: float64"
      ]
     },
     "execution_count": 90,
     "metadata": {},
     "output_type": "execute_result"
    }
   ],
   "source": [
    "kohil.std()"
   ]
  },
  {
   "cell_type": "code",
   "execution_count": 91,
   "id": "810daa1c",
   "metadata": {
    "ExecuteTime": {
     "end_time": "2024-05-02T18:09:18.210987Z",
     "start_time": "2024-05-02T18:09:18.204461Z"
    }
   },
   "outputs": [
    {
     "data": {
      "text/plain": [
       "runs    688.002478\n",
       "dtype: float64"
      ]
     },
     "execution_count": 91,
     "metadata": {},
     "output_type": "execute_result"
    }
   ],
   "source": [
    "kohil.var()"
   ]
  },
  {
   "cell_type": "code",
   "execution_count": 92,
   "id": "d0c3adad",
   "metadata": {
    "ExecuteTime": {
     "end_time": "2024-05-02T18:09:32.643084Z",
     "start_time": "2024-05-02T18:09:32.637568Z"
    }
   },
   "outputs": [
    {
     "data": {
      "text/plain": [
       "396"
      ]
     },
     "execution_count": 92,
     "metadata": {},
     "output_type": "execute_result"
    }
   ],
   "source": [
    "subs.max()"
   ]
  },
  {
   "cell_type": "code",
   "execution_count": 94,
   "id": "bff4aa50",
   "metadata": {
    "ExecuteTime": {
     "end_time": "2024-05-02T18:09:42.559848Z",
     "start_time": "2024-05-02T18:09:42.555374Z"
    }
   },
   "outputs": [
    {
     "data": {
      "text/plain": [
       "33"
      ]
     },
     "execution_count": 94,
     "metadata": {},
     "output_type": "execute_result"
    }
   ],
   "source": [
    "subs.min()"
   ]
  },
  {
   "cell_type": "code",
   "execution_count": 96,
   "id": "38f6d5c8",
   "metadata": {
    "ExecuteTime": {
     "end_time": "2024-05-02T18:10:13.798708Z",
     "start_time": "2024-05-02T18:10:13.786663Z"
    }
   },
   "outputs": [
    {
     "data": {
      "text/html": [
       "<div>\n",
       "<style scoped>\n",
       "    .dataframe tbody tr th:only-of-type {\n",
       "        vertical-align: middle;\n",
       "    }\n",
       "\n",
       "    .dataframe tbody tr th {\n",
       "        vertical-align: top;\n",
       "    }\n",
       "\n",
       "    .dataframe thead th {\n",
       "        text-align: right;\n",
       "    }\n",
       "</style>\n",
       "<table border=\"1\" class=\"dataframe\">\n",
       "  <thead>\n",
       "    <tr style=\"text-align: right;\">\n",
       "      <th></th>\n",
       "      <th>runs</th>\n",
       "    </tr>\n",
       "  </thead>\n",
       "  <tbody>\n",
       "    <tr>\n",
       "      <th>count</th>\n",
       "      <td>215.000000</td>\n",
       "    </tr>\n",
       "    <tr>\n",
       "      <th>mean</th>\n",
       "      <td>30.855814</td>\n",
       "    </tr>\n",
       "    <tr>\n",
       "      <th>std</th>\n",
       "      <td>26.229801</td>\n",
       "    </tr>\n",
       "    <tr>\n",
       "      <th>min</th>\n",
       "      <td>0.000000</td>\n",
       "    </tr>\n",
       "    <tr>\n",
       "      <th>25%</th>\n",
       "      <td>9.000000</td>\n",
       "    </tr>\n",
       "    <tr>\n",
       "      <th>50%</th>\n",
       "      <td>24.000000</td>\n",
       "    </tr>\n",
       "    <tr>\n",
       "      <th>75%</th>\n",
       "      <td>48.000000</td>\n",
       "    </tr>\n",
       "    <tr>\n",
       "      <th>max</th>\n",
       "      <td>113.000000</td>\n",
       "    </tr>\n",
       "  </tbody>\n",
       "</table>\n",
       "</div>"
      ],
      "text/plain": [
       "             runs\n",
       "count  215.000000\n",
       "mean    30.855814\n",
       "std     26.229801\n",
       "min      0.000000\n",
       "25%      9.000000\n",
       "50%     24.000000\n",
       "75%     48.000000\n",
       "max    113.000000"
      ]
     },
     "execution_count": 96,
     "metadata": {},
     "output_type": "execute_result"
    }
   ],
   "source": [
    "kohil.describe()"
   ]
  },
  {
   "cell_type": "code",
   "execution_count": null,
   "id": "704ae860",
   "metadata": {
    "ExecuteTime": {
     "end_time": "2024-05-02T18:10:25.314978Z",
     "start_time": "2024-05-02T18:10:25.308984Z"
    }
   },
   "outputs": [],
   "source": []
  },
  {
   "cell_type": "code",
   "execution_count": null,
   "id": "5f968695",
   "metadata": {},
   "outputs": [],
   "source": []
  }
 ],
 "metadata": {
  "kernelspec": {
   "display_name": "Python 3 (ipykernel)",
   "language": "python",
   "name": "python3"
  },
  "language_info": {
   "codemirror_mode": {
    "name": "ipython",
    "version": 3
   },
   "file_extension": ".py",
   "mimetype": "text/x-python",
   "name": "python",
   "nbconvert_exporter": "python",
   "pygments_lexer": "ipython3",
   "version": "3.11.5"
  }
 },
 "nbformat": 4,
 "nbformat_minor": 5
}
